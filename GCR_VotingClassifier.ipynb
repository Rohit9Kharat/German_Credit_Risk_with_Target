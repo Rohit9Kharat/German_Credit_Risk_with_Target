{
 "cells": [
  {
   "cell_type": "markdown",
   "metadata": {},
   "source": [
    "<h1>**Voting Classifier on German Credit Risk data set**</h1>"
   ]
  },
  {
   "cell_type": "markdown",
   "metadata": {},
   "source": [
    "# Tables of Content:\n",
    "\n",
    "**1. [Introduction](#intro_vc)** <br>\n",
    "    - Information about the data set <br>\n",
    "**2. [Reason for using this model](#reasons_vc)** <br>\n",
    "    - The purpose of this specific model <br>\n",
    "**3. [Libraries](#libraries_vc)** <br>\n",
    "    - Importing Libraries <br>\n",
    "    - Importing Dataset <br>\n",
    "**4. [Preprocess](#preprocessing_vc)** <br>\n",
    "    - 4.1 Separating feature and target variables <br>\n",
    "    - 4.2 [Feature Selection](#feature_selection_vc)<br>\n",
    "    - 4.3 [Spliting the X and Y in train and test](#split_vc)<br>\n",
    "**5. [Models](#modelling_vc)**<br>\n",
    "    - 5.1 Voting Classifier<br>\n",
    "    - 5.2 [Metrics](#metrics_vc)<br>\n",
    "    - 5.3 [Confusion Matrix and Classification Report](#conmat_vc)<br>\n",
    "    - 5.4 ROC curve and Precision Recall curve<br>\n",
    "**6. [Conclusion and Benefits of the model](#summary_vc)** <br>\n",
    "    The summary of the model implementation"
   ]
  },
  {
   "cell_type": "markdown",
   "metadata": {},
   "source": [
    "<a id=\"intro_vc\"></a> <br>\n",
    "# **1. Introduction:** \n",
    "<h2>Context</h2>\n",
    "The original dataset contains 1000 entries with 9 feature variables. In this dataset, each entry represents a person who takes a credit by a bank. Each person is classified as good or bad credit risks according to the set of attributes.\n",
    "\n",
    "<h2>Content</h2>\n",
    "I have cleaned and preprocessed the data already and also I have created a more relevant feature from two of the most important feature in the data set i.e. Credit amount and Duration. The preprocessed data set is already saved in a CSV file and we are going to use that file for our model training and testing purposes. The selected variables from the orginal data set are:\n",
    "\n",
    "<b>Age </b>(numeric)<br>\n",
    "<b>Sex </b>(text: male, female)<br>\n",
    "<b>Job </b>(numeric: 0 - unskilled and non-resident, 1 - unskilled and resident, 2 - skilled, 3 - highly skilled)<br>\n",
    "<b>Housing</b> (text: own, rent, or free)<br>\n",
    "<b>Saving accounts</b> (text - little, moderate, quite rich, rich)<br>\n",
    "<b>Checking account </b>(numeric, in DM - Deutsch Mark)<br>\n",
    "<b>Credit amount</b> (numeric, in DM)<br>\n",
    "<b>Duration</b> (numeric, in month)<br>\n",
    "<b>Purpose</b>(text: car, furniture/equipment, radio/TV, domestic appliances, repairs, education, business, vacation/others<br>\n",
    "<b>Risk </b> (Value target - Good or Bad Risk)<br>"
   ]
  },
  {
   "cell_type": "markdown",
   "metadata": {},
   "source": [
    "<a id=\"resons_vc\"></a> <br>\n",
    "# **2. Reason for using this model**\n",
    "<h2>Our goal is to: </h2>\n",
    "\n",
    "- Implement stacking alogorithm like VotingClassifier (in which, we are going to stack LogisticClassifier with l2 penalty and GradientBoostingClassifier.\n",
    "- Moreover, we are going to assess various metrics for these models and plot area-under-curve and precision-recall curve.\n",
    "- We are going to estimate the best estimator i.e. the best hyperparameters for our models.\n",
    "- False Positive Rate are calculated using confusion matrix to better understand the potentiality of losses which will incur due to giving loans to the person who will default."
   ]
  },
  {
   "cell_type": "markdown",
   "metadata": {},
   "source": [
    "<a id=\"libraries_vc\"></a> <br>\n",
    "# **3. Libraries**"
   ]
  },
  {
   "cell_type": "markdown",
   "metadata": {},
   "source": [
    "### Imports"
   ]
  },
  {
   "cell_type": "code",
   "execution_count": 1,
   "metadata": {},
   "outputs": [],
   "source": [
    "import numpy as np\n",
    "from numpy import mean\n",
    "from numpy import std\n",
    "import pandas as pd\n",
    "\n",
    "from scipy import stats \n",
    "import math\n",
    "\n",
    "import matplotlib.pyplot as plt\n",
    "import seaborn as sns\n",
    "\n",
    "from sklearn.linear_model import LogisticRegression\n",
    "from sklearn.linear_model import Perceptron\n",
    "from sklearn.tree import DecisionTreeClassifier\n",
    "from sklearn.ensemble import RandomForestClassifier\n",
    "from sklearn.ensemble import GradientBoostingClassifier\n",
    "from sklearn.ensemble import AdaBoostClassifier\n",
    "from xgboost import XGBClassifier\n",
    "from sklearn.ensemble import VotingClassifier\n",
    "from sklearn.model_selection import GridSearchCV\n",
    "\n",
    "from sklearn.metrics import precision_recall_fscore_support as score\n",
    "from sklearn.metrics import confusion_matrix, accuracy_score, roc_auc_score, classification_report, f1_score, precision_score, recall_score\n",
    "from sklearn.metrics import roc_curve, precision_recall_curve\n",
    "from sklearn.preprocessing import label_binarize\n",
    "\n",
    "from sklearn.feature_selection import SelectKBest\n",
    "from sklearn.feature_selection import chi2\n",
    "from sklearn.model_selection import cross_val_score\n",
    "from sklearn.model_selection import RepeatedStratifiedKFold\n",
    "from sklearn.feature_selection import RFE\n",
    "from sklearn.pipeline import Pipeline\n",
    "\n",
    "from colorsetup import colors, palette"
   ]
  },
  {
   "cell_type": "markdown",
   "metadata": {},
   "source": [
    "### Read the Data"
   ]
  },
  {
   "cell_type": "code",
   "execution_count": 2,
   "metadata": {},
   "outputs": [],
   "source": [
    "gcr_data = pd.read_csv(\"gcr_data_imputed2.csv\")\n",
    "#gcr_data = pd.read_csv(\"gcr_data_imputed.csv\")\n",
    "#gcr_data = pd.read_csv(\"gcr_processed.csv\")"
   ]
  },
  {
   "cell_type": "code",
   "execution_count": 3,
   "metadata": {},
   "outputs": [
    {
     "data": {
      "text/html": [
       "<div>\n",
       "<style scoped>\n",
       "    .dataframe tbody tr th:only-of-type {\n",
       "        vertical-align: middle;\n",
       "    }\n",
       "\n",
       "    .dataframe tbody tr th {\n",
       "        vertical-align: top;\n",
       "    }\n",
       "\n",
       "    .dataframe thead th {\n",
       "        text-align: right;\n",
       "    }\n",
       "</style>\n",
       "<table border=\"1\" class=\"dataframe\">\n",
       "  <thead>\n",
       "    <tr style=\"text-align: right;\">\n",
       "      <th></th>\n",
       "      <th>Age</th>\n",
       "      <th>Sex</th>\n",
       "      <th>Job</th>\n",
       "      <th>Credit amount</th>\n",
       "      <th>Duration</th>\n",
       "      <th>Housing_free</th>\n",
       "      <th>Housing_own</th>\n",
       "      <th>Housing_rent</th>\n",
       "      <th>Saving accounts_little</th>\n",
       "      <th>Saving accounts_moderate</th>\n",
       "      <th>...</th>\n",
       "      <th>Checking account_rich</th>\n",
       "      <th>Purpose_business</th>\n",
       "      <th>Purpose_car</th>\n",
       "      <th>Purpose_domestic appliances</th>\n",
       "      <th>Purpose_education</th>\n",
       "      <th>Purpose_furniture/equipment</th>\n",
       "      <th>Purpose_radio/TV</th>\n",
       "      <th>Purpose_repairs</th>\n",
       "      <th>Purpose_vacation/others</th>\n",
       "      <th>Risk</th>\n",
       "    </tr>\n",
       "  </thead>\n",
       "  <tbody>\n",
       "    <tr>\n",
       "      <th>0</th>\n",
       "      <td>4.219508</td>\n",
       "      <td>0.693147</td>\n",
       "      <td>2</td>\n",
       "      <td>7.064759</td>\n",
       "      <td>1.945910</td>\n",
       "      <td>0.0000</td>\n",
       "      <td>0.6934</td>\n",
       "      <td>0.0</td>\n",
       "      <td>0</td>\n",
       "      <td>0.0</td>\n",
       "      <td>...</td>\n",
       "      <td>0.0</td>\n",
       "      <td>0.0</td>\n",
       "      <td>0</td>\n",
       "      <td>0.0</td>\n",
       "      <td>0.0000</td>\n",
       "      <td>0.0000</td>\n",
       "      <td>0.6934</td>\n",
       "      <td>0.0</td>\n",
       "      <td>0.0</td>\n",
       "      <td>1</td>\n",
       "    </tr>\n",
       "    <tr>\n",
       "      <th>1</th>\n",
       "      <td>3.135494</td>\n",
       "      <td>0.000000</td>\n",
       "      <td>2</td>\n",
       "      <td>8.691483</td>\n",
       "      <td>3.891820</td>\n",
       "      <td>0.0000</td>\n",
       "      <td>0.6934</td>\n",
       "      <td>0.0</td>\n",
       "      <td>1</td>\n",
       "      <td>0.0</td>\n",
       "      <td>...</td>\n",
       "      <td>0.0</td>\n",
       "      <td>0.0</td>\n",
       "      <td>0</td>\n",
       "      <td>0.0</td>\n",
       "      <td>0.0000</td>\n",
       "      <td>0.0000</td>\n",
       "      <td>0.6934</td>\n",
       "      <td>0.0</td>\n",
       "      <td>0.0</td>\n",
       "      <td>0</td>\n",
       "    </tr>\n",
       "    <tr>\n",
       "      <th>2</th>\n",
       "      <td>3.912023</td>\n",
       "      <td>0.693147</td>\n",
       "      <td>1</td>\n",
       "      <td>7.648263</td>\n",
       "      <td>2.564949</td>\n",
       "      <td>0.0000</td>\n",
       "      <td>0.6934</td>\n",
       "      <td>0.0</td>\n",
       "      <td>1</td>\n",
       "      <td>0.0</td>\n",
       "      <td>...</td>\n",
       "      <td>0.0</td>\n",
       "      <td>0.0</td>\n",
       "      <td>0</td>\n",
       "      <td>0.0</td>\n",
       "      <td>0.6934</td>\n",
       "      <td>0.0000</td>\n",
       "      <td>0.0000</td>\n",
       "      <td>0.0</td>\n",
       "      <td>0.0</td>\n",
       "      <td>1</td>\n",
       "    </tr>\n",
       "    <tr>\n",
       "      <th>3</th>\n",
       "      <td>3.828641</td>\n",
       "      <td>0.693147</td>\n",
       "      <td>2</td>\n",
       "      <td>8.972464</td>\n",
       "      <td>3.761200</td>\n",
       "      <td>0.6934</td>\n",
       "      <td>0.0000</td>\n",
       "      <td>0.0</td>\n",
       "      <td>1</td>\n",
       "      <td>0.0</td>\n",
       "      <td>...</td>\n",
       "      <td>0.0</td>\n",
       "      <td>0.0</td>\n",
       "      <td>0</td>\n",
       "      <td>0.0</td>\n",
       "      <td>0.0000</td>\n",
       "      <td>0.6934</td>\n",
       "      <td>0.0000</td>\n",
       "      <td>0.0</td>\n",
       "      <td>0.0</td>\n",
       "      <td>1</td>\n",
       "    </tr>\n",
       "    <tr>\n",
       "      <th>4</th>\n",
       "      <td>3.988984</td>\n",
       "      <td>0.693147</td>\n",
       "      <td>2</td>\n",
       "      <td>8.491055</td>\n",
       "      <td>3.218876</td>\n",
       "      <td>0.6934</td>\n",
       "      <td>0.0000</td>\n",
       "      <td>0.0</td>\n",
       "      <td>1</td>\n",
       "      <td>0.0</td>\n",
       "      <td>...</td>\n",
       "      <td>0.0</td>\n",
       "      <td>0.0</td>\n",
       "      <td>1</td>\n",
       "      <td>0.0</td>\n",
       "      <td>0.0000</td>\n",
       "      <td>0.0000</td>\n",
       "      <td>0.0000</td>\n",
       "      <td>0.0</td>\n",
       "      <td>0.0</td>\n",
       "      <td>0</td>\n",
       "    </tr>\n",
       "  </tbody>\n",
       "</table>\n",
       "<p>5 rows × 24 columns</p>\n",
       "</div>"
      ],
      "text/plain": [
       "        Age       Sex  Job  Credit amount  Duration  Housing_free  \\\n",
       "0  4.219508  0.693147    2       7.064759  1.945910        0.0000   \n",
       "1  3.135494  0.000000    2       8.691483  3.891820        0.0000   \n",
       "2  3.912023  0.693147    1       7.648263  2.564949        0.0000   \n",
       "3  3.828641  0.693147    2       8.972464  3.761200        0.6934   \n",
       "4  3.988984  0.693147    2       8.491055  3.218876        0.6934   \n",
       "\n",
       "   Housing_own  Housing_rent  Saving accounts_little  \\\n",
       "0       0.6934           0.0                       0   \n",
       "1       0.6934           0.0                       1   \n",
       "2       0.6934           0.0                       1   \n",
       "3       0.0000           0.0                       1   \n",
       "4       0.0000           0.0                       1   \n",
       "\n",
       "   Saving accounts_moderate  ...  Checking account_rich  Purpose_business  \\\n",
       "0                       0.0  ...                    0.0               0.0   \n",
       "1                       0.0  ...                    0.0               0.0   \n",
       "2                       0.0  ...                    0.0               0.0   \n",
       "3                       0.0  ...                    0.0               0.0   \n",
       "4                       0.0  ...                    0.0               0.0   \n",
       "\n",
       "   Purpose_car  Purpose_domestic appliances  Purpose_education  \\\n",
       "0            0                          0.0             0.0000   \n",
       "1            0                          0.0             0.0000   \n",
       "2            0                          0.0             0.6934   \n",
       "3            0                          0.0             0.0000   \n",
       "4            1                          0.0             0.0000   \n",
       "\n",
       "   Purpose_furniture/equipment  Purpose_radio/TV  Purpose_repairs  \\\n",
       "0                       0.0000            0.6934              0.0   \n",
       "1                       0.0000            0.6934              0.0   \n",
       "2                       0.0000            0.0000              0.0   \n",
       "3                       0.6934            0.0000              0.0   \n",
       "4                       0.0000            0.0000              0.0   \n",
       "\n",
       "   Purpose_vacation/others  Risk  \n",
       "0                      0.0     1  \n",
       "1                      0.0     0  \n",
       "2                      0.0     1  \n",
       "3                      0.0     1  \n",
       "4                      0.0     0  \n",
       "\n",
       "[5 rows x 24 columns]"
      ]
     },
     "execution_count": 3,
     "metadata": {},
     "output_type": "execute_result"
    }
   ],
   "source": [
    "gcr_data.head()"
   ]
  },
  {
   "cell_type": "code",
   "execution_count": 4,
   "metadata": {},
   "outputs": [],
   "source": [
    "gcr_data['Credit_amount/duration'] = gcr_data['Credit amount']/gcr_data['Duration']"
   ]
  },
  {
   "cell_type": "code",
   "execution_count": 5,
   "metadata": {},
   "outputs": [
    {
     "data": {
      "text/html": [
       "<div>\n",
       "<style scoped>\n",
       "    .dataframe tbody tr th:only-of-type {\n",
       "        vertical-align: middle;\n",
       "    }\n",
       "\n",
       "    .dataframe tbody tr th {\n",
       "        vertical-align: top;\n",
       "    }\n",
       "\n",
       "    .dataframe thead th {\n",
       "        text-align: right;\n",
       "    }\n",
       "</style>\n",
       "<table border=\"1\" class=\"dataframe\">\n",
       "  <thead>\n",
       "    <tr style=\"text-align: right;\">\n",
       "      <th></th>\n",
       "      <th>Age</th>\n",
       "      <th>Sex</th>\n",
       "      <th>Job</th>\n",
       "      <th>Credit amount</th>\n",
       "      <th>Duration</th>\n",
       "      <th>Housing_free</th>\n",
       "      <th>Housing_own</th>\n",
       "      <th>Housing_rent</th>\n",
       "      <th>Saving accounts_little</th>\n",
       "      <th>Saving accounts_moderate</th>\n",
       "      <th>...</th>\n",
       "      <th>Purpose_business</th>\n",
       "      <th>Purpose_car</th>\n",
       "      <th>Purpose_domestic appliances</th>\n",
       "      <th>Purpose_education</th>\n",
       "      <th>Purpose_furniture/equipment</th>\n",
       "      <th>Purpose_radio/TV</th>\n",
       "      <th>Purpose_repairs</th>\n",
       "      <th>Purpose_vacation/others</th>\n",
       "      <th>Risk</th>\n",
       "      <th>Credit_amount/duration</th>\n",
       "    </tr>\n",
       "  </thead>\n",
       "  <tbody>\n",
       "    <tr>\n",
       "      <th>0</th>\n",
       "      <td>4.219508</td>\n",
       "      <td>0.693147</td>\n",
       "      <td>2</td>\n",
       "      <td>7.064759</td>\n",
       "      <td>1.945910</td>\n",
       "      <td>0.0000</td>\n",
       "      <td>0.6934</td>\n",
       "      <td>0.0</td>\n",
       "      <td>0</td>\n",
       "      <td>0.0</td>\n",
       "      <td>...</td>\n",
       "      <td>0.0</td>\n",
       "      <td>0</td>\n",
       "      <td>0.0</td>\n",
       "      <td>0.0000</td>\n",
       "      <td>0.0000</td>\n",
       "      <td>0.6934</td>\n",
       "      <td>0.0</td>\n",
       "      <td>0.0</td>\n",
       "      <td>1</td>\n",
       "      <td>3.630568</td>\n",
       "    </tr>\n",
       "    <tr>\n",
       "      <th>1</th>\n",
       "      <td>3.135494</td>\n",
       "      <td>0.000000</td>\n",
       "      <td>2</td>\n",
       "      <td>8.691483</td>\n",
       "      <td>3.891820</td>\n",
       "      <td>0.0000</td>\n",
       "      <td>0.6934</td>\n",
       "      <td>0.0</td>\n",
       "      <td>1</td>\n",
       "      <td>0.0</td>\n",
       "      <td>...</td>\n",
       "      <td>0.0</td>\n",
       "      <td>0</td>\n",
       "      <td>0.0</td>\n",
       "      <td>0.0000</td>\n",
       "      <td>0.0000</td>\n",
       "      <td>0.6934</td>\n",
       "      <td>0.0</td>\n",
       "      <td>0.0</td>\n",
       "      <td>0</td>\n",
       "      <td>2.233269</td>\n",
       "    </tr>\n",
       "    <tr>\n",
       "      <th>2</th>\n",
       "      <td>3.912023</td>\n",
       "      <td>0.693147</td>\n",
       "      <td>1</td>\n",
       "      <td>7.648263</td>\n",
       "      <td>2.564949</td>\n",
       "      <td>0.0000</td>\n",
       "      <td>0.6934</td>\n",
       "      <td>0.0</td>\n",
       "      <td>1</td>\n",
       "      <td>0.0</td>\n",
       "      <td>...</td>\n",
       "      <td>0.0</td>\n",
       "      <td>0</td>\n",
       "      <td>0.0</td>\n",
       "      <td>0.6934</td>\n",
       "      <td>0.0000</td>\n",
       "      <td>0.0000</td>\n",
       "      <td>0.0</td>\n",
       "      <td>0.0</td>\n",
       "      <td>1</td>\n",
       "      <td>2.981838</td>\n",
       "    </tr>\n",
       "    <tr>\n",
       "      <th>3</th>\n",
       "      <td>3.828641</td>\n",
       "      <td>0.693147</td>\n",
       "      <td>2</td>\n",
       "      <td>8.972464</td>\n",
       "      <td>3.761200</td>\n",
       "      <td>0.6934</td>\n",
       "      <td>0.0000</td>\n",
       "      <td>0.0</td>\n",
       "      <td>1</td>\n",
       "      <td>0.0</td>\n",
       "      <td>...</td>\n",
       "      <td>0.0</td>\n",
       "      <td>0</td>\n",
       "      <td>0.0</td>\n",
       "      <td>0.0000</td>\n",
       "      <td>0.6934</td>\n",
       "      <td>0.0000</td>\n",
       "      <td>0.0</td>\n",
       "      <td>0.0</td>\n",
       "      <td>1</td>\n",
       "      <td>2.385532</td>\n",
       "    </tr>\n",
       "    <tr>\n",
       "      <th>4</th>\n",
       "      <td>3.988984</td>\n",
       "      <td>0.693147</td>\n",
       "      <td>2</td>\n",
       "      <td>8.491055</td>\n",
       "      <td>3.218876</td>\n",
       "      <td>0.6934</td>\n",
       "      <td>0.0000</td>\n",
       "      <td>0.0</td>\n",
       "      <td>1</td>\n",
       "      <td>0.0</td>\n",
       "      <td>...</td>\n",
       "      <td>0.0</td>\n",
       "      <td>1</td>\n",
       "      <td>0.0</td>\n",
       "      <td>0.0000</td>\n",
       "      <td>0.0000</td>\n",
       "      <td>0.0000</td>\n",
       "      <td>0.0</td>\n",
       "      <td>0.0</td>\n",
       "      <td>0</td>\n",
       "      <td>2.637894</td>\n",
       "    </tr>\n",
       "  </tbody>\n",
       "</table>\n",
       "<p>5 rows × 25 columns</p>\n",
       "</div>"
      ],
      "text/plain": [
       "        Age       Sex  Job  Credit amount  Duration  Housing_free  \\\n",
       "0  4.219508  0.693147    2       7.064759  1.945910        0.0000   \n",
       "1  3.135494  0.000000    2       8.691483  3.891820        0.0000   \n",
       "2  3.912023  0.693147    1       7.648263  2.564949        0.0000   \n",
       "3  3.828641  0.693147    2       8.972464  3.761200        0.6934   \n",
       "4  3.988984  0.693147    2       8.491055  3.218876        0.6934   \n",
       "\n",
       "   Housing_own  Housing_rent  Saving accounts_little  \\\n",
       "0       0.6934           0.0                       0   \n",
       "1       0.6934           0.0                       1   \n",
       "2       0.6934           0.0                       1   \n",
       "3       0.0000           0.0                       1   \n",
       "4       0.0000           0.0                       1   \n",
       "\n",
       "   Saving accounts_moderate  ...  Purpose_business  Purpose_car  \\\n",
       "0                       0.0  ...               0.0            0   \n",
       "1                       0.0  ...               0.0            0   \n",
       "2                       0.0  ...               0.0            0   \n",
       "3                       0.0  ...               0.0            0   \n",
       "4                       0.0  ...               0.0            1   \n",
       "\n",
       "   Purpose_domestic appliances  Purpose_education  \\\n",
       "0                          0.0             0.0000   \n",
       "1                          0.0             0.0000   \n",
       "2                          0.0             0.6934   \n",
       "3                          0.0             0.0000   \n",
       "4                          0.0             0.0000   \n",
       "\n",
       "   Purpose_furniture/equipment  Purpose_radio/TV  Purpose_repairs  \\\n",
       "0                       0.0000            0.6934              0.0   \n",
       "1                       0.0000            0.6934              0.0   \n",
       "2                       0.0000            0.0000              0.0   \n",
       "3                       0.6934            0.0000              0.0   \n",
       "4                       0.0000            0.0000              0.0   \n",
       "\n",
       "   Purpose_vacation/others  Risk  Credit_amount/duration  \n",
       "0                      0.0     1                3.630568  \n",
       "1                      0.0     0                2.233269  \n",
       "2                      0.0     1                2.981838  \n",
       "3                      0.0     1                2.385532  \n",
       "4                      0.0     0                2.637894  \n",
       "\n",
       "[5 rows x 25 columns]"
      ]
     },
     "execution_count": 5,
     "metadata": {},
     "output_type": "execute_result"
    }
   ],
   "source": [
    "gcr_data.head()"
   ]
  },
  {
   "cell_type": "markdown",
   "metadata": {},
   "source": [
    "<a id=\"preprocessing_vc\"></a> <br>\n",
    "# **4. Preprocess**"
   ]
  },
  {
   "cell_type": "markdown",
   "metadata": {},
   "source": [
    "<h2>4.1 Separating feature and target</h2>"
   ]
  },
  {
   "cell_type": "code",
   "execution_count": 7,
   "metadata": {},
   "outputs": [],
   "source": [
    "#X = gcr_data.drop(['Risk','Credit_amount/duration'], axis=1)\n",
    "X = gcr_data.drop(['Risk', 'Credit amount'], axis=1)\n",
    "#X = gcr_data.drop(['Risk'], axis=1)\n",
    "\n",
    "y = gcr_data['Risk']"
   ]
  },
  {
   "cell_type": "code",
   "execution_count": 8,
   "metadata": {},
   "outputs": [
    {
     "data": {
      "text/plain": [
       "(1000, 23)"
      ]
     },
     "execution_count": 8,
     "metadata": {},
     "output_type": "execute_result"
    }
   ],
   "source": [
    "X.shape"
   ]
  },
  {
   "cell_type": "markdown",
   "metadata": {},
   "source": [
    "<a id=\"feature_selection_abc\"></a>\n",
    "<h2>4.2 Feature Selection</h2>"
   ]
  },
  {
   "cell_type": "markdown",
   "metadata": {},
   "source": [
    "### 1. Univariate Selection"
   ]
  },
  {
   "cell_type": "code",
   "execution_count": 9,
   "metadata": {},
   "outputs": [
    {
     "name": "stdout",
     "output_type": "stream",
     "text": [
      "                         Specs      Score\n",
      "11     Checking account_little  33.595555\n",
      "7       Saving accounts_little  10.291479\n",
      "12   Checking account_moderate   7.248111\n",
      "19            Purpose_radio/TV   5.707578\n",
      "6                 Housing_rent   4.901023\n",
      "10        Saving accounts_rich   4.853800\n",
      "3                     Duration   4.699713\n",
      "4                 Housing_free   4.113929\n",
      "5                  Housing_own   3.604819\n",
      "9   Saving accounts_quite rich   3.270982\n"
     ]
    }
   ],
   "source": [
    "#apply SelectKBest class to extract top 5 best features\n",
    "bestfeatures = SelectKBest(score_func=chi2, k=6)\n",
    "fit = bestfeatures.fit(X,y)\n",
    "dfscores = pd.DataFrame(fit.scores_)\n",
    "dfcolumns = pd.DataFrame(X.columns)\n",
    "\n",
    "#concat two dataframes for better visualization \n",
    "featureScores = pd.concat([dfcolumns, dfscores], axis=1)\n",
    "featureScores.columns = ['Specs', 'Score']  #naming the dataframe columns\n",
    "print(featureScores.nlargest(10, 'Score'))  #print best features"
   ]
  },
  {
   "cell_type": "code",
   "execution_count": 10,
   "metadata": {},
   "outputs": [
    {
     "name": "stdout",
     "output_type": "stream",
     "text": [
      "> 1) 0.693 (0.025)\n",
      "> 2) 0.701 (0.034)\n",
      "> 3) 0.701 (0.034)\n",
      "> 4) 0.691 (0.036)\n",
      "> 5) 0.694 (0.029)\n",
      "> 6) 0.688 (0.030)\n",
      "> 7) 0.741 (0.035)\n",
      "> 8) 0.740 (0.031)\n",
      "> 9) 0.736 (0.036)\n",
      "> 10) 0.738 (0.032)\n",
      "> 11) 0.732 (0.039)\n",
      "> 12) 0.733 (0.037)\n",
      "> 13) 0.734 (0.039)\n",
      "> 14) 0.735 (0.039)\n",
      "> 15) 0.733 (0.037)\n",
      "> 16) 0.732 (0.039)\n",
      "> 17) 0.730 (0.040)\n",
      "> 18) 0.733 (0.040)\n",
      "> 19) 0.731 (0.038)\n",
      "> 20) 0.731 (0.042)\n",
      "> 21) 0.730 (0.041)\n",
      "> 22) 0.737 (0.040)\n",
      "> 23) 0.738 (0.040)\n"
     ]
    }
   ],
   "source": [
    "# evaluate a given model using cross-validation\n",
    "def evaluate_model(model, X, y):\n",
    "    cv = RepeatedStratifiedKFold(n_splits=10, n_repeats=3, random_state=42)\n",
    "    scores = cross_val_score(model, X, y, scoring='accuracy', cv=cv, n_jobs=-1, error_score='raise')\n",
    "    return scores\n",
    "\n",
    "############################################################################################\n",
    "\n",
    "LR_L2 = LogisticRegression(penalty='l2', max_iter=500, solver='saga')\n",
    "\n",
    "GBC = GradientBoostingClassifier()\n",
    "                      \n",
    "estimators = [('LR_L2', LR_L2), ('GBC', GBC)]\n",
    "model_eval = VotingClassifier(estimators, voting='soft')\n",
    "##############################################################################################\n",
    "\n",
    "results = list()\n",
    "for i in range(1,X.shape[1]+1):\n",
    "        scores = evaluate_model(model_eval, X[featureScores.nlargest(i, 'Score')['Specs']], y)\n",
    "        results.append(scores)\n",
    "        print('> %s) %.3f (%.3f)' % (i, mean(scores), std(scores)))"
   ]
  },
  {
   "cell_type": "code",
   "execution_count": 11,
   "metadata": {},
   "outputs": [],
   "source": [
    "#X = gcr_data[featureScores.nlargest(23, 'Score')['Specs'].values]"
   ]
  },
  {
   "cell_type": "markdown",
   "metadata": {},
   "source": [
    "### 2. Feature Importance"
   ]
  },
  {
   "cell_type": "code",
   "execution_count": 12,
   "metadata": {},
   "outputs": [
    {
     "data": {
      "image/png": "[encoded data removed]",
      "text/plain": [
       "<Figure size 432x288 with 1 Axes>"
      ]
     },
     "metadata": {
      "needs_background": "light"
     },
     "output_type": "display_data"
    }
   ],
   "source": [
    "from sklearn.ensemble import ExtraTreesClassifier\n",
    "\n",
    "model_fi = ExtraTreesClassifier()\n",
    "model_fi.fit(X,y)\n",
    "#print(model.feature_importances_) #use inbuilt class feature_importances of tree based classifiers\n",
    "\n",
    "#plot graph of feature importances for better visualization\n",
    "feat_importances = pd.Series(model_fi.feature_importances_, index=X.columns)\n",
    "feat_importances.sort_values(ascending=True).nlargest(14).plot(kind='barh')\n",
    "plt.show()"
   ]
  },
  {
   "cell_type": "code",
   "execution_count": 13,
   "metadata": {},
   "outputs": [
    {
     "name": "stdout",
     "output_type": "stream",
     "text": [
      "> 1) 0.692 (0.023)\n",
      "> 2) 0.695 (0.021)\n",
      "> 3) 0.704 (0.025)\n",
      "> 4) 0.703 (0.027)\n",
      "> 5) 0.731 (0.034)\n",
      "> 6) 0.738 (0.030)\n",
      "> 7) 0.728 (0.032)\n",
      "> 8) 0.739 (0.034)\n",
      "> 9) 0.741 (0.038)\n",
      "> 10) 0.743 (0.036)\n",
      "> 11) 0.742 (0.039)\n",
      "> 12) 0.747 (0.041)\n",
      "> 13) 0.740 (0.039)\n",
      "> 14) 0.742 (0.040)\n",
      "> 15) 0.740 (0.044)\n",
      "> 16) 0.740 (0.041)\n",
      "> 17) 0.736 (0.039)\n",
      "> 18) 0.740 (0.041)\n",
      "> 19) 0.734 (0.043)\n",
      "> 20) 0.736 (0.042)\n",
      "> 21) 0.739 (0.044)\n",
      "> 22) 0.738 (0.041)\n",
      "> 23) 0.737 (0.040)\n"
     ]
    }
   ],
   "source": [
    "# evaluate a give model using cross-validation\n",
    "def evaluate_model(model, X, y):\n",
    "    cv = RepeatedStratifiedKFold(n_splits=10, n_repeats=3, random_state=42)\n",
    "    scores = cross_val_score(model, X, y, scoring='accuracy', cv=cv, n_jobs=-1, error_score='raise')\n",
    "    return scores\n",
    "\n",
    "############################################################################################\n",
    "\n",
    "LR_L2 = LogisticRegression(penalty='l2', max_iter=500, solver='saga')\n",
    "\n",
    "GBC = GradientBoostingClassifier()\n",
    "                      \n",
    "estimators = [('LR_L2', LR_L2), ('GBC', GBC)]\n",
    "model_eval = VotingClassifier(estimators, voting='soft')\n",
    "##############################################################################################\n",
    "\n",
    "results = list()\n",
    "for i in range(1,X.shape[1]+1):\n",
    "        scores = evaluate_model(model_eval, X[feat_importances.nlargest(i).index], y)\n",
    "        results.append(scores)\n",
    "        print('> %s) %.3f (%.3f)' % (i, mean(scores), std(scores)))"
   ]
  },
  {
   "cell_type": "code",
   "execution_count": 14,
   "metadata": {},
   "outputs": [
    {
     "data": {
      "image/png": "[encoded data removed]",
      "text/plain": [
       "<Figure size 576x432 with 1 Axes>"
      ]
     },
     "metadata": {
      "needs_background": "light"
     },
     "output_type": "display_data"
    }
   ],
   "source": [
    "no_of_features = [str(i) for i in range(1,X.shape[1]+1)]\n",
    "# plot model performance for comparison\n",
    "plt.figure(figsize=(8,6))\n",
    "plt.boxplot(results, labels=no_of_features, showmeans=True)\n",
    "plt.xticks(rotation=75)\n",
    "plt.title('No. of features vs. Average Accuracy')\n",
    "plt.show()"
   ]
  },
  {
   "cell_type": "markdown",
   "metadata": {},
   "source": [
    "### 3. Correlation Matrix with Heatmap"
   ]
  },
  {
   "cell_type": "raw",
   "metadata": {},
   "source": [
    "#get correlations of each features in dataset\n",
    "corrmat = gcr_data.corr()\n",
    "top_corr_features = corrmat.index\n",
    "plt.figure(figsize=(20,20))\n",
    "\n",
    "#plot heat map\n",
    "g=sns.heatmap(gcr_data[top_corr_features].corr(), annot=False, cmap=\"RdYlGn\")"
   ]
  },
  {
   "cell_type": "markdown",
   "metadata": {},
   "source": [
    "### 4. RFE"
   ]
  },
  {
   "cell_type": "code",
   "execution_count": 15,
   "metadata": {},
   "outputs": [],
   "source": [
    "# get a list of models to evaluate\n",
    "def get_models():\n",
    "    models = dict()\n",
    "    # lr\n",
    "    rfe = RFE(estimator=LogisticRegression(), n_features_to_select=5)\n",
    "    model = VotingClassifier(estimators, voting='soft')\n",
    "    models['lr'] = Pipeline(steps=[('s',rfe),('m',model)])\n",
    "    \n",
    "    # perceptron\n",
    "    rfe = RFE(estimator=Perceptron(), n_features_to_select=5)\n",
    "    model = VotingClassifier(estimators, voting='soft')\n",
    "    models['per'] = Pipeline(steps=[('s',rfe),('m',model)])\n",
    "    \n",
    "    # cart\n",
    "    rfe = RFE(estimator=DecisionTreeClassifier(), n_features_to_select=5)\n",
    "    model = VotingClassifier(estimators, voting='soft')\n",
    "    models['cart'] = Pipeline(steps=[('s',rfe),('m',model)])\n",
    "    \n",
    "    # rf\n",
    "    rfe = RFE(estimator=RandomForestClassifier(), n_features_to_select=5)\n",
    "    model = VotingClassifier(estimators, voting='soft')\n",
    "    models['rf'] = Pipeline(steps=[('s',rfe),('m',model)])\n",
    "    \n",
    "    # gbm\n",
    "    rfe = RFE(estimator=GradientBoostingClassifier(), n_features_to_select=5)\n",
    "    model = VotingClassifier(estimators, voting='soft')\n",
    "    models['gbm'] = Pipeline(steps=[('s',rfe),('m',model)])\n",
    "    return models\n",
    " \n",
    "# evaluate a give model using cross-validation\n",
    "def evaluate_model(model, X, y):\n",
    "    cv = RepeatedStratifiedKFold(n_splits=10, n_repeats=3, random_state=1)\n",
    "    scores = cross_val_score(model, X, y, scoring='accuracy', cv=cv, n_jobs=-1)\n",
    "    return scores"
   ]
  },
  {
   "cell_type": "code",
   "execution_count": 16,
   "metadata": {},
   "outputs": [
    {
     "name": "stdout",
     "output_type": "stream",
     "text": [
      ">lr) 0.728 (0.025)\n",
      ">per) 0.720 (0.032)\n",
      ">cart) 0.727 (0.024)\n",
      ">rf) 0.728 (0.024)\n",
      ">gbm) 0.732 (0.029)\n"
     ]
    }
   ],
   "source": [
    "# get the models to evaluate\n",
    "models = get_models()\n",
    "# evaluate the models and store results\n",
    "results, names = list(), list()\n",
    "for name, model in models.items():\n",
    "    scores = evaluate_model(model, X, y)\n",
    "    results.append(scores)\n",
    "    names.append(name)\n",
    "    print('>%s) %.3f (%.3f)' % (name, mean(scores), std(scores)))"
   ]
  },
  {
   "cell_type": "code",
   "execution_count": 17,
   "metadata": {},
   "outputs": [
    {
     "data": {
      "image/png": "[encoded data removed]",
      "text/plain": [
       "<Figure size 432x288 with 1 Axes>"
      ]
     },
     "metadata": {
      "needs_background": "light"
     },
     "output_type": "display_data"
    }
   ],
   "source": [
    "# plot model performance for comparison\n",
    "plt.boxplot(results, labels=names, showmeans=True)\n",
    "plt.title('RFE Estimator vs. Average Accuracy')\n",
    "plt.show()"
   ]
  },
  {
   "cell_type": "code",
   "execution_count": 18,
   "metadata": {},
   "outputs": [
    {
     "name": "stdout",
     "output_type": "stream",
     "text": [
      "> 2) 0.716 (0.034)\n",
      "> 3) 0.725 (0.031)\n",
      "> 4) 0.732 (0.038)\n",
      "> 5) 0.732 (0.030)\n",
      "> 6) 0.736 (0.031)\n",
      "> 7) 0.746 (0.036)\n",
      "> 8) 0.739 (0.038)\n",
      "> 9) 0.731 (0.036)\n",
      "> 10) 0.730 (0.037)\n",
      "> 11) 0.729 (0.038)\n",
      "> 12) 0.732 (0.037)\n",
      "> 13) 0.738 (0.036)\n",
      "> 14) 0.738 (0.035)\n",
      "> 15) 0.736 (0.032)\n",
      "> 16) 0.738 (0.042)\n",
      "> 17) 0.738 (0.036)\n",
      "> 18) 0.736 (0.039)\n",
      "> 19) 0.732 (0.044)\n",
      "> 20) 0.738 (0.041)\n",
      "> 21) 0.737 (0.041)\n",
      "> 22) 0.737 (0.039)\n",
      "> 23) 0.738 (0.040)\n"
     ]
    }
   ],
   "source": [
    "# get a list of models to evaluate\n",
    "def best_estimator():\n",
    "    models = dict()\n",
    "    for i in range(2, X.shape[1]+1):\n",
    "        rfe = RFE(estimator=GradientBoostingClassifier(), n_features_to_select=i)\n",
    "        model = VotingClassifier(estimators, voting='soft')\n",
    "        models[str(i)] = Pipeline(steps=[('s',rfe),('m',model)])\n",
    "    return models\n",
    "\n",
    "# evaluate a give model using cross-validation\n",
    "def evaluate_model(model, X, y):\n",
    "    cv = RepeatedStratifiedKFold(n_splits=10, n_repeats=3, random_state=42)\n",
    "    scores = cross_val_score(model, X, y, scoring='accuracy', cv=cv, n_jobs=-1, error_score='raise')\n",
    "    return scores\n",
    "\n",
    "# get the models to evaluate\n",
    "models = best_estimator()\n",
    "# evaluate the models and store results\n",
    "results, names = list(), list()\n",
    "for name, model in models.items():\n",
    "    scores = evaluate_model(model, X, y)\n",
    "    results.append(scores)\n",
    "    names.append(name)\n",
    "    print('> %s) %.3f (%.3f)' % (name, mean(scores), std(scores)))"
   ]
  },
  {
   "cell_type": "code",
   "execution_count": 19,
   "metadata": {},
   "outputs": [
    {
     "data": {
      "image/png": "[encoded data removed]",
      "text/plain": [
       "<Figure size 576x432 with 1 Axes>"
      ]
     },
     "metadata": {
      "needs_background": "light"
     },
     "output_type": "display_data"
    }
   ],
   "source": [
    "# plot model performance for comparison\n",
    "plt.figure(figsize=(8,6))\n",
    "plt.boxplot(results, labels=names, showmeans=True)\n",
    "plt.xticks(rotation=75)\n",
    "plt.title('No. of features vs. Average Accuracy')\n",
    "plt.show()"
   ]
  },
  {
   "cell_type": "code",
   "execution_count": 20,
   "metadata": {},
   "outputs": [
    {
     "name": "stdout",
     "output_type": "stream",
     "text": [
      "Column: 0, Selected True, Rank: 1.000\n",
      "Column: 1, Selected False, Rank: 2.000\n",
      "Column: 2, Selected True, Rank: 1.000\n",
      "Column: 3, Selected True, Rank: 1.000\n",
      "Column: 4, Selected False, Rank: 10.000\n",
      "Column: 5, Selected False, Rank: 4.000\n",
      "Column: 6, Selected False, Rank: 7.000\n",
      "Column: 7, Selected True, Rank: 1.000\n",
      "Column: 8, Selected False, Rank: 9.000\n",
      "Column: 9, Selected False, Rank: 13.000\n",
      "Column: 10, Selected False, Rank: 14.000\n",
      "Column: 11, Selected True, Rank: 1.000\n",
      "Column: 12, Selected True, Rank: 1.000\n",
      "Column: 13, Selected False, Rank: 12.000\n",
      "Column: 14, Selected False, Rank: 8.000\n",
      "Column: 15, Selected False, Rank: 3.000\n",
      "Column: 16, Selected False, Rank: 17.000\n",
      "Column: 17, Selected False, Rank: 11.000\n",
      "Column: 18, Selected False, Rank: 6.000\n",
      "Column: 19, Selected False, Rank: 5.000\n",
      "Column: 20, Selected False, Rank: 15.000\n",
      "Column: 21, Selected False, Rank: 16.000\n",
      "Column: 22, Selected True, Rank: 1.000\n"
     ]
    }
   ],
   "source": [
    "# define RFE\n",
    "rfe = RFE(estimator=RandomForestClassifier(), n_features_to_select=7)\n",
    "# fit RFE\n",
    "rfe.fit(X, y)\n",
    "# summarize all features\n",
    "for i in range(X.shape[1]):\n",
    "    print('Column: %d, Selected %s, Rank: %.3f' % (i, rfe.support_[i], rfe.ranking_[i]))"
   ]
  },
  {
   "cell_type": "markdown",
   "metadata": {},
   "source": [
    "<a id=\"split_vc\"></a>\n",
    "<h2>4.3 StratifiedShuffleSplit</h2>"
   ]
  },
  {
   "cell_type": "code",
   "execution_count": 28,
   "metadata": {},
   "outputs": [],
   "source": [
    "X = gcr_data[feat_importances.nlargest(14).index]\n",
    "#X = gcr_data[X.columns[rfe.support_]]\n",
    "#X = gcr_data[featureScores.nlargest(2, 'Score')['Specs']]\n",
    "\n",
    "#X.head()"
   ]
  },
  {
   "cell_type": "code",
   "execution_count": 29,
   "metadata": {},
   "outputs": [],
   "source": [
    "from sklearn.model_selection import StratifiedShuffleSplit\n",
    "\n",
    "strat_shuf_split = StratifiedShuffleSplit(n_splits=1, \n",
    "                                          test_size=0.3, \n",
    "                                          random_state=42)\n",
    "\n",
    "train_idx, test_idx = next(strat_shuf_split.split(X, gcr_data.Risk))\n",
    "\n",
    "# Create the dataframes\n",
    "X_train = X.loc[train_idx, X.columns]\n",
    "y_train = gcr_data.loc[train_idx, 'Risk']\n",
    "\n",
    "X_test  = X.loc[test_idx, X.columns]\n",
    "y_test  = gcr_data.loc[test_idx, 'Risk']"
   ]
  },
  {
   "cell_type": "code",
   "execution_count": 30,
   "metadata": {},
   "outputs": [
    {
     "data": {
      "text/plain": [
       "((700, 14), (700,), (300, 14), (300,))"
      ]
     },
     "execution_count": 30,
     "metadata": {},
     "output_type": "execute_result"
    }
   ],
   "source": [
    "X_train.shape, y_train.shape, X_test.shape, y_test.shape"
   ]
  },
  {
   "cell_type": "markdown",
   "metadata": {},
   "source": [
    "<a id=\"modelling_vc\"></a> <br>\n",
    "# **5. Models**"
   ]
  },
  {
   "cell_type": "markdown",
   "metadata": {},
   "source": [
    "#### Suppressing any warnings"
   ]
  },
  {
   "cell_type": "code",
   "execution_count": 31,
   "metadata": {},
   "outputs": [],
   "source": [
    "# Suppress warnings about too few trees from the early models\n",
    "import warnings\n",
    "warnings.filterwarnings(\"ignore\", category=UserWarning)\n",
    "warnings.filterwarnings(\"ignore\", category=RuntimeWarning)"
   ]
  },
  {
   "cell_type": "markdown",
   "metadata": {},
   "source": [
    "<h2>5.1 VotingClassifier</h2>"
   ]
  },
  {
   "cell_type": "code",
   "execution_count": 32,
   "metadata": {},
   "outputs": [],
   "source": [
    "tree_list = [15, 25, 50, 100, 200, 400]\n",
    "# The parameters to be fit\n",
    "param_grid = {'n_estimators': tree_list,\n",
    "              'learning_rate': [0.1, 0.01, 0.001, 0.0001],\n",
    "              'subsample': [1.0, 0.5],\n",
    "              'max_features': [1, 2, 3, 4]}\n",
    "\n",
    "# The grid search object\n",
    "GV_GBC = GridSearchCV(GradientBoostingClassifier(random_state=42), \n",
    "                      param_grid=param_grid, \n",
    "                      scoring='accuracy',\n",
    "                      n_jobs=-1)\n",
    "\n",
    "# Do the grid search\n",
    "GV_GBC = GV_GBC.fit(X_train, y_train)"
   ]
  },
  {
   "cell_type": "code",
   "execution_count": 33,
   "metadata": {},
   "outputs": [],
   "source": [
    "from sklearn.linear_model import LogisticRegression\n",
    "\n",
    "# L2 regularized logistic regression\n",
    "LR_L2 = LogisticRegression(penalty='l2', max_iter=500, solver='saga').fit(X_train, y_train)\n",
    "\n",
    "from sklearn.ensemble import VotingClassifier\n",
    "\n",
    "# The combined model--logistic regression and gradient boosted trees\n",
    "estimators = [('LR_L2', LR_L2), ('GBC', GV_GBC)]\n",
    "\n",
    "VC = VotingClassifier(estimators, voting='soft')\n",
    "VC = VC.fit(X_train, y_train)"
   ]
  },
  {
   "cell_type": "markdown",
   "metadata": {},
   "source": [
    "<a id=\"metrics_vc\"></a>\n",
    "<h2>5.2 Metrics</h2>"
   ]
  },
  {
   "cell_type": "code",
   "execution_count": 34,
   "metadata": {},
   "outputs": [
    {
     "data": {
      "text/html": [
       "<div>\n",
       "<style scoped>\n",
       "    .dataframe tbody tr th:only-of-type {\n",
       "        vertical-align: middle;\n",
       "    }\n",
       "\n",
       "    .dataframe tbody tr th {\n",
       "        vertical-align: top;\n",
       "    }\n",
       "\n",
       "    .dataframe thead th {\n",
       "        text-align: right;\n",
       "    }\n",
       "</style>\n",
       "<table border=\"1\" class=\"dataframe\">\n",
       "  <thead>\n",
       "    <tr style=\"text-align: right;\">\n",
       "      <th></th>\n",
       "      <th>VC</th>\n",
       "    </tr>\n",
       "  </thead>\n",
       "  <tbody>\n",
       "    <tr>\n",
       "      <th>precision</th>\n",
       "      <td>0.721927</td>\n",
       "    </tr>\n",
       "    <tr>\n",
       "      <th>recall</th>\n",
       "      <td>0.740000</td>\n",
       "    </tr>\n",
       "    <tr>\n",
       "      <th>fscore</th>\n",
       "      <td>0.706061</td>\n",
       "    </tr>\n",
       "    <tr>\n",
       "      <th>accuracy</th>\n",
       "      <td>0.740000</td>\n",
       "    </tr>\n",
       "    <tr>\n",
       "      <th>auc</th>\n",
       "      <td>0.614286</td>\n",
       "    </tr>\n",
       "  </tbody>\n",
       "</table>\n",
       "</div>"
      ],
      "text/plain": [
       "                 VC\n",
       "precision  0.721927\n",
       "recall     0.740000\n",
       "fscore     0.706061\n",
       "accuracy   0.740000\n",
       "auc        0.614286"
      ]
     },
     "execution_count": 34,
     "metadata": {},
     "output_type": "execute_result"
    }
   ],
   "source": [
    "y_pred = list()\n",
    "y_prob = list()\n",
    "\n",
    "labels = ['VC']\n",
    "models = [VC]\n",
    "\n",
    "for lab,mod in zip(labels, models):\n",
    "    y_pred.append(pd.Series(mod.predict(X_test), name=lab))\n",
    "    y_prob.append(pd.Series(mod.predict_proba(X_test).max(axis=1), name=lab))\n",
    "    \n",
    "y_pred = pd.concat(y_pred, axis=1)\n",
    "y_prob = pd.concat(y_prob, axis=1)\n",
    "\n",
    "metrics = list()\n",
    "cm = dict()\n",
    "\n",
    "for lab in labels:\n",
    "\n",
    "    # Precision, recall, f-score from the multi-class support function\n",
    "    precision, recall, fscore, _ = score(y_test, y_pred[lab], average='weighted')\n",
    "    \n",
    "    # The usual way to calculate accuracy\n",
    "    accuracy = accuracy_score(y_test, y_pred[lab])\n",
    "    \n",
    "    # ROC-AUC scores can be calculated by binarizing the data\n",
    "    auc = roc_auc_score(label_binarize(y_test, classes=[0,1]),\n",
    "              label_binarize(y_pred[lab], classes=[0,1]), \n",
    "              average='weighted')\n",
    "    \n",
    "    # Last, the confusion matrix\n",
    "    cm[lab] = confusion_matrix(y_test, y_pred[lab])\n",
    "    \n",
    "    metrics.append(pd.Series({'precision':precision, 'recall':recall, \n",
    "                              'fscore':fscore, 'accuracy':accuracy,\n",
    "                              'auc':auc}, \n",
    "                             name=lab))\n",
    "\n",
    "metrics = pd.concat(metrics, axis=1)\n",
    "\n",
    "metrics"
   ]
  },
  {
   "cell_type": "markdown",
   "metadata": {},
   "source": [
    "<a id=\"conmat_vc\"></a>\n",
    "<h2>5.4 Confusion Matrix and Classification Report</h2>"
   ]
  },
  {
   "cell_type": "code",
   "execution_count": 36,
   "metadata": {},
   "outputs": [
    {
     "data": {
      "image/png": "[encoded data removed]",
      "text/plain": [
       "<Figure size 720x288 with 3 Axes>"
      ]
     },
     "metadata": {
      "needs_background": "light"
     },
     "output_type": "display_data"
    }
   ],
   "source": [
    "sns.set_context('talk')\n",
    "\n",
    "fig, axList = plt.subplots(nrows=1, ncols=2)\n",
    "axList = axList.flatten()\n",
    "fig.set_size_inches(10, 4)\n",
    "\n",
    "axList[-1].axis('off')\n",
    "\n",
    "for ax,lab in zip(axList, labels):\n",
    "    sns.heatmap(cm[lab], ax=ax, annot=True, fmt='d', cmap=colors);\n",
    "    ax.set(title=lab);\n",
    "    \n",
    "plt.tight_layout()"
   ]
  },
  {
   "cell_type": "code",
   "execution_count": 37,
   "metadata": {},
   "outputs": [
    {
     "name": "stdout",
     "output_type": "stream",
     "text": [
      "############################################################\n",
      "VotingClassifier\n",
      "              precision    recall  f1-score   support\n",
      "\n",
      "           0       0.64      0.30      0.41        90\n",
      "           1       0.76      0.93      0.83       210\n",
      "\n",
      "    accuracy                           0.74       300\n",
      "   macro avg       0.70      0.61      0.62       300\n",
      "weighted avg       0.72      0.74      0.71       300\n",
      "\n",
      "Accuracy score:  0.74\n",
      "F1 Score:  0.833\n",
      "\n",
      "\n",
      "############################################################\n"
     ]
    }
   ],
   "source": [
    "from sklearn.metrics import classification_report, f1_score\n",
    "\n",
    "print('#'*60)\n",
    "\n",
    "y_pred_gb = VC.predict(X_test)\n",
    "print('VotingClassifier')\n",
    "print(classification_report(y_test, y_pred_gb))\n",
    "print('Accuracy score: ', round(accuracy_score(y_test, y_pred_gb), 3))\n",
    "print('F1 Score: ', round(f1_score(y_test, y_pred_gb), 3))\n",
    "\n",
    "print('\\n')\n",
    "print('#'*60)"
   ]
  },
  {
   "cell_type": "markdown",
   "metadata": {},
   "source": [
    "<h2>5.5 ROC curve and Precision-Recall curve</h2>"
   ]
  },
  {
   "cell_type": "code",
   "execution_count": 38,
   "metadata": {},
   "outputs": [
    {
     "data": {
      "image/png": "[encoded data removed]",
      "text/plain": [
       "<Figure size 720x360 with 2 Axes>"
      ]
     },
     "metadata": {
      "needs_background": "light"
     },
     "output_type": "display_data"
    }
   ],
   "source": [
    "sns.set_context('talk')\n",
    "\n",
    "fig, axList = plt.subplots(nrows=1, ncols=2)\n",
    "fig.set_size_inches(10, 5)\n",
    "\n",
    "# Plot the ROC-AUC curve\n",
    "\n",
    "ax = axList[0]\n",
    "fpr, tpr, thresholds = roc_curve(y_test, y_prob[lab])\n",
    "ax.plot(fpr, tpr, color=colors[0], linewidth=5)\n",
    "\n",
    "# It is customary to draw a diagonal dotted line in ROC plots.\n",
    "# This is to indicate completely random prediction. Deviation from this\n",
    "# dotted line towards the upper left corner signifies the power of the model.\n",
    "ax.plot([0, 1], [0, 1], ls='--', color='black', lw=.3)\n",
    "ax.set(xlabel='FPR',\n",
    "       ylabel='TPR',\n",
    "       xlim=[-.01, 1.01], ylim=[-.01, 1.01],\n",
    "       title='ROC curve: {}'.format(lab))\n",
    "ax.grid(True)\n",
    "\n",
    "# Plot the precision-recall curve\n",
    "\n",
    "ax = axList[1]\n",
    "precision, recall, _ = precision_recall_curve(y_test, y_prob[lab])\n",
    "ax.plot(recall, precision, color=colors[1], linewidth=5)\n",
    "ax.set(xlabel='Recall', ylabel='Precision',\n",
    "       xlim=[-.01, 1.01], ylim=[-.01, 1.01],\n",
    "       title='Precision-Recall curve: {}'.format(lab))\n",
    "ax.grid(True)\n",
    "\n",
    "plt.tight_layout()"
   ]
  },
  {
   "cell_type": "markdown",
   "metadata": {},
   "source": [
    "<a id=\"summary_vc\"></a> <br>\n",
    "# **6. Conclusion and Benefits of the model**\n",
    "- VotingClassifier gives the accuracy of 74% and FPR of 36% when 14 no. of features are selected.\n",
    "- Polynomial feature i.e. (Credit amount)/(Duration) helped improve the metrics as well as the FPR."
   ]
  },
  {
   "cell_type": "markdown",
   "metadata": {},
   "source": [
    "########################################################################################################################################"
   ]
  }
 ],
 "metadata": {
  "kernelspec": {
   "display_name": "Python 3",
   "language": "python",
   "name": "python3"
  },
  "language_info": {
   "codemirror_mode": {
    "name": "ipython",
    "version": 3
   },
   "file_extension": ".py",
   "mimetype": "text/x-python",
   "name": "python",
   "nbconvert_exporter": "python",
   "pygments_lexer": "ipython3",
   "version": "3.7.1"
  }
 },
 "nbformat": 4,
 "nbformat_minor": 4
}
