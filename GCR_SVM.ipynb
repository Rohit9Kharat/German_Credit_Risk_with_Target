{
 "cells": [
  {
   "cell_type": "markdown",
   "metadata": {},
   "source": [
    "<h1>**Support Vector Machine on German Credit Risk data set**</h1>"
   ]
  },
  {
   "cell_type": "markdown",
   "metadata": {},
   "source": [
    "# Tables of Content:\n",
    "\n",
    "**1. [Introduction](#intro_svm)** <br>\n",
    "    - Information about the data set <br>\n",
    "**2. [Reason for using this model](#reasons_svm)** <br>\n",
    "    - The purpose of this specific model <br>\n",
    "**3. [Libraries](#libraries_svm)** <br>\n",
    "    - Importing Libraries <br>\n",
    "    - Importing Dataset <br>\n",
    "**4. [Preprocess](#preprocessing_svm)** <br>\n",
    "    - 4.1 Separating feature and target variables <br>\n",
    "    - 4.2 [Feature Selection](#feature_selection_svm)<br>\n",
    "    - 4.3 [Spliting the X and Y in train and test](#split_svm)<br>\n",
    "**5. [Models](#modelling_svm)**<br>\n",
    "    - 5.1 [Support Vector Machines](*models_svm)<br>\n",
    "    - 5.2 [Metrics](#metrics_svm)<br>\n",
    "    - 5.3 [Confusion Matrix and Classification Report](#conmat_svm)<br>\n",
    "**6. [Conclusion and Benefits of the model](#summary_svm)** <br>\n",
    "    The summary of the model implementation"
   ]
  },
  {
   "cell_type": "markdown",
   "metadata": {},
   "source": [
    "<a id=\"intro_svm\"></a> <br>\n",
    "# **1. Introduction:** \n",
    "<h2>Context</h2>\n",
    "The original dataset contains 1000 entries with 9 feature variables. In this dataset, each entry represents a person who takes a credit by a bank. Each person is classified as good or bad credit risks according to the set of attributes.\n",
    "\n",
    "<h2>Content</h2>\n",
    "I have cleaned and preprocessed the data already and also I have created a more relevant feature from two of the most important feature in the data set i.e. Credit amount and Duration. The preprocessed data set is already saved in a CSV file and we are going to use that file for our model training and testing purposes. The selected variables from the orginal data set are:\n",
    "\n",
    "<b>Age</b> ################### (numeric)<br>\n",
    "<b>Sex</b> ################### (text: male, female)<br>\n",
    "<b>Job</b> ################### (numeric: 0 - unskilled and non-resident, 1 - unskilled and resident, 2 - skilled, 3 - highly skilled)<br>\n",
    "<b>Housing</b> ################ (text: own, rent, or free)<br>\n",
    "<b>Saving accounts</b> ######## (text - little, moderate, quite rich, rich)<br>\n",
    "<b>Checking account</b> ####### (numeric, in DM - Deutsch Mark)<br>\n",
    "<b>Credit amount</b> ########## (numeric, in DM)<br>\n",
    "<b>Duration</b> ############### (numeric, in month)<br>\n",
    "<b>Purpose</b> ################ (text: car, furniture/equipment, radio/TV, domestic appliances, repairs, education, business, vacation/others<br>\n",
    "<b>Risk </b> ################## (Value target - Good or Bad Risk)<br>"
   ]
  },
  {
   "cell_type": "markdown",
   "metadata": {},
   "source": [
    "<a id=\"reasons_svm\"></a> <br>\n",
    "# **2. Reason for using this model**\n",
    "<h2>Our goal is to: </h2>\n",
    "\n",
    "- Implement Support Vector Machine on German Credit Risk data set.\n",
    "- Assess the different metrics.\n",
    "- See the impact of scaling the data after log transformation on the metrics and False Positive Rate (FPR).\n",
    "- Using Hyperparameter optimization (particularly, GridSearchCV), estimate the best parameters.\n",
    "- Using the best hyperparameters, fit the model and see its impact on the metrics and FPR>"
   ]
  },
  {
   "cell_type": "markdown",
   "metadata": {},
   "source": [
    "<a id=\"libraries_svm\"></a> <br>\n",
    "# **3. Libraries**"
   ]
  },
  {
   "cell_type": "markdown",
   "metadata": {},
   "source": [
    "### Imports"
   ]
  },
  {
   "cell_type": "code",
   "execution_count": 1,
   "metadata": {},
   "outputs": [],
   "source": [
    "import numpy as np\n",
    "from numpy import mean\n",
    "from numpy import std\n",
    "import pandas as pd\n",
    "\n",
    "from scipy import stats \n",
    "import math\n",
    "\n",
    "import matplotlib.pyplot as plt\n",
    "import seaborn as sns\n",
    "\n",
    "from sklearn.feature_selection import SelectKBest\n",
    "from sklearn.feature_selection import chi2\n",
    "\n",
    "from sklearn.model_selection import cross_val_score\n",
    "from sklearn.model_selection import RepeatedStratifiedKFold\n",
    "from sklearn.model_selection import StratifiedShuffleSplit\n",
    "\n",
    "from sklearn.metrics import classification_report, confusion_matrix\n",
    "\n",
    "from sklearn.tree import DecisionTreeClassifier\n",
    "from sklearn.ensemble import ExtraTreesClassifier\n",
    "from sklearn.svm import SVC\n",
    "from sklearn.pipeline import Pipeline\n",
    "\n",
    "from colorsetup import colors, palette"
   ]
  },
  {
   "cell_type": "markdown",
   "metadata": {},
   "source": [
    "### Read the data"
   ]
  },
  {
   "cell_type": "code",
   "execution_count": 2,
   "metadata": {},
   "outputs": [],
   "source": [
    "gcr_data = pd.read_csv(\"gcr_data_imputed2.csv\")\n",
    "#gcr_data = pd.read_csv(\"gcr_data_imputed.csv\")\n",
    "#gcr_data = pd.read_csv(\"gcr_processed.csv\")"
   ]
  },
  {
   "cell_type": "code",
   "execution_count": 3,
   "metadata": {},
   "outputs": [
    {
     "data": {
      "text/html": [
       "<div>\n",
       "<style scoped>\n",
       "    .dataframe tbody tr th:only-of-type {\n",
       "        vertical-align: middle;\n",
       "    }\n",
       "\n",
       "    .dataframe tbody tr th {\n",
       "        vertical-align: top;\n",
       "    }\n",
       "\n",
       "    .dataframe thead th {\n",
       "        text-align: right;\n",
       "    }\n",
       "</style>\n",
       "<table border=\"1\" class=\"dataframe\">\n",
       "  <thead>\n",
       "    <tr style=\"text-align: right;\">\n",
       "      <th></th>\n",
       "      <th>Age</th>\n",
       "      <th>Sex</th>\n",
       "      <th>Job</th>\n",
       "      <th>Credit amount</th>\n",
       "      <th>Duration</th>\n",
       "      <th>Housing_free</th>\n",
       "      <th>Housing_own</th>\n",
       "      <th>Housing_rent</th>\n",
       "      <th>Saving accounts_little</th>\n",
       "      <th>Saving accounts_moderate</th>\n",
       "      <th>...</th>\n",
       "      <th>Checking account_rich</th>\n",
       "      <th>Purpose_business</th>\n",
       "      <th>Purpose_car</th>\n",
       "      <th>Purpose_domestic appliances</th>\n",
       "      <th>Purpose_education</th>\n",
       "      <th>Purpose_furniture/equipment</th>\n",
       "      <th>Purpose_radio/TV</th>\n",
       "      <th>Purpose_repairs</th>\n",
       "      <th>Purpose_vacation/others</th>\n",
       "      <th>Risk</th>\n",
       "    </tr>\n",
       "  </thead>\n",
       "  <tbody>\n",
       "    <tr>\n",
       "      <th>0</th>\n",
       "      <td>4.219508</td>\n",
       "      <td>0.693147</td>\n",
       "      <td>2</td>\n",
       "      <td>7.064759</td>\n",
       "      <td>1.945910</td>\n",
       "      <td>0.0000</td>\n",
       "      <td>0.6934</td>\n",
       "      <td>0.0</td>\n",
       "      <td>0</td>\n",
       "      <td>0.0</td>\n",
       "      <td>...</td>\n",
       "      <td>0.0</td>\n",
       "      <td>0.0</td>\n",
       "      <td>0</td>\n",
       "      <td>0.0</td>\n",
       "      <td>0.0000</td>\n",
       "      <td>0.0000</td>\n",
       "      <td>0.6934</td>\n",
       "      <td>0.0</td>\n",
       "      <td>0.0</td>\n",
       "      <td>1</td>\n",
       "    </tr>\n",
       "    <tr>\n",
       "      <th>1</th>\n",
       "      <td>3.135494</td>\n",
       "      <td>0.000000</td>\n",
       "      <td>2</td>\n",
       "      <td>8.691483</td>\n",
       "      <td>3.891820</td>\n",
       "      <td>0.0000</td>\n",
       "      <td>0.6934</td>\n",
       "      <td>0.0</td>\n",
       "      <td>1</td>\n",
       "      <td>0.0</td>\n",
       "      <td>...</td>\n",
       "      <td>0.0</td>\n",
       "      <td>0.0</td>\n",
       "      <td>0</td>\n",
       "      <td>0.0</td>\n",
       "      <td>0.0000</td>\n",
       "      <td>0.0000</td>\n",
       "      <td>0.6934</td>\n",
       "      <td>0.0</td>\n",
       "      <td>0.0</td>\n",
       "      <td>0</td>\n",
       "    </tr>\n",
       "    <tr>\n",
       "      <th>2</th>\n",
       "      <td>3.912023</td>\n",
       "      <td>0.693147</td>\n",
       "      <td>1</td>\n",
       "      <td>7.648263</td>\n",
       "      <td>2.564949</td>\n",
       "      <td>0.0000</td>\n",
       "      <td>0.6934</td>\n",
       "      <td>0.0</td>\n",
       "      <td>1</td>\n",
       "      <td>0.0</td>\n",
       "      <td>...</td>\n",
       "      <td>0.0</td>\n",
       "      <td>0.0</td>\n",
       "      <td>0</td>\n",
       "      <td>0.0</td>\n",
       "      <td>0.6934</td>\n",
       "      <td>0.0000</td>\n",
       "      <td>0.0000</td>\n",
       "      <td>0.0</td>\n",
       "      <td>0.0</td>\n",
       "      <td>1</td>\n",
       "    </tr>\n",
       "    <tr>\n",
       "      <th>3</th>\n",
       "      <td>3.828641</td>\n",
       "      <td>0.693147</td>\n",
       "      <td>2</td>\n",
       "      <td>8.972464</td>\n",
       "      <td>3.761200</td>\n",
       "      <td>0.6934</td>\n",
       "      <td>0.0000</td>\n",
       "      <td>0.0</td>\n",
       "      <td>1</td>\n",
       "      <td>0.0</td>\n",
       "      <td>...</td>\n",
       "      <td>0.0</td>\n",
       "      <td>0.0</td>\n",
       "      <td>0</td>\n",
       "      <td>0.0</td>\n",
       "      <td>0.0000</td>\n",
       "      <td>0.6934</td>\n",
       "      <td>0.0000</td>\n",
       "      <td>0.0</td>\n",
       "      <td>0.0</td>\n",
       "      <td>1</td>\n",
       "    </tr>\n",
       "    <tr>\n",
       "      <th>4</th>\n",
       "      <td>3.988984</td>\n",
       "      <td>0.693147</td>\n",
       "      <td>2</td>\n",
       "      <td>8.491055</td>\n",
       "      <td>3.218876</td>\n",
       "      <td>0.6934</td>\n",
       "      <td>0.0000</td>\n",
       "      <td>0.0</td>\n",
       "      <td>1</td>\n",
       "      <td>0.0</td>\n",
       "      <td>...</td>\n",
       "      <td>0.0</td>\n",
       "      <td>0.0</td>\n",
       "      <td>1</td>\n",
       "      <td>0.0</td>\n",
       "      <td>0.0000</td>\n",
       "      <td>0.0000</td>\n",
       "      <td>0.0000</td>\n",
       "      <td>0.0</td>\n",
       "      <td>0.0</td>\n",
       "      <td>0</td>\n",
       "    </tr>\n",
       "  </tbody>\n",
       "</table>\n",
       "<p>5 rows × 24 columns</p>\n",
       "</div>"
      ],
      "text/plain": [
       "        Age       Sex  Job  Credit amount  Duration  Housing_free  \\\n",
       "0  4.219508  0.693147    2       7.064759  1.945910        0.0000   \n",
       "1  3.135494  0.000000    2       8.691483  3.891820        0.0000   \n",
       "2  3.912023  0.693147    1       7.648263  2.564949        0.0000   \n",
       "3  3.828641  0.693147    2       8.972464  3.761200        0.6934   \n",
       "4  3.988984  0.693147    2       8.491055  3.218876        0.6934   \n",
       "\n",
       "   Housing_own  Housing_rent  Saving accounts_little  \\\n",
       "0       0.6934           0.0                       0   \n",
       "1       0.6934           0.0                       1   \n",
       "2       0.6934           0.0                       1   \n",
       "3       0.0000           0.0                       1   \n",
       "4       0.0000           0.0                       1   \n",
       "\n",
       "   Saving accounts_moderate  ...  Checking account_rich  Purpose_business  \\\n",
       "0                       0.0  ...                    0.0               0.0   \n",
       "1                       0.0  ...                    0.0               0.0   \n",
       "2                       0.0  ...                    0.0               0.0   \n",
       "3                       0.0  ...                    0.0               0.0   \n",
       "4                       0.0  ...                    0.0               0.0   \n",
       "\n",
       "   Purpose_car  Purpose_domestic appliances  Purpose_education  \\\n",
       "0            0                          0.0             0.0000   \n",
       "1            0                          0.0             0.0000   \n",
       "2            0                          0.0             0.6934   \n",
       "3            0                          0.0             0.0000   \n",
       "4            1                          0.0             0.0000   \n",
       "\n",
       "   Purpose_furniture/equipment  Purpose_radio/TV  Purpose_repairs  \\\n",
       "0                       0.0000            0.6934              0.0   \n",
       "1                       0.0000            0.6934              0.0   \n",
       "2                       0.0000            0.0000              0.0   \n",
       "3                       0.6934            0.0000              0.0   \n",
       "4                       0.0000            0.0000              0.0   \n",
       "\n",
       "   Purpose_vacation/others  Risk  \n",
       "0                      0.0     1  \n",
       "1                      0.0     0  \n",
       "2                      0.0     1  \n",
       "3                      0.0     1  \n",
       "4                      0.0     0  \n",
       "\n",
       "[5 rows x 24 columns]"
      ]
     },
     "execution_count": 3,
     "metadata": {},
     "output_type": "execute_result"
    }
   ],
   "source": [
    "gcr_data.head()"
   ]
  },
  {
   "cell_type": "code",
   "execution_count": 4,
   "metadata": {},
   "outputs": [],
   "source": [
    "gcr_data['Credit_amount/duration'] = gcr_data['Credit amount']/gcr_data['Duration']"
   ]
  },
  {
   "cell_type": "code",
   "execution_count": 5,
   "metadata": {},
   "outputs": [
    {
     "data": {
      "text/html": [
       "<div>\n",
       "<style scoped>\n",
       "    .dataframe tbody tr th:only-of-type {\n",
       "        vertical-align: middle;\n",
       "    }\n",
       "\n",
       "    .dataframe tbody tr th {\n",
       "        vertical-align: top;\n",
       "    }\n",
       "\n",
       "    .dataframe thead th {\n",
       "        text-align: right;\n",
       "    }\n",
       "</style>\n",
       "<table border=\"1\" class=\"dataframe\">\n",
       "  <thead>\n",
       "    <tr style=\"text-align: right;\">\n",
       "      <th></th>\n",
       "      <th>Age</th>\n",
       "      <th>Sex</th>\n",
       "      <th>Job</th>\n",
       "      <th>Credit amount</th>\n",
       "      <th>Duration</th>\n",
       "      <th>Housing_free</th>\n",
       "      <th>Housing_own</th>\n",
       "      <th>Housing_rent</th>\n",
       "      <th>Saving accounts_little</th>\n",
       "      <th>Saving accounts_moderate</th>\n",
       "      <th>...</th>\n",
       "      <th>Purpose_business</th>\n",
       "      <th>Purpose_car</th>\n",
       "      <th>Purpose_domestic appliances</th>\n",
       "      <th>Purpose_education</th>\n",
       "      <th>Purpose_furniture/equipment</th>\n",
       "      <th>Purpose_radio/TV</th>\n",
       "      <th>Purpose_repairs</th>\n",
       "      <th>Purpose_vacation/others</th>\n",
       "      <th>Risk</th>\n",
       "      <th>Credit_amount/duration</th>\n",
       "    </tr>\n",
       "  </thead>\n",
       "  <tbody>\n",
       "    <tr>\n",
       "      <th>0</th>\n",
       "      <td>4.219508</td>\n",
       "      <td>0.693147</td>\n",
       "      <td>2</td>\n",
       "      <td>7.064759</td>\n",
       "      <td>1.945910</td>\n",
       "      <td>0.0000</td>\n",
       "      <td>0.6934</td>\n",
       "      <td>0.0</td>\n",
       "      <td>0</td>\n",
       "      <td>0.0</td>\n",
       "      <td>...</td>\n",
       "      <td>0.0</td>\n",
       "      <td>0</td>\n",
       "      <td>0.0</td>\n",
       "      <td>0.0000</td>\n",
       "      <td>0.0000</td>\n",
       "      <td>0.6934</td>\n",
       "      <td>0.0</td>\n",
       "      <td>0.0</td>\n",
       "      <td>1</td>\n",
       "      <td>3.630568</td>\n",
       "    </tr>\n",
       "    <tr>\n",
       "      <th>1</th>\n",
       "      <td>3.135494</td>\n",
       "      <td>0.000000</td>\n",
       "      <td>2</td>\n",
       "      <td>8.691483</td>\n",
       "      <td>3.891820</td>\n",
       "      <td>0.0000</td>\n",
       "      <td>0.6934</td>\n",
       "      <td>0.0</td>\n",
       "      <td>1</td>\n",
       "      <td>0.0</td>\n",
       "      <td>...</td>\n",
       "      <td>0.0</td>\n",
       "      <td>0</td>\n",
       "      <td>0.0</td>\n",
       "      <td>0.0000</td>\n",
       "      <td>0.0000</td>\n",
       "      <td>0.6934</td>\n",
       "      <td>0.0</td>\n",
       "      <td>0.0</td>\n",
       "      <td>0</td>\n",
       "      <td>2.233269</td>\n",
       "    </tr>\n",
       "    <tr>\n",
       "      <th>2</th>\n",
       "      <td>3.912023</td>\n",
       "      <td>0.693147</td>\n",
       "      <td>1</td>\n",
       "      <td>7.648263</td>\n",
       "      <td>2.564949</td>\n",
       "      <td>0.0000</td>\n",
       "      <td>0.6934</td>\n",
       "      <td>0.0</td>\n",
       "      <td>1</td>\n",
       "      <td>0.0</td>\n",
       "      <td>...</td>\n",
       "      <td>0.0</td>\n",
       "      <td>0</td>\n",
       "      <td>0.0</td>\n",
       "      <td>0.6934</td>\n",
       "      <td>0.0000</td>\n",
       "      <td>0.0000</td>\n",
       "      <td>0.0</td>\n",
       "      <td>0.0</td>\n",
       "      <td>1</td>\n",
       "      <td>2.981838</td>\n",
       "    </tr>\n",
       "    <tr>\n",
       "      <th>3</th>\n",
       "      <td>3.828641</td>\n",
       "      <td>0.693147</td>\n",
       "      <td>2</td>\n",
       "      <td>8.972464</td>\n",
       "      <td>3.761200</td>\n",
       "      <td>0.6934</td>\n",
       "      <td>0.0000</td>\n",
       "      <td>0.0</td>\n",
       "      <td>1</td>\n",
       "      <td>0.0</td>\n",
       "      <td>...</td>\n",
       "      <td>0.0</td>\n",
       "      <td>0</td>\n",
       "      <td>0.0</td>\n",
       "      <td>0.0000</td>\n",
       "      <td>0.6934</td>\n",
       "      <td>0.0000</td>\n",
       "      <td>0.0</td>\n",
       "      <td>0.0</td>\n",
       "      <td>1</td>\n",
       "      <td>2.385532</td>\n",
       "    </tr>\n",
       "    <tr>\n",
       "      <th>4</th>\n",
       "      <td>3.988984</td>\n",
       "      <td>0.693147</td>\n",
       "      <td>2</td>\n",
       "      <td>8.491055</td>\n",
       "      <td>3.218876</td>\n",
       "      <td>0.6934</td>\n",
       "      <td>0.0000</td>\n",
       "      <td>0.0</td>\n",
       "      <td>1</td>\n",
       "      <td>0.0</td>\n",
       "      <td>...</td>\n",
       "      <td>0.0</td>\n",
       "      <td>1</td>\n",
       "      <td>0.0</td>\n",
       "      <td>0.0000</td>\n",
       "      <td>0.0000</td>\n",
       "      <td>0.0000</td>\n",
       "      <td>0.0</td>\n",
       "      <td>0.0</td>\n",
       "      <td>0</td>\n",
       "      <td>2.637894</td>\n",
       "    </tr>\n",
       "  </tbody>\n",
       "</table>\n",
       "<p>5 rows × 25 columns</p>\n",
       "</div>"
      ],
      "text/plain": [
       "        Age       Sex  Job  Credit amount  Duration  Housing_free  \\\n",
       "0  4.219508  0.693147    2       7.064759  1.945910        0.0000   \n",
       "1  3.135494  0.000000    2       8.691483  3.891820        0.0000   \n",
       "2  3.912023  0.693147    1       7.648263  2.564949        0.0000   \n",
       "3  3.828641  0.693147    2       8.972464  3.761200        0.6934   \n",
       "4  3.988984  0.693147    2       8.491055  3.218876        0.6934   \n",
       "\n",
       "   Housing_own  Housing_rent  Saving accounts_little  \\\n",
       "0       0.6934           0.0                       0   \n",
       "1       0.6934           0.0                       1   \n",
       "2       0.6934           0.0                       1   \n",
       "3       0.0000           0.0                       1   \n",
       "4       0.0000           0.0                       1   \n",
       "\n",
       "   Saving accounts_moderate  ...  Purpose_business  Purpose_car  \\\n",
       "0                       0.0  ...               0.0            0   \n",
       "1                       0.0  ...               0.0            0   \n",
       "2                       0.0  ...               0.0            0   \n",
       "3                       0.0  ...               0.0            0   \n",
       "4                       0.0  ...               0.0            1   \n",
       "\n",
       "   Purpose_domestic appliances  Purpose_education  \\\n",
       "0                          0.0             0.0000   \n",
       "1                          0.0             0.0000   \n",
       "2                          0.0             0.6934   \n",
       "3                          0.0             0.0000   \n",
       "4                          0.0             0.0000   \n",
       "\n",
       "   Purpose_furniture/equipment  Purpose_radio/TV  Purpose_repairs  \\\n",
       "0                       0.0000            0.6934              0.0   \n",
       "1                       0.0000            0.6934              0.0   \n",
       "2                       0.0000            0.0000              0.0   \n",
       "3                       0.6934            0.0000              0.0   \n",
       "4                       0.0000            0.0000              0.0   \n",
       "\n",
       "   Purpose_vacation/others  Risk  Credit_amount/duration  \n",
       "0                      0.0     1                3.630568  \n",
       "1                      0.0     0                2.233269  \n",
       "2                      0.0     1                2.981838  \n",
       "3                      0.0     1                2.385532  \n",
       "4                      0.0     0                2.637894  \n",
       "\n",
       "[5 rows x 25 columns]"
      ]
     },
     "execution_count": 5,
     "metadata": {},
     "output_type": "execute_result"
    }
   ],
   "source": [
    "gcr_data.head()"
   ]
  },
  {
   "cell_type": "markdown",
   "metadata": {},
   "source": [
    "<a id=\"preprocessing_svm\"></a> <br>\n",
    "# **4. Preprocess**"
   ]
  },
  {
   "cell_type": "markdown",
   "metadata": {},
   "source": [
    "<h2>4.1 Separating feature and target</h2>"
   ]
  },
  {
   "cell_type": "code",
   "execution_count": 6,
   "metadata": {},
   "outputs": [],
   "source": [
    "#X = gcr_data.drop(['Risk','Credit_amount/duration'], axis=1)\n",
    "X = gcr_data.drop(['Risk', 'Credit amount'], axis=1)\n",
    "#X = gcr_data.drop(['Risk'], axis=1)\n",
    "\n",
    "y = gcr_data['Risk']"
   ]
  },
  {
   "cell_type": "code",
   "execution_count": 7,
   "metadata": {},
   "outputs": [
    {
     "data": {
      "text/plain": [
       "(1000, 23)"
      ]
     },
     "execution_count": 7,
     "metadata": {},
     "output_type": "execute_result"
    }
   ],
   "source": [
    "X.shape"
   ]
  },
  {
   "cell_type": "markdown",
   "metadata": {},
   "source": [
    "<a id=\"feature_selection_svm\"></a>\n",
    "<h2>4.2 Feature Selection</h2>"
   ]
  },
  {
   "cell_type": "markdown",
   "metadata": {},
   "source": [
    "### 1. Univariate Selection"
   ]
  },
  {
   "cell_type": "code",
   "execution_count": 8,
   "metadata": {},
   "outputs": [],
   "source": [
    "#apply SelectKBest class to extract top 5 best features\n",
    "bestfeatures = SelectKBest(score_func=chi2, k=6)\n",
    "fit = bestfeatures.fit(X,y)\n",
    "dfscores = pd.DataFrame(fit.scores_)\n",
    "dfcolumns = pd.DataFrame(X.columns)"
   ]
  },
  {
   "cell_type": "code",
   "execution_count": 9,
   "metadata": {},
   "outputs": [
    {
     "name": "stdout",
     "output_type": "stream",
     "text": [
      "                         Specs      Score\n",
      "11     Checking account_little  33.595555\n",
      "7       Saving accounts_little  10.291479\n",
      "12   Checking account_moderate   7.248111\n",
      "19            Purpose_radio/TV   5.707578\n",
      "6                 Housing_rent   4.901023\n",
      "10        Saving accounts_rich   4.853800\n",
      "3                     Duration   4.699713\n",
      "4                 Housing_free   4.113929\n",
      "5                  Housing_own   3.604819\n",
      "9   Saving accounts_quite rich   3.270982\n"
     ]
    }
   ],
   "source": [
    "#concat two dataframes for better visualization \n",
    "featureScores = pd.concat([dfcolumns, dfscores], axis=1)\n",
    "featureScores.columns = ['Specs', 'Score']  #naming the dataframe columns\n",
    "print(featureScores.nlargest(10, 'Score'))  #print best features"
   ]
  },
  {
   "cell_type": "code",
   "execution_count": 10,
   "metadata": {},
   "outputs": [
    {
     "name": "stdout",
     "output_type": "stream",
     "text": [
      "> 1) 0.687 (0.030)\n",
      "> 2) 0.703 (0.036)\n",
      "> 3) 0.703 (0.036)\n",
      "> 4) 0.704 (0.031)\n",
      "> 5) 0.705 (0.033)\n",
      "> 6) 0.707 (0.035)\n",
      "> 7) 0.725 (0.024)\n",
      "> 8) 0.723 (0.023)\n",
      "> 9) 0.722 (0.018)\n",
      "> 10) 0.722 (0.018)\n",
      "> 11) 0.722 (0.018)\n",
      "> 12) 0.722 (0.018)\n",
      "> 13) 0.721 (0.018)\n",
      "> 14) 0.721 (0.019)\n",
      "> 15) 0.718 (0.017)\n",
      "> 16) 0.717 (0.016)\n",
      "> 17) 0.717 (0.015)\n",
      "> 18) 0.719 (0.014)\n",
      "> 19) 0.719 (0.015)\n",
      "> 20) 0.705 (0.010)\n",
      "> 21) 0.706 (0.010)\n",
      "> 22) 0.702 (0.006)\n",
      "> 23) 0.702 (0.005)\n"
     ]
    }
   ],
   "source": [
    "# evaluate a given model using cross-validation\n",
    "def evaluate_model(model, X, y):\n",
    "    cv = RepeatedStratifiedKFold(n_splits=10, n_repeats=3, random_state=42)\n",
    "    scores = cross_val_score(model, X, y, scoring='accuracy', cv=cv, n_jobs=-1, error_score='raise')\n",
    "    return scores\n",
    "\n",
    "model_eval = SVC()\n",
    "\n",
    "results = list()\n",
    "for i in range(1,X.shape[1]+1):\n",
    "        scores = evaluate_model(model_eval, X[featureScores.nlargest(i, 'Score')['Specs']], y)\n",
    "        results.append(scores)\n",
    "        print('> %s) %.3f (%.3f)' % (i, mean(scores), std(scores)))"
   ]
  },
  {
   "cell_type": "code",
   "execution_count": 18,
   "metadata": {},
   "outputs": [],
   "source": [
    "#X = gcr_data[featureScores.nlargest(23, 'Score')['Specs'].values]"
   ]
  },
  {
   "cell_type": "markdown",
   "metadata": {},
   "source": [
    "### 2. Feature Importance"
   ]
  },
  {
   "cell_type": "code",
   "execution_count": 11,
   "metadata": {},
   "outputs": [
    {
     "data": {
      "image/png": "[encoded data removed]",
      "text/plain": [
       "<Figure size 432x288 with 1 Axes>"
      ]
     },
     "metadata": {
      "needs_background": "light"
     },
     "output_type": "display_data"
    }
   ],
   "source": [
    "model_fi = ExtraTreesClassifier()\n",
    "model_fi.fit(X,y)\n",
    "#print(model.feature_importances_) #use inbuilt class feature_importances of tree based classifiers\n",
    "\n",
    "#plot graph of feature importances for better visualization\n",
    "feat_importances = pd.Series(model_fi.feature_importances_, index=X.columns)\n",
    "feat_importances.sort_values(ascending=True).nlargest(14).plot(kind='barh')\n",
    "plt.show()"
   ]
  },
  {
   "cell_type": "code",
   "execution_count": 12,
   "metadata": {},
   "outputs": [
    {
     "name": "stdout",
     "output_type": "stream",
     "text": [
      "> 1) 0.698 (0.004)\n",
      "> 2) 0.700 (0.000)\n",
      "> 3) 0.697 (0.008)\n",
      "> 4) 0.700 (0.000)\n",
      "> 5) 0.726 (0.027)\n",
      "> 6) 0.705 (0.013)\n",
      "> 7) 0.701 (0.004)\n",
      "> 8) 0.713 (0.016)\n",
      "> 9) 0.708 (0.011)\n",
      "> 10) 0.704 (0.011)\n",
      "> 11) 0.703 (0.008)\n",
      "> 12) 0.702 (0.006)\n",
      "> 13) 0.708 (0.011)\n",
      "> 14) 0.706 (0.009)\n",
      "> 15) 0.706 (0.010)\n",
      "> 16) 0.705 (0.010)\n",
      "> 17) 0.706 (0.011)\n",
      "> 18) 0.704 (0.007)\n",
      "> 19) 0.704 (0.007)\n",
      "> 20) 0.703 (0.006)\n",
      "> 21) 0.702 (0.006)\n",
      "> 22) 0.702 (0.006)\n",
      "> 23) 0.702 (0.005)\n"
     ]
    }
   ],
   "source": [
    "# evaluate a give model using cross-validation\n",
    "def evaluate_model(model, X, y):\n",
    "    cv = RepeatedStratifiedKFold(n_splits=10, n_repeats=3, random_state=42)\n",
    "    scores = cross_val_score(model, X, y, scoring='accuracy', cv=cv, n_jobs=-1, error_score='raise')\n",
    "    return scores\n",
    "\n",
    "model_eval = SVC()\n",
    "\n",
    "results = list()\n",
    "for i in range(1,X.shape[1]+1):\n",
    "        scores = evaluate_model(model_eval, X[feat_importances.nlargest(i).index], y)\n",
    "        results.append(scores)\n",
    "        print('> %s) %.3f (%.3f)' % (i, mean(scores), std(scores)))"
   ]
  },
  {
   "cell_type": "code",
   "execution_count": 13,
   "metadata": {},
   "outputs": [
    {
     "data": {
      "image/png": "[encoded data removed]",
      "text/plain": [
       "<Figure size 576x432 with 1 Axes>"
      ]
     },
     "metadata": {
      "needs_background": "light"
     },
     "output_type": "display_data"
    }
   ],
   "source": [
    "no_of_features = [str(i) for i in range(1,X.shape[1]+1)]\n",
    "# plot model performance for comparison\n",
    "plt.figure(figsize=(8,6))\n",
    "plt.boxplot(results, labels=no_of_features, showmeans=True)\n",
    "plt.xticks(rotation=75)\n",
    "plt.title('No. of features vs. Average Accuracy')\n",
    "plt.show()"
   ]
  },
  {
   "cell_type": "markdown",
   "metadata": {},
   "source": [
    "### 3. Correlation Matrix with Heatmap"
   ]
  },
  {
   "cell_type": "raw",
   "metadata": {},
   "source": [
    "#get correlations of each features in dataset\n",
    "corrmat = gcr_data.corr()\n",
    "top_corr_features = corrmat.index\n",
    "plt.figure(figsize=(20,20))\n",
    "\n",
    "#plot heat map\n",
    "g=sns.heatmap(gcr_data[top_corr_features].corr(), annot=False, cmap=\"RdYlGn\")"
   ]
  },
  {
   "cell_type": "markdown",
   "metadata": {},
   "source": [
    "<a id=\"split_svm\"></a>\n",
    "<h2>4.3 StratifiedShuffleSplit</h2>"
   ]
  },
  {
   "cell_type": "code",
   "execution_count": 14,
   "metadata": {},
   "outputs": [],
   "source": [
    "X = gcr_data[feat_importances.nlargest(5).index]\n",
    "#X = gcr_data[featureScores.nlargest(13, 'Score')['Specs']]\n",
    "\n",
    "#X.head()"
   ]
  },
  {
   "cell_type": "code",
   "execution_count": 15,
   "metadata": {},
   "outputs": [],
   "source": [
    "strat_shuf_split = StratifiedShuffleSplit(n_splits=1, \n",
    "                                          test_size=0.3, \n",
    "                                          random_state=42)\n",
    "\n",
    "train_idx, test_idx = next(strat_shuf_split.split(X, gcr_data.Risk))\n",
    "\n",
    "# Create the dataframes\n",
    "X_train = X.loc[train_idx, X.columns]\n",
    "y_train = gcr_data.loc[train_idx, 'Risk']\n",
    "\n",
    "X_test  = X.loc[test_idx, X.columns]\n",
    "y_test  = gcr_data.loc[test_idx, 'Risk']"
   ]
  },
  {
   "cell_type": "markdown",
   "metadata": {},
   "source": [
    "<a id=\"modelling_svm\"></a> <br>\n",
    "# **5. Models**"
   ]
  },
  {
   "cell_type": "markdown",
   "metadata": {},
   "source": [
    "#### Suppressing any warnings"
   ]
  },
  {
   "cell_type": "code",
   "execution_count": 16,
   "metadata": {},
   "outputs": [],
   "source": [
    "# Suppress warnings about too few trees from the early models\n",
    "import warnings\n",
    "warnings.filterwarnings(\"ignore\", category=UserWarning)\n",
    "warnings.filterwarnings(\"ignore\", category=RuntimeWarning)"
   ]
  },
  {
   "cell_type": "markdown",
   "metadata": {},
   "source": [
    "<a id=\"models\"></a>\n",
    "<h2>5.1 Support Vector Machines</h2>"
   ]
  },
  {
   "cell_type": "code",
   "execution_count": 17,
   "metadata": {},
   "outputs": [],
   "source": [
    "svc = SVC().fit(X_train, y_train)"
   ]
  },
  {
   "cell_type": "code",
   "execution_count": 18,
   "metadata": {},
   "outputs": [],
   "source": [
    "from sklearn.preprocessing import MinMaxScaler\n",
    "\n",
    "scaler = MinMaxScaler()\n",
    "X_train_scaled = scaler.fit_transform(X_train)\n",
    "\n",
    "scaler = MinMaxScaler()\n",
    "X_test_scaled = scaler.fit_transform(X_test)\n",
    "\n",
    "svc_scaled = SVC().fit(X_train_scaled, y_train)"
   ]
  },
  {
   "cell_type": "code",
   "execution_count": 19,
   "metadata": {},
   "outputs": [
    {
     "data": {
      "text/plain": [
       "<AxesSubplot:xlabel='Credit amount', ylabel='Duration'>"
      ]
     },
     "execution_count": 19,
     "metadata": {},
     "output_type": "execute_result"
    },
    {
     "data": {
      "image/png": "[encoded data removed]",
      "text/plain": [
       "<Figure size 432x288 with 1 Axes>"
      ]
     },
     "metadata": {
      "needs_background": "light"
     },
     "output_type": "display_data"
    }
   ],
   "source": [
    "sns.scatterplot(x = gcr_data['Credit amount'], y = gcr_data['Duration'], hue = y_train)"
   ]
  },
  {
   "cell_type": "code",
   "execution_count": 20,
   "metadata": {},
   "outputs": [
    {
     "name": "stdout",
     "output_type": "stream",
     "text": [
      "Fitting 5 folds for each of 16 candidates, totalling 80 fits\n",
      "[CV] C=0.1, gamma=1, kernel=rbf ......................................\n",
      "[CV] .......... C=0.1, gamma=1, kernel=rbf, score=0.700, total=   0.0s\n",
      "[CV] C=0.1, gamma=1, kernel=rbf ......................................\n",
      "[CV] .......... C=0.1, gamma=1, kernel=rbf, score=0.700, total=   0.0s\n",
      "[CV] C=0.1, gamma=1, kernel=rbf ......................................\n",
      "[CV] .......... C=0.1, gamma=1, kernel=rbf, score=0.700, total=   0.0s\n",
      "[CV] C=0.1, gamma=1, kernel=rbf ......................................\n",
      "[CV] .......... C=0.1, gamma=1, kernel=rbf, score=0.700, total=   0.0s\n",
      "[CV] C=0.1, gamma=1, kernel=rbf ......................................\n",
      "[CV] .......... C=0.1, gamma=1, kernel=rbf, score=0.700, total=   0.0s\n",
      "[CV] C=0.1, gamma=0.1, kernel=rbf ....................................\n",
      "[CV] ........ C=0.1, gamma=0.1, kernel=rbf, score=0.700, total=   0.0s\n",
      "[CV] C=0.1, gamma=0.1, kernel=rbf ....................................\n",
      "[CV] ........ C=0.1, gamma=0.1, kernel=rbf, score=0.700, total=   0.0s\n",
      "[CV] C=0.1, gamma=0.1, kernel=rbf ....................................\n",
      "[CV] ........ C=0.1, gamma=0.1, kernel=rbf, score=0.700, total=   0.0s\n",
      "[CV] C=0.1, gamma=0.1, kernel=rbf ....................................\n",
      "[CV] ........ C=0.1, gamma=0.1, kernel=rbf, score=0.700, total=   0.0s\n",
      "[CV] C=0.1, gamma=0.1, kernel=rbf ....................................\n",
      "[CV] ........ C=0.1, gamma=0.1, kernel=rbf, score=0.700, total=   0.0s\n",
      "[CV] C=0.1, gamma=0.01, kernel=rbf ...................................\n",
      "[CV] ....... C=0.1, gamma=0.01, kernel=rbf, score=0.700, total=   0.0s\n",
      "[CV] C=0.1, gamma=0.01, kernel=rbf ...................................\n",
      "[CV] ....... C=0.1, gamma=0.01, kernel=rbf, score=0.700, total=   0.0s"
     ]
    },
    {
     "name": "stderr",
     "output_type": "stream",
     "text": [
      "[Parallel(n_jobs=1)]: Using backend SequentialBackend with 1 concurrent workers.\n",
      "[Parallel(n_jobs=1)]: Done   1 out of   1 | elapsed:    0.0s remaining:    0.0s\n",
      "[Parallel(n_jobs=1)]: Done   2 out of   2 | elapsed:    0.0s remaining:    0.0s\n",
      "[Parallel(n_jobs=1)]: Done   3 out of   3 | elapsed:    0.0s remaining:    0.0s\n"
     ]
    },
    {
     "name": "stdout",
     "output_type": "stream",
     "text": [
      "\n",
      "[CV] C=0.1, gamma=0.01, kernel=rbf ...................................\n",
      "[CV] ....... C=0.1, gamma=0.01, kernel=rbf, score=0.700, total=   0.0s\n",
      "[CV] C=0.1, gamma=0.01, kernel=rbf ...................................\n",
      "[CV] ....... C=0.1, gamma=0.01, kernel=rbf, score=0.700, total=   0.0s\n",
      "[CV] C=0.1, gamma=0.01, kernel=rbf ...................................\n",
      "[CV] ....... C=0.1, gamma=0.01, kernel=rbf, score=0.700, total=   0.0s\n",
      "[CV] C=0.1, gamma=0.001, kernel=rbf ..................................\n",
      "[CV] ...... C=0.1, gamma=0.001, kernel=rbf, score=0.700, total=   0.0s\n",
      "[CV] C=0.1, gamma=0.001, kernel=rbf ..................................\n",
      "[CV] ...... C=0.1, gamma=0.001, kernel=rbf, score=0.700, total=   0.0s\n",
      "[CV] C=0.1, gamma=0.001, kernel=rbf ..................................\n",
      "[CV] ...... C=0.1, gamma=0.001, kernel=rbf, score=0.700, total=   0.0s\n",
      "[CV] C=0.1, gamma=0.001, kernel=rbf ..................................\n",
      "[CV] ...... C=0.1, gamma=0.001, kernel=rbf, score=0.700, total=   0.0s\n",
      "[CV] C=0.1, gamma=0.001, kernel=rbf ..................................\n",
      "[CV] ...... C=0.1, gamma=0.001, kernel=rbf, score=0.700, total=   0.0s\n",
      "[CV] C=1, gamma=1, kernel=rbf ........................................\n",
      "[CV] ............ C=1, gamma=1, kernel=rbf, score=0.764, total=   0.0s\n",
      "[CV] C=1, gamma=1, kernel=rbf ........................................\n",
      "[CV] ............ C=1, gamma=1, kernel=rbf, score=0.721, total=   0.0s\n",
      "[CV] C=1, gamma=1, kernel=rbf ........................................\n",
      "[CV] ............ C=1, gamma=1, kernel=rbf, score=0.714, total=   0.0s\n",
      "[CV] C=1, gamma=1, kernel=rbf ........................................\n",
      "[CV] ............ C=1, gamma=1, kernel=rbf, score=0.714, total=   0.0s\n",
      "[CV] C=1, gamma=1, kernel=rbf ........................................\n",
      "[CV] ............ C=1, gamma=1, kernel=rbf, score=0.700, total=   0.0s\n",
      "[CV] C=1, gamma=0.1, kernel=rbf ......................................\n",
      "[CV] .......... C=1, gamma=0.1, kernel=rbf, score=0.700, total=   0.0s\n",
      "[CV] C=1, gamma=0.1, kernel=rbf ......................................\n",
      "[CV] .......... C=1, gamma=0.1, kernel=rbf, score=0.700, total=   0.0s\n",
      "[CV] C=1, gamma=0.1, kernel=rbf ......................................\n",
      "[CV] .......... C=1, gamma=0.1, kernel=rbf, score=0.700, total=   0.0s\n",
      "[CV] C=1, gamma=0.1, kernel=rbf ......................................\n",
      "[CV] .......... C=1, gamma=0.1, kernel=rbf, score=0.700, total=   0.0s\n",
      "[CV] C=1, gamma=0.1, kernel=rbf ......................................\n",
      "[CV] .......... C=1, gamma=0.1, kernel=rbf, score=0.700, total=   0.0s\n",
      "[CV] C=1, gamma=0.01, kernel=rbf .....................................\n",
      "[CV] ......... C=1, gamma=0.01, kernel=rbf, score=0.700, total=   0.0s\n",
      "[CV] C=1, gamma=0.01, kernel=rbf .....................................\n",
      "[CV] ......... C=1, gamma=0.01, kernel=rbf, score=0.700, total=   0.0s\n",
      "[CV] C=1, gamma=0.01, kernel=rbf .....................................\n",
      "[CV] ......... C=1, gamma=0.01, kernel=rbf, score=0.700, total=   0.0s\n",
      "[CV] C=1, gamma=0.01, kernel=rbf .....................................\n",
      "[CV] ......... C=1, gamma=0.01, kernel=rbf, score=0.700, total=   0.0s\n",
      "[CV] C=1, gamma=0.01, kernel=rbf .....................................\n",
      "[CV] ......... C=1, gamma=0.01, kernel=rbf, score=0.700, total=   0.0s\n",
      "[CV] C=1, gamma=0.001, kernel=rbf ....................................\n",
      "[CV] ........ C=1, gamma=0.001, kernel=rbf, score=0.700, total=   0.0s\n",
      "[CV] C=1, gamma=0.001, kernel=rbf ....................................\n",
      "[CV] ........ C=1, gamma=0.001, kernel=rbf, score=0.700, total=   0.0s\n",
      "[CV] C=1, gamma=0.001, kernel=rbf ....................................\n",
      "[CV] ........ C=1, gamma=0.001, kernel=rbf, score=0.700, total=   0.0s\n",
      "[CV] C=1, gamma=0.001, kernel=rbf ....................................\n",
      "[CV] ........ C=1, gamma=0.001, kernel=rbf, score=0.700, total=   0.0s\n",
      "[CV] C=1, gamma=0.001, kernel=rbf ....................................\n",
      "[CV] ........ C=1, gamma=0.001, kernel=rbf, score=0.700, total=   0.0s\n",
      "[CV] C=10, gamma=1, kernel=rbf .......................................\n",
      "[CV] ........... C=10, gamma=1, kernel=rbf, score=0.764, total=   0.0s\n",
      "[CV] C=10, gamma=1, kernel=rbf .......................................\n",
      "[CV] ........... C=10, gamma=1, kernel=rbf, score=0.729, total=   0.0s\n",
      "[CV] C=10, gamma=1, kernel=rbf .......................................\n",
      "[CV] ........... C=10, gamma=1, kernel=rbf, score=0.729, total=   0.0s\n",
      "[CV] C=10, gamma=1, kernel=rbf .......................................\n",
      "[CV] ........... C=10, gamma=1, kernel=rbf, score=0.729, total=   0.0s\n",
      "[CV] C=10, gamma=1, kernel=rbf .......................................\n",
      "[CV] ........... C=10, gamma=1, kernel=rbf, score=0.707, total=   0.0s\n",
      "[CV] C=10, gamma=0.1, kernel=rbf .....................................\n",
      "[CV] ......... C=10, gamma=0.1, kernel=rbf, score=0.764, total=   0.0s\n",
      "[CV] C=10, gamma=0.1, kernel=rbf .....................................\n",
      "[CV] ......... C=10, gamma=0.1, kernel=rbf, score=0.693, total=   0.0s\n",
      "[CV] C=10, gamma=0.1, kernel=rbf .....................................\n",
      "[CV] ......... C=10, gamma=0.1, kernel=rbf, score=0.707, total=   0.0s\n",
      "[CV] C=10, gamma=0.1, kernel=rbf .....................................\n",
      "[CV] ......... C=10, gamma=0.1, kernel=rbf, score=0.721, total=   0.0s\n",
      "[CV] C=10, gamma=0.1, kernel=rbf .....................................\n",
      "[CV] ......... C=10, gamma=0.1, kernel=rbf, score=0.686, total=   0.0s\n",
      "[CV] C=10, gamma=0.01, kernel=rbf ....................................\n",
      "[CV] ........ C=10, gamma=0.01, kernel=rbf, score=0.700, total=   0.0s\n",
      "[CV] C=10, gamma=0.01, kernel=rbf ....................................\n",
      "[CV] ........ C=10, gamma=0.01, kernel=rbf, score=0.700, total=   0.0s\n",
      "[CV] C=10, gamma=0.01, kernel=rbf ....................................\n",
      "[CV] ........ C=10, gamma=0.01, kernel=rbf, score=0.700, total=   0.0s\n",
      "[CV] C=10, gamma=0.01, kernel=rbf ....................................\n",
      "[CV] ........ C=10, gamma=0.01, kernel=rbf, score=0.700, total=   0.0s\n",
      "[CV] C=10, gamma=0.01, kernel=rbf ....................................\n",
      "[CV] ........ C=10, gamma=0.01, kernel=rbf, score=0.700, total=   0.0s\n",
      "[CV] C=10, gamma=0.001, kernel=rbf ...................................\n",
      "[CV] ....... C=10, gamma=0.001, kernel=rbf, score=0.700, total=   0.0s\n",
      "[CV] C=10, gamma=0.001, kernel=rbf ...................................\n",
      "[CV] ....... C=10, gamma=0.001, kernel=rbf, score=0.700, total=   0.0s\n",
      "[CV] C=10, gamma=0.001, kernel=rbf ...................................\n",
      "[CV] ....... C=10, gamma=0.001, kernel=rbf, score=0.700, total=   0.0s\n",
      "[CV] C=10, gamma=0.001, kernel=rbf ...................................\n",
      "[CV] ....... C=10, gamma=0.001, kernel=rbf, score=0.700, total=   0.0s\n",
      "[CV] C=10, gamma=0.001, kernel=rbf ...................................\n",
      "[CV] ....... C=10, gamma=0.001, kernel=rbf, score=0.700, total=   0.0s\n",
      "[CV] C=100, gamma=1, kernel=rbf ......................................\n",
      "[CV] .......... C=100, gamma=1, kernel=rbf, score=0.743, total=   0.0s\n",
      "[CV] C=100, gamma=1, kernel=rbf ......................................\n",
      "[CV] .......... C=100, gamma=1, kernel=rbf, score=0.729, total=   0.0s\n",
      "[CV] C=100, gamma=1, kernel=rbf ......................................\n",
      "[CV] .......... C=100, gamma=1, kernel=rbf, score=0.721, total=   0.0s\n",
      "[CV] C=100, gamma=1, kernel=rbf ......................................\n",
      "[CV] .......... C=100, gamma=1, kernel=rbf, score=0.721, total=   0.0s\n",
      "[CV] C=100, gamma=1, kernel=rbf ......................................\n",
      "[CV] .......... C=100, gamma=1, kernel=rbf, score=0.714, total=   0.0s\n",
      "[CV] C=100, gamma=0.1, kernel=rbf ....................................\n",
      "[CV] ........ C=100, gamma=0.1, kernel=rbf, score=0.779, total=   0.0s\n",
      "[CV] C=100, gamma=0.1, kernel=rbf ....................................\n",
      "[CV] ........ C=100, gamma=0.1, kernel=rbf, score=0.721, total=   0.1s\n",
      "[CV] C=100, gamma=0.1, kernel=rbf ....................................\n",
      "[CV] ........ C=100, gamma=0.1, kernel=rbf, score=0.736, total=   0.0s\n",
      "[CV] C=100, gamma=0.1, kernel=rbf ....................................\n",
      "[CV] ........ C=100, gamma=0.1, kernel=rbf, score=0.714, total=   0.1s\n",
      "[CV] C=100, gamma=0.1, kernel=rbf ....................................\n",
      "[CV] ........ C=100, gamma=0.1, kernel=rbf, score=0.671, total=   0.0s\n",
      "[CV] C=100, gamma=0.01, kernel=rbf ...................................\n",
      "[CV] ....... C=100, gamma=0.01, kernel=rbf, score=0.700, total=   0.0s\n",
      "[CV] C=100, gamma=0.01, kernel=rbf ...................................\n",
      "[CV] ....... C=100, gamma=0.01, kernel=rbf, score=0.700, total=   0.0s\n",
      "[CV] C=100, gamma=0.01, kernel=rbf ...................................\n",
      "[CV] ....... C=100, gamma=0.01, kernel=rbf, score=0.700, total=   0.0s\n",
      "[CV] C=100, gamma=0.01, kernel=rbf ...................................\n",
      "[CV] ....... C=100, gamma=0.01, kernel=rbf, score=0.700, total=   0.0s\n",
      "[CV] C=100, gamma=0.01, kernel=rbf ...................................\n",
      "[CV] ....... C=100, gamma=0.01, kernel=rbf, score=0.700, total=   0.0s\n",
      "[CV] C=100, gamma=0.001, kernel=rbf ..................................\n",
      "[CV] ...... C=100, gamma=0.001, kernel=rbf, score=0.700, total=   0.0s\n",
      "[CV] C=100, gamma=0.001, kernel=rbf ..................................\n",
      "[CV] ...... C=100, gamma=0.001, kernel=rbf, score=0.700, total=   0.0s\n",
      "[CV] C=100, gamma=0.001, kernel=rbf ..................................\n",
      "[CV] ...... C=100, gamma=0.001, kernel=rbf, score=0.700, total=   0.0s\n",
      "[CV] C=100, gamma=0.001, kernel=rbf ..................................\n",
      "[CV] ...... C=100, gamma=0.001, kernel=rbf, score=0.700, total=   0.0s\n",
      "[CV] C=100, gamma=0.001, kernel=rbf ..................................\n",
      "[CV] ...... C=100, gamma=0.001, kernel=rbf, score=0.700, total=   0.0s\n",
      "\n",
      "\n",
      "################################################################################\n",
      "Best Params:  {'C': 10, 'gamma': 1, 'kernel': 'rbf'}\n",
      "Best Estimator:  SVC(C=10, gamma=1)\n"
     ]
    },
    {
     "name": "stderr",
     "output_type": "stream",
     "text": [
      "[Parallel(n_jobs=1)]: Done  80 out of  80 | elapsed:    1.6s finished\n"
     ]
    }
   ],
   "source": [
    "from sklearn.model_selection import GridSearchCV\n",
    "\n",
    "param_grid = {'C': [0.1, 1, 10, 100], 'gamma': [1, 0.1, 0.01, 0.001], 'kernel': ['rbf']} \n",
    "\n",
    "grid = GridSearchCV(SVC(),param_grid,refit=True,verbose=4).fit(X_train_scaled,y_train)\n",
    "\n",
    "print('\\n')\n",
    "print('#'*80)\n",
    "print('Best Params: ', grid.best_params_)\n",
    "print('Best Estimator: ', grid.best_estimator_)"
   ]
  },
  {
   "cell_type": "markdown",
   "metadata": {},
   "source": [
    "<a id=\"metrics_svm\"></a>\n",
    "<h2>5.2 Metrics</h2>"
   ]
  },
  {
   "cell_type": "code",
   "execution_count": 21,
   "metadata": {},
   "outputs": [],
   "source": [
    "y_pred_svc = svc.predict(X_test)\n",
    "y_pred_svc_scaled = svc_scaled.predict(X_test_scaled)\n",
    "grid_predictions = grid.predict(X_test_scaled)"
   ]
  },
  {
   "cell_type": "code",
   "execution_count": 22,
   "metadata": {},
   "outputs": [
    {
     "name": "stdout",
     "output_type": "stream",
     "text": [
      "SVC:  0.7166666666666667\n",
      "##############################\n",
      "SVC_scaled:  0.75\n",
      "##############################\n",
      "GridSearchCV SVC:  0.7466666666666667\n"
     ]
    }
   ],
   "source": [
    "from sklearn.metrics import accuracy_score\n",
    "\n",
    "print('SVC: ', accuracy_score(y_test, y_pred_svc))\n",
    "print('#'*30)\n",
    "print('SVC_scaled: ', accuracy_score(y_test, y_pred_svc_scaled))\n",
    "print('#'*30)\n",
    "print('GridSearchCV SVC: ', accuracy_score(y_test, grid_predictions))"
   ]
  },
  {
   "cell_type": "markdown",
   "metadata": {},
   "source": [
    "<a id=\"conmat_svm\"></a>\n",
    "<h2>5.3 Confusion Matrix and Classification Report</h2>"
   ]
  },
  {
   "cell_type": "code",
   "execution_count": 23,
   "metadata": {},
   "outputs": [
    {
     "data": {
      "text/plain": [
       "<AxesSubplot:>"
      ]
     },
     "execution_count": 23,
     "metadata": {},
     "output_type": "execute_result"
    },
    {
     "data": {
      "image/png": "[encoded data removed]",
      "text/plain": [
       "<Figure size 432x288 with 2 Axes>"
      ]
     },
     "metadata": {
      "needs_background": "light"
     },
     "output_type": "display_data"
    }
   ],
   "source": [
    "cm = confusion_matrix(y_test, y_pred_svc)\n",
    "sns.heatmap(cm, annot=True)"
   ]
  },
  {
   "cell_type": "code",
   "execution_count": 24,
   "metadata": {},
   "outputs": [
    {
     "data": {
      "text/plain": [
       "<AxesSubplot:>"
      ]
     },
     "execution_count": 24,
     "metadata": {},
     "output_type": "execute_result"
    },
    {
     "data": {
      "image/png": "[encoded data removed]",
      "text/plain": [
       "<Figure size 432x288 with 2 Axes>"
      ]
     },
     "metadata": {
      "needs_background": "light"
     },
     "output_type": "display_data"
    }
   ],
   "source": [
    "cm_sc = confusion_matrix(y_test, y_pred_svc_scaled)\n",
    "sns.heatmap(cm_sc,annot=True,fmt=\"d\")"
   ]
  },
  {
   "cell_type": "code",
   "execution_count": 25,
   "metadata": {},
   "outputs": [
    {
     "data": {
      "text/plain": [
       "<AxesSubplot:>"
      ]
     },
     "execution_count": 25,
     "metadata": {},
     "output_type": "execute_result"
    },
    {
     "data": {
      "image/png": "[encoded data removed]",
      "text/plain": [
       "<Figure size 432x288 with 2 Axes>"
      ]
     },
     "metadata": {
      "needs_background": "light"
     },
     "output_type": "display_data"
    }
   ],
   "source": [
    "cm_grid = confusion_matrix(y_test, grid_predictions)\n",
    "sns.heatmap(cm, annot=True)"
   ]
  },
  {
   "cell_type": "code",
   "execution_count": 26,
   "metadata": {},
   "outputs": [
    {
     "name": "stdout",
     "output_type": "stream",
     "text": [
      "############################################################\n",
      "SVC\n",
      "              precision    recall  f1-score   support\n",
      "\n",
      "           0       1.00      0.06      0.11        90\n",
      "           1       0.71      1.00      0.83       210\n",
      "\n",
      "    accuracy                           0.72       300\n",
      "   macro avg       0.86      0.53      0.47       300\n",
      "weighted avg       0.80      0.72      0.61       300\n",
      "\n",
      "\n",
      "\n",
      "############################################################\n",
      "SVC_scaled\n",
      "              precision    recall  f1-score   support\n",
      "\n",
      "           0       0.80      0.22      0.35        90\n",
      "           1       0.75      0.98      0.85       210\n",
      "\n",
      "    accuracy                           0.75       300\n",
      "   macro avg       0.77      0.60      0.60       300\n",
      "weighted avg       0.76      0.75      0.70       300\n",
      "\n",
      "\n",
      "\n",
      "############################################################\n",
      "SVC_GridSearchCV\n",
      "              precision    recall  f1-score   support\n",
      "\n",
      "           0       0.85      0.19      0.31        90\n",
      "           1       0.74      0.99      0.84       210\n",
      "\n",
      "    accuracy                           0.75       300\n",
      "   macro avg       0.79      0.59      0.58       300\n",
      "weighted avg       0.77      0.75      0.68       300\n",
      "\n",
      "############################################################\n"
     ]
    }
   ],
   "source": [
    "print('#'*60)\n",
    "print('SVC')\n",
    "print(classification_report(y_test, y_pred_svc))\n",
    "\n",
    "print('\\n')\n",
    "print('#'*60)\n",
    "\n",
    "print('SVC_scaled')\n",
    "print(classification_report(y_test, y_pred_svc_scaled))\n",
    "\n",
    "print('\\n')\n",
    "print('#'*60)\n",
    "\n",
    "print('SVC_GridSearchCV')\n",
    "print(classification_report(y_test,grid_predictions))\n",
    "print('#'*60)"
   ]
  },
  {
   "cell_type": "markdown",
   "metadata": {},
   "source": [
    "<a id=\"summary_svm\"></a> <br>\n",
    "# **6. Conclusion and Benefits of the model**\n",
    "- SVM performs comparably better when number of features are set to 5.\n",
    "- The maximum accuracy obtained using GridSearchCV is 75% and minimum FPR obtained is 20%.\n",
    "- SVM performs better when scaled after log transforamation, while other models do not.\n",
    "- Moreover, as the data set is unbalanced I tried to improve prediction power of the minority class and with the help of GridSearchCV I succeeded in the task.\n",
    "- Accuracy of the minority class has increased and is comparable to the accuracy of the majority class. This resulted in overall reduction of accuracy, however it is not problematic.\n",
    "- Polynomial Features i.e. (Credit_amount_duration) helped us to improve the metrics and FPR on this dataset for all implementations."
   ]
  },
  {
   "cell_type": "markdown",
   "metadata": {},
   "source": [
    "#########################################################################################################################################"
   ]
  }
 ],
 "metadata": {
  "kernelspec": {
   "display_name": "Python 3",
   "language": "python",
   "name": "python3"
  },
  "language_info": {
   "codemirror_mode": {
    "name": "ipython",
    "version": 3
   },
   "file_extension": ".py",
   "mimetype": "text/x-python",
   "name": "python",
   "nbconvert_exporter": "python",
   "pygments_lexer": "ipython3",
   "version": "3.7.1"
  }
 },
 "nbformat": 4,
 "nbformat_minor": 4
}
