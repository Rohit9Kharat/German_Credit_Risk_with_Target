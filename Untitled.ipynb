{
 "cells": [
  {
   "cell_type": "code",
   "execution_count": 13,
   "metadata": {},
   "outputs": [],
   "source": [
    "import numpy as np\n",
    "from numpy import mean\n",
    "from numpy import std\n",
    "import pandas as pd\n",
    "\n",
    "from scipy import stats \n",
    "import math\n",
    "\n",
    "import matplotlib.pyplot as plt\n",
    "import seaborn as sns\n",
    "\n",
    "from sklearn.linear_model import LogisticRegression\n",
    "from sklearn.linear_model import LogisticRegressionCV\n",
    "from sklearn.linear_model import Perceptron\n",
    "from sklearn.tree import DecisionTreeClassifier\n",
    "from sklearn.ensemble import RandomForestClassifier\n",
    "from sklearn.ensemble import GradientBoostingClassifier\n",
    "from sklearn.ensemble import ExtraTreesClassifier\n",
    "from sklearn.ensemble import AdaBoostClassifier\n",
    "from sklearn.ensemble import VotingClassifier\n",
    "from xgboost import XGBClassifier\n",
    "from sklearn.model_selection import GridSearchCV\n",
    "\n",
    "from sklearn.metrics import precision_recall_fscore_support as score\n",
    "from sklearn.metrics import confusion_matrix, accuracy_score, roc_auc_score, classification_report, f1_score, precision_score, recall_score\n",
    "from sklearn.metrics import roc_curve, precision_recall_curve\n",
    "from sklearn.preprocessing import label_binarize\n",
    "\n",
    "from sklearn.feature_selection import SelectKBest\n",
    "from sklearn.feature_selection import chi2\n",
    "from sklearn.model_selection import cross_val_score\n",
    "from sklearn.model_selection import RepeatedStratifiedKFold\n",
    "from sklearn.feature_selection import RFE\n",
    "from sklearn.pipeline import Pipeline\n",
    "\n",
    "from colorsetup import colors, palette"
   ]
  },
  {
   "cell_type": "code",
   "execution_count": 2,
   "metadata": {},
   "outputs": [],
   "source": [
    "gcr_data = pd.read_csv(\"gcr_data_imputed2.csv\")\n",
    "#gcr_data = pd.read_csv(\"gcr_data_imputed.csv\")\n",
    "#gcr_data = pd.read_csv(\"gcr_processed.csv\")"
   ]
  },
  {
   "cell_type": "code",
   "execution_count": 3,
   "metadata": {},
   "outputs": [
    {
     "data": {
      "text/html": [
       "<div>\n",
       "<style scoped>\n",
       "    .dataframe tbody tr th:only-of-type {\n",
       "        vertical-align: middle;\n",
       "    }\n",
       "\n",
       "    .dataframe tbody tr th {\n",
       "        vertical-align: top;\n",
       "    }\n",
       "\n",
       "    .dataframe thead th {\n",
       "        text-align: right;\n",
       "    }\n",
       "</style>\n",
       "<table border=\"1\" class=\"dataframe\">\n",
       "  <thead>\n",
       "    <tr style=\"text-align: right;\">\n",
       "      <th></th>\n",
       "      <th>Age</th>\n",
       "      <th>Sex</th>\n",
       "      <th>Job</th>\n",
       "      <th>Credit amount</th>\n",
       "      <th>Duration</th>\n",
       "      <th>Housing_free</th>\n",
       "      <th>Housing_own</th>\n",
       "      <th>Housing_rent</th>\n",
       "      <th>Saving accounts_little</th>\n",
       "      <th>Saving accounts_moderate</th>\n",
       "      <th>...</th>\n",
       "      <th>Checking account_rich</th>\n",
       "      <th>Purpose_business</th>\n",
       "      <th>Purpose_car</th>\n",
       "      <th>Purpose_domestic appliances</th>\n",
       "      <th>Purpose_education</th>\n",
       "      <th>Purpose_furniture/equipment</th>\n",
       "      <th>Purpose_radio/TV</th>\n",
       "      <th>Purpose_repairs</th>\n",
       "      <th>Purpose_vacation/others</th>\n",
       "      <th>Risk</th>\n",
       "    </tr>\n",
       "  </thead>\n",
       "  <tbody>\n",
       "    <tr>\n",
       "      <th>0</th>\n",
       "      <td>4.219508</td>\n",
       "      <td>0.693147</td>\n",
       "      <td>2</td>\n",
       "      <td>7.064759</td>\n",
       "      <td>1.945910</td>\n",
       "      <td>0.0000</td>\n",
       "      <td>0.6934</td>\n",
       "      <td>0.0</td>\n",
       "      <td>0</td>\n",
       "      <td>0.0</td>\n",
       "      <td>...</td>\n",
       "      <td>0.0</td>\n",
       "      <td>0.0</td>\n",
       "      <td>0</td>\n",
       "      <td>0.0</td>\n",
       "      <td>0.0000</td>\n",
       "      <td>0.0000</td>\n",
       "      <td>0.6934</td>\n",
       "      <td>0.0</td>\n",
       "      <td>0.0</td>\n",
       "      <td>1</td>\n",
       "    </tr>\n",
       "    <tr>\n",
       "      <th>1</th>\n",
       "      <td>3.135494</td>\n",
       "      <td>0.000000</td>\n",
       "      <td>2</td>\n",
       "      <td>8.691483</td>\n",
       "      <td>3.891820</td>\n",
       "      <td>0.0000</td>\n",
       "      <td>0.6934</td>\n",
       "      <td>0.0</td>\n",
       "      <td>1</td>\n",
       "      <td>0.0</td>\n",
       "      <td>...</td>\n",
       "      <td>0.0</td>\n",
       "      <td>0.0</td>\n",
       "      <td>0</td>\n",
       "      <td>0.0</td>\n",
       "      <td>0.0000</td>\n",
       "      <td>0.0000</td>\n",
       "      <td>0.6934</td>\n",
       "      <td>0.0</td>\n",
       "      <td>0.0</td>\n",
       "      <td>0</td>\n",
       "    </tr>\n",
       "    <tr>\n",
       "      <th>2</th>\n",
       "      <td>3.912023</td>\n",
       "      <td>0.693147</td>\n",
       "      <td>1</td>\n",
       "      <td>7.648263</td>\n",
       "      <td>2.564949</td>\n",
       "      <td>0.0000</td>\n",
       "      <td>0.6934</td>\n",
       "      <td>0.0</td>\n",
       "      <td>1</td>\n",
       "      <td>0.0</td>\n",
       "      <td>...</td>\n",
       "      <td>0.0</td>\n",
       "      <td>0.0</td>\n",
       "      <td>0</td>\n",
       "      <td>0.0</td>\n",
       "      <td>0.6934</td>\n",
       "      <td>0.0000</td>\n",
       "      <td>0.0000</td>\n",
       "      <td>0.0</td>\n",
       "      <td>0.0</td>\n",
       "      <td>1</td>\n",
       "    </tr>\n",
       "    <tr>\n",
       "      <th>3</th>\n",
       "      <td>3.828641</td>\n",
       "      <td>0.693147</td>\n",
       "      <td>2</td>\n",
       "      <td>8.972464</td>\n",
       "      <td>3.761200</td>\n",
       "      <td>0.6934</td>\n",
       "      <td>0.0000</td>\n",
       "      <td>0.0</td>\n",
       "      <td>1</td>\n",
       "      <td>0.0</td>\n",
       "      <td>...</td>\n",
       "      <td>0.0</td>\n",
       "      <td>0.0</td>\n",
       "      <td>0</td>\n",
       "      <td>0.0</td>\n",
       "      <td>0.0000</td>\n",
       "      <td>0.6934</td>\n",
       "      <td>0.0000</td>\n",
       "      <td>0.0</td>\n",
       "      <td>0.0</td>\n",
       "      <td>1</td>\n",
       "    </tr>\n",
       "    <tr>\n",
       "      <th>4</th>\n",
       "      <td>3.988984</td>\n",
       "      <td>0.693147</td>\n",
       "      <td>2</td>\n",
       "      <td>8.491055</td>\n",
       "      <td>3.218876</td>\n",
       "      <td>0.6934</td>\n",
       "      <td>0.0000</td>\n",
       "      <td>0.0</td>\n",
       "      <td>1</td>\n",
       "      <td>0.0</td>\n",
       "      <td>...</td>\n",
       "      <td>0.0</td>\n",
       "      <td>0.0</td>\n",
       "      <td>1</td>\n",
       "      <td>0.0</td>\n",
       "      <td>0.0000</td>\n",
       "      <td>0.0000</td>\n",
       "      <td>0.0000</td>\n",
       "      <td>0.0</td>\n",
       "      <td>0.0</td>\n",
       "      <td>0</td>\n",
       "    </tr>\n",
       "  </tbody>\n",
       "</table>\n",
       "<p>5 rows × 24 columns</p>\n",
       "</div>"
      ],
      "text/plain": [
       "        Age       Sex  Job  Credit amount  Duration  Housing_free  \\\n",
       "0  4.219508  0.693147    2       7.064759  1.945910        0.0000   \n",
       "1  3.135494  0.000000    2       8.691483  3.891820        0.0000   \n",
       "2  3.912023  0.693147    1       7.648263  2.564949        0.0000   \n",
       "3  3.828641  0.693147    2       8.972464  3.761200        0.6934   \n",
       "4  3.988984  0.693147    2       8.491055  3.218876        0.6934   \n",
       "\n",
       "   Housing_own  Housing_rent  Saving accounts_little  \\\n",
       "0       0.6934           0.0                       0   \n",
       "1       0.6934           0.0                       1   \n",
       "2       0.6934           0.0                       1   \n",
       "3       0.0000           0.0                       1   \n",
       "4       0.0000           0.0                       1   \n",
       "\n",
       "   Saving accounts_moderate  ...  Checking account_rich  Purpose_business  \\\n",
       "0                       0.0  ...                    0.0               0.0   \n",
       "1                       0.0  ...                    0.0               0.0   \n",
       "2                       0.0  ...                    0.0               0.0   \n",
       "3                       0.0  ...                    0.0               0.0   \n",
       "4                       0.0  ...                    0.0               0.0   \n",
       "\n",
       "   Purpose_car  Purpose_domestic appliances  Purpose_education  \\\n",
       "0            0                          0.0             0.0000   \n",
       "1            0                          0.0             0.0000   \n",
       "2            0                          0.0             0.6934   \n",
       "3            0                          0.0             0.0000   \n",
       "4            1                          0.0             0.0000   \n",
       "\n",
       "   Purpose_furniture/equipment  Purpose_radio/TV  Purpose_repairs  \\\n",
       "0                       0.0000            0.6934              0.0   \n",
       "1                       0.0000            0.6934              0.0   \n",
       "2                       0.0000            0.0000              0.0   \n",
       "3                       0.6934            0.0000              0.0   \n",
       "4                       0.0000            0.0000              0.0   \n",
       "\n",
       "   Purpose_vacation/others  Risk  \n",
       "0                      0.0     1  \n",
       "1                      0.0     0  \n",
       "2                      0.0     1  \n",
       "3                      0.0     1  \n",
       "4                      0.0     0  \n",
       "\n",
       "[5 rows x 24 columns]"
      ]
     },
     "execution_count": 3,
     "metadata": {},
     "output_type": "execute_result"
    }
   ],
   "source": [
    "gcr_data.head()"
   ]
  },
  {
   "cell_type": "code",
   "execution_count": 4,
   "metadata": {},
   "outputs": [],
   "source": [
    "#X = gcr_data.drop(['Risk','Credit_amount/duration'], axis=1)\n",
    "#X = gcr_data.drop(['Risk', 'Credit_amount', 'Duration'], axis=1)\n",
    "X = gcr_data.drop(['Risk'], axis=1)\n",
    "\n",
    "y = gcr_data['Risk']"
   ]
  },
  {
   "cell_type": "code",
   "execution_count": 5,
   "metadata": {},
   "outputs": [],
   "source": [
    "model_fi = ExtraTreesClassifier()\n",
    "model_fi.fit(X,y)\n",
    "\n",
    "feat_importances = pd.Series(model_fi.feature_importances_, index=X.columns)"
   ]
  },
  {
   "cell_type": "raw",
   "metadata": {},
   "source": [
    "# evaluate a given model using cross-validation\n",
    "def evaluate_model(model, X, y):\n",
    "    cv = RepeatedStratifiedKFold(n_splits=10, n_repeats=3, random_state=42)\n",
    "    scores = cross_val_score(model, X, y, scoring='accuracy', cv=cv, n_jobs=-1, error_score='raise')\n",
    "    return scores\n",
    "\n",
    "lr = LogisticRegression()\n",
    "##########################################\n",
    "gbc = GradientBoostingClassifier()\n",
    "##########################################\n",
    "et = ExtraTreesClassifier()\n",
    "##########################################\n",
    "dt = DecisionTreeClassifier()\n",
    "##########################################\n",
    "rf = RandomForestClassifier()\n",
    "#####################################################################\n",
    "LR_L2 = LogisticRegression(penalty='l2', max_iter=500, solver='saga')\n",
    "GBC = GradientBoostingClassifier()                  \n",
    "estimators = [('LR_L2', LR_L2), ('GBC', GBC)]\n",
    "vc = VotingClassifier(estimators, voting='soft')\n",
    "######################################################################\n",
    "model_eval = [lr, gbc, et, dt, rf, vc]\n",
    "results = list()\n",
    "for model in model_eval:\n",
    "    for i in range(1,X.shape[1]+1):\n",
    "        scores = evaluate_model(model, X[feat_importances.nlargest(i).index], y)\n",
    "        results.append(scores)\n",
    "\n",
    "#print('> %s) %.3f (%.3f)' % (i, mean(scores), std(scores)))"
   ]
  },
  {
   "cell_type": "code",
   "execution_count": 53,
   "metadata": {},
   "outputs": [],
   "source": [
    "# evaluate a given model using cross-validation\n",
    "def evaluate_model(model, X, y):\n",
    "    cv = RepeatedStratifiedKFold(n_splits=10, n_repeats=3, random_state=42)\n",
    "    scores = cross_val_score(model, X, y, scoring='accuracy', cv=cv, n_jobs=-1, error_score='raise')\n",
    "    return scores\n",
    "\n",
    "model_eval = LogisticRegression()\n",
    "results = list()\n",
    "#for model in model_eval:\n",
    "for i in range(1,X.shape[1]+1):\n",
    "    scores = evaluate_model(model_eval, X[feat_importances.nlargest(i).index], y)\n",
    "    results.append(scores)\n",
    "    #print('> %s) %.3f (%.3f)' % (i, max(scores), std(scores)))"
   ]
  },
  {
   "cell_type": "code",
   "execution_count": 54,
   "metadata": {},
   "outputs": [],
   "source": [
    "X_log = gcr_data[feat_importances.nlargest(14).index]"
   ]
  },
  {
   "cell_type": "code",
   "execution_count": 55,
   "metadata": {},
   "outputs": [],
   "source": [
    "# evaluate a given model using cross-validation\n",
    "def evaluate_model(model, X, y):\n",
    "    cv = RepeatedStratifiedKFold(n_splits=10, n_repeats=3, random_state=42)\n",
    "    scores = cross_val_score(model, X, y, scoring='accuracy', cv=cv, n_jobs=-1, error_score='raise')\n",
    "    return scores\n",
    "\n",
    "model_eval = DecisionTreeClassifier()\n",
    "results = list()\n",
    "#for model in model_eval:\n",
    "for i in range(1,X.shape[1]+1):\n",
    "    scores = evaluate_model(model_eval, X[feat_importances.nlargest(i).index], y)\n",
    "    results.append(scores)\n",
    "    #print('> %s) %.3f (%.3f)' % (i, max(scores), std(scores)))"
   ]
  },
  {
   "cell_type": "code",
   "execution_count": 56,
   "metadata": {},
   "outputs": [],
   "source": [
    "X_dt = gcr_data[feat_importances.nlargest(14).index]"
   ]
  },
  {
   "cell_type": "code",
   "execution_count": 57,
   "metadata": {},
   "outputs": [],
   "source": [
    "# evaluate a given model using cross-validation\n",
    "def evaluate_model(model, X, y):\n",
    "    cv = RepeatedStratifiedKFold(n_splits=10, n_repeats=3, random_state=42)\n",
    "    scores = cross_val_score(model, X, y, scoring='accuracy', cv=cv, n_jobs=-1, error_score='raise')\n",
    "    return scores\n",
    "\n",
    "model_eval = GradientBoostingClassifier()\n",
    "results = list()\n",
    "#for model in model_eval:\n",
    "for i in range(1,X.shape[1]+1):\n",
    "    scores = evaluate_model(model_eval, X[feat_importances.nlargest(i).index], y)\n",
    "    results.append(scores)\n",
    "    #print('> %s) %.3f (%.3f)' % (i, max(scores), std(scores)))"
   ]
  },
  {
   "cell_type": "code",
   "execution_count": 58,
   "metadata": {},
   "outputs": [],
   "source": [
    "X_gbm = gcr_data[feat_importances.nlargest(14).index]"
   ]
  },
  {
   "cell_type": "code",
   "execution_count": 59,
   "metadata": {},
   "outputs": [],
   "source": [
    "# evaluate a given model using cross-validation\n",
    "def evaluate_model(model, X, y):\n",
    "    cv = RepeatedStratifiedKFold(n_splits=10, n_repeats=3, random_state=42)\n",
    "    scores = cross_val_score(model, X, y, scoring='accuracy', cv=cv, n_jobs=-1, error_score='raise')\n",
    "    return scores\n",
    "\n",
    "model_eval = ExtraTreesClassifier()\n",
    "results = list()\n",
    "#for model in model_eval:\n",
    "for i in range(1,X.shape[1]+1):\n",
    "    scores = evaluate_model(model_eval, X[feat_importances.nlargest(i).index], y)\n",
    "    results.append(scores)\n",
    "    #print('> %s) %.3f (%.3f)' % (i, max(scores), std(scores)))"
   ]
  },
  {
   "cell_type": "code",
   "execution_count": 60,
   "metadata": {},
   "outputs": [],
   "source": [
    "X_et = gcr_data[feat_importances.nlargest(14).index]"
   ]
  },
  {
   "cell_type": "code",
   "execution_count": 61,
   "metadata": {},
   "outputs": [],
   "source": [
    "# evaluate a given model using cross-validation\n",
    "def evaluate_model(model, X, y):\n",
    "    cv = RepeatedStratifiedKFold(n_splits=10, n_repeats=3, random_state=42)\n",
    "    scores = cross_val_score(model, X, y, scoring='accuracy', cv=cv, n_jobs=-1, error_score='raise')\n",
    "    return scores\n",
    "\n",
    "model_eval = RandomForestClassifier()\n",
    "results = list()\n",
    "#for model in model_eval:\n",
    "for i in range(1,X.shape[1]+1):\n",
    "    scores = evaluate_model(model_eval, X[feat_importances.nlargest(i).index], y)\n",
    "    results.append(scores)\n",
    "    #print('> %s) %.3f (%.3f)' % (i, max(scores), std(scores)))"
   ]
  },
  {
   "cell_type": "code",
   "execution_count": 62,
   "metadata": {},
   "outputs": [],
   "source": [
    "X_rf = gcr_data[feat_importances.nlargest(14).index]"
   ]
  },
  {
   "cell_type": "code",
   "execution_count": null,
   "metadata": {},
   "outputs": [],
   "source": [
    "# evaluate a given model using cross-validation\n",
    "def evaluate_model(model, X, y):\n",
    "    cv = RepeatedStratifiedKFold(n_splits=10, n_repeats=3, random_state=42)\n",
    "    scores = cross_val_score(model, X, y, scoring='accuracy', cv=cv, n_jobs=-1, error_score='raise')\n",
    "    return scores\n",
    "\n",
    "ABC = AdaBoostClassifier(DecisionTreeClassifier(max_depth=1))\n",
    "\n",
    "param_grid = {'n_estimators': [200],\n",
    "              'learning_rate': [0.01]}\n",
    "\n",
    "model_eval = GridSearchCV(ABC,\n",
    "                      param_grid=param_grid, \n",
    "                      scoring='accuracy',\n",
    "                      n_jobs=-1)\n",
    "\n",
    "results = list()\n",
    "#for model in model_eval:\n",
    "for i in range(1,X.shape[1]+1):\n",
    "    scores = evaluate_model(model_eval, X[feat_importances.nlargest(i).index], y)\n",
    "    results.append(scores)\n",
    "    #print('> %s) %.3f (%.3f)' % (i, max(scores), std(scores)))"
   ]
  },
  {
   "cell_type": "code",
   "execution_count": 40,
   "metadata": {},
   "outputs": [],
   "source": [
    "X_abc = gcr_data[feat_importances.nlargest(14).index]"
   ]
  },
  {
   "cell_type": "code",
   "execution_count": 23,
   "metadata": {},
   "outputs": [],
   "source": [
    "# evaluate a given model using cross-validation\n",
    "def evaluate_model(model, X, y):\n",
    "    cv = RepeatedStratifiedKFold(n_splits=10, n_repeats=3, random_state=42)\n",
    "    scores = cross_val_score(model, X, y, scoring='accuracy', cv=cv, n_jobs=-1, error_score='raise')\n",
    "    return scores\n",
    "\n",
    "model_eval = XGBClassifier()\n",
    "results = list()\n",
    "#for model in model_eval:\n",
    "for i in range(1,X.shape[1]+1):\n",
    "    scores = evaluate_model(model_eval, X[feat_importances.nlargest(i).index], y)\n",
    "    results.append(scores)\n",
    "    #print('> %s) %.3f (%.3f)' % (i, max(scores), std(scores)))"
   ]
  },
  {
   "cell_type": "code",
   "execution_count": 24,
   "metadata": {},
   "outputs": [],
   "source": [
    "X_xgb = gcr_data[feat_importances.nlargest(13).index]"
   ]
  },
  {
   "cell_type": "code",
   "execution_count": 25,
   "metadata": {},
   "outputs": [],
   "source": [
    "# evaluate a given model using cross-validation\n",
    "def evaluate_model(model, X, y):\n",
    "    cv = RepeatedStratifiedKFold(n_splits=10, n_repeats=3, random_state=42)\n",
    "    scores = cross_val_score(model, X, y, scoring='accuracy', cv=cv, n_jobs=-1, error_score='raise')\n",
    "    return scores\n",
    "\n",
    "############################################################################################\n",
    "\n",
    "LR_L2 = LogisticRegression(penalty='l2', max_iter=500, solver='saga')\n",
    "\n",
    "GBC = GradientBoostingClassifier()\n",
    "                      \n",
    "estimators = [('LR_L2', LR_L2), ('GBC', GBC)]\n",
    "model_eval = VotingClassifier(estimators, voting='soft')\n",
    "##############################################################################################\n",
    "\n",
    "results = list()\n",
    "#for model in model_eval:\n",
    "for i in range(1,X.shape[1]+1):\n",
    "    scores = evaluate_model(model_eval, X[feat_importances.nlargest(i).index], y)\n",
    "    results.append(scores)\n",
    "   #print('> %s) %.3f (%.3f)' % (i, max(scores), std(scores)))"
   ]
  },
  {
   "cell_type": "code",
   "execution_count": 26,
   "metadata": {},
   "outputs": [],
   "source": [
    "X_vc = gcr_data[feat_importances.nlargest(14).index]"
   ]
  },
  {
   "cell_type": "markdown",
   "metadata": {},
   "source": [
    "## Models"
   ]
  },
  {
   "cell_type": "markdown",
   "metadata": {},
   "source": [
    "### Logistic Regression"
   ]
  },
  {
   "cell_type": "code",
   "execution_count": 11,
   "metadata": {},
   "outputs": [],
   "source": [
    "strat_shuf_split = StratifiedShuffleSplit(n_splits=10, \n",
    "                                          test_size=0.30, \n",
    "                                          random_state=42)\n",
    "\n",
    "train_idx, test_idx = next(strat_shuf_split.split(X_log, gcr_data.Risk))\n",
    "\n",
    "# Create the dataframes\n",
    "X_train = X_log.loc[train_idx, X_log.columns]\n",
    "y_train = gcr_data.loc[train_idx, 'Risk']\n",
    "\n",
    "X_test  = X_log.loc[test_idx, X_log.columns]\n",
    "y_test  = gcr_data.loc[test_idx, 'Risk']\n",
    "\n",
    "# L1 regularized logistic regression\n",
    "lr_l1 = LogisticRegressionCV(Cs=10, cv=4, penalty='l1', solver='liblinear').fit(X_train, y_train)"
   ]
  },
  {
   "cell_type": "markdown",
   "metadata": {},
   "source": [
    "### Decision Tree Classifier"
   ]
  },
  {
   "cell_type": "code",
   "execution_count": 31,
   "metadata": {},
   "outputs": [],
   "source": [
    "strat_shuf_split = StratifiedShuffleSplit(n_splits=10, \n",
    "                                          test_size=0.30, \n",
    "                                          random_state=42)\n",
    "\n",
    "train_idx, test_idx = next(strat_shuf_split.split(X_dt, gcr_data.Risk))\n",
    "\n",
    "# Create the dataframes\n",
    "X_train = X_dt.loc[train_idx, X_dt.columns]\n",
    "y_train = gcr_data.loc[train_idx, 'Risk']\n",
    "\n",
    "X_test  = X_dt.loc[test_idx, X_dt.columns]\n",
    "y_test  = gcr_data.loc[test_idx, 'Risk']\n",
    "\n",
    "dt = DecisionTreeClassifier(random_state=42)\n",
    "dt = dt.fit(X_train, y_train)\n",
    "# hyperparameters\n",
    "param_grid = {'max_depth':range(1, dt.tree_.max_depth+1, 2), \n",
    "              'max_features': range(1, len(dt.feature_importances_)+1)}\n",
    "\n",
    "dt_gcv = GridSearchCV(DecisionTreeClassifier(random_state=42),\n",
    "                  param_grid=param_grid,\n",
    "                  scoring='accuracy',\n",
    "                  n_jobs=-1)\n",
    "\n",
    "dt_gcv = dt_gcv.fit(X_train, y_train)"
   ]
  },
  {
   "cell_type": "markdown",
   "metadata": {},
   "source": [
    "### Random Forest Classifier"
   ]
  },
  {
   "cell_type": "code",
   "execution_count": 46,
   "metadata": {},
   "outputs": [],
   "source": [
    "strat_shuf_split = StratifiedShuffleSplit(n_splits=10, \n",
    "                                          test_size=0.30, \n",
    "                                          random_state=42)\n",
    "\n",
    "train_idx, test_idx = next(strat_shuf_split.split(X_rf, gcr_data.Risk))\n",
    "\n",
    "# Create the dataframes\n",
    "X_train = X_rf.loc[train_idx, X_rf.columns]\n",
    "y_train = gcr_data.loc[train_idx, 'Risk']\n",
    "\n",
    "X_test  = X_rf.loc[test_idx, X_rf.columns]\n",
    "y_test  = gcr_data.loc[test_idx, 'Risk']\n",
    "\n",
    "rf = RandomForestClassifier(random_state=42, \n",
    "                            warm_start=True,\n",
    "                            n_jobs=-1)\n",
    "\n",
    "rf.set_params(n_estimators=200)\n",
    "\n",
    "# Fit the model\n",
    "rf = rf.fit(X_train, y_train)"
   ]
  },
  {
   "cell_type": "markdown",
   "metadata": {},
   "source": [
    "### Extra Trees Classifier"
   ]
  },
  {
   "cell_type": "code",
   "execution_count": 47,
   "metadata": {},
   "outputs": [],
   "source": [
    "strat_shuf_split = StratifiedShuffleSplit(n_splits=10, \n",
    "                                          test_size=0.30, \n",
    "                                          random_state=42)\n",
    "\n",
    "train_idx, test_idx = next(strat_shuf_split.split(X_et, gcr_data.Risk))\n",
    "\n",
    "# Create the dataframes\n",
    "X_train = X_et.loc[train_idx, X_et.columns]\n",
    "y_train = gcr_data.loc[train_idx, 'Risk']\n",
    "\n",
    "X_test  = X_et.loc[test_idx, X_et.columns]\n",
    "y_test  = gcr_data.loc[test_idx, 'Risk']\n",
    "\n",
    "et = ExtraTreesClassifier(random_state=42, \n",
    "                            warm_start=True,\n",
    "                            n_jobs=-1)\n",
    "\n",
    "et.set_params(n_estimators=200)\n",
    "\n",
    "# Fit the model\n",
    "et = et.fit(X_train, y_train)"
   ]
  },
  {
   "cell_type": "markdown",
   "metadata": {},
   "source": [
    "### Gradient Boosting Classifier"
   ]
  },
  {
   "cell_type": "code",
   "execution_count": 48,
   "metadata": {},
   "outputs": [],
   "source": [
    "strat_shuf_split = StratifiedShuffleSplit(n_splits=10, \n",
    "                                          test_size=0.30, \n",
    "                                          random_state=42)\n",
    "\n",
    "train_idx, test_idx = next(strat_shuf_split.split(X_gbm, gcr_data.Risk))\n",
    "\n",
    "# Create the dataframes\n",
    "X_train = X_gbm.loc[train_idx, X_gbm.columns]\n",
    "y_train = gcr_data.loc[train_idx, 'Risk']\n",
    "\n",
    "X_test  = X_gbm.loc[test_idx, X_gbm.columns]\n",
    "y_test  = gcr_data.loc[test_idx, 'Risk']\n",
    "\n",
    "# The parameters to be fit\n",
    "param_grid = {'n_estimators': [50],\n",
    "              'learning_rate': [0.01],\n",
    "              'subsample': [0.5],\n",
    "              'max_features': [3]}\n",
    "\n",
    "# The grid search object\n",
    "gbc = GridSearchCV(GradientBoostingClassifier(random_state=42), \n",
    "                      param_grid=param_grid, \n",
    "                      scoring='accuracy',\n",
    "                      n_jobs=-1)\n",
    "\n",
    "# Do the grid search\n",
    "gbc = gbc.fit(X_train, y_train)"
   ]
  },
  {
   "cell_type": "markdown",
   "metadata": {},
   "source": [
    "### Voting Classifier"
   ]
  },
  {
   "cell_type": "code",
   "execution_count": 49,
   "metadata": {},
   "outputs": [],
   "source": [
    "strat_shuf_split = StratifiedShuffleSplit(n_splits=10, \n",
    "                                          test_size=0.30, \n",
    "                                          random_state=42)\n",
    "\n",
    "train_idx, test_idx = next(strat_shuf_split.split(X_vc, gcr_data.Risk))\n",
    "\n",
    "# Create the dataframes\n",
    "X_train = X_vc.loc[train_idx, X_vc.columns]\n",
    "y_train = gcr_data.loc[train_idx, 'Risk']\n",
    "\n",
    "X_test  = X_vc.loc[test_idx, X_vc.columns]\n",
    "y_test  = gcr_data.loc[test_idx, 'Risk']\n",
    "\n",
    "# The combined model--logistic regression and gradient boosted trees\n",
    "estimators = [('LR_L1', lr_l1), ('GBC', GBC_gcv)]\n",
    "\n",
    "vc = VotingClassifier(estimators, voting='soft')\n",
    "vc = vc.fit(X_train, y_train)# The combined model--logistic regression and gradient boosted trees"
   ]
  },
  {
   "cell_type": "markdown",
   "metadata": {},
   "source": [
    "### AdaBoost Classifier"
   ]
  },
  {
   "cell_type": "code",
   "execution_count": 50,
   "metadata": {},
   "outputs": [
    {
     "data": {
      "text/plain": [
       "AdaBoostClassifier(base_estimator=DecisionTreeClassifier(max_depth=1),\n",
       "                   learning_rate=0.01, n_estimators=200)"
      ]
     },
     "execution_count": 50,
     "metadata": {},
     "output_type": "execute_result"
    }
   ],
   "source": [
    "strat_shuf_split = StratifiedShuffleSplit(n_splits=10, \n",
    "                                          test_size=0.30, \n",
    "                                          random_state=42)\n",
    "\n",
    "train_idx, test_idx = next(strat_shuf_split.split(X_abc, gcr_data.Risk))\n",
    "\n",
    "# Create the dataframes\n",
    "X_train = X_abc.loc[train_idx, X_abc.columns]\n",
    "y_train = gcr_data.loc[train_idx, 'Risk']\n",
    "\n",
    "X_test  = X_abc.loc[test_idx, X_abc.columns]\n",
    "y_test  = gcr_data.loc[test_idx, 'Risk']\n",
    "\n",
    "abc = AdaBoostClassifier(DecisionTreeClassifier(max_depth=1), n_estimators=200, learning_rate=0.01)\n",
    "abc.fit(X_train, y_train)"
   ]
  },
  {
   "cell_type": "markdown",
   "metadata": {},
   "source": [
    "### XGBoost Classifier"
   ]
  },
  {
   "cell_type": "code",
   "execution_count": 51,
   "metadata": {},
   "outputs": [
    {
     "data": {
      "text/plain": [
       "XGBClassifier(base_score=0.5, booster='gbtree', colsample_bylevel=1,\n",
       "              colsample_bynode=1, colsample_bytree=1, gamma=0, gpu_id=-1,\n",
       "              importance_type='gain', interaction_constraints='',\n",
       "              learning_rate=0.300000012, max_delta_step=0, max_depth=6,\n",
       "              min_child_weight=1, missing=nan, monotone_constraints='()',\n",
       "              n_estimators=100, n_jobs=0, num_parallel_tree=1, random_state=0,\n",
       "              reg_alpha=0, reg_lambda=1, scale_pos_weight=1, subsample=1,\n",
       "              tree_method='exact', validate_parameters=1, verbosity=None)"
      ]
     },
     "execution_count": 51,
     "metadata": {},
     "output_type": "execute_result"
    }
   ],
   "source": [
    "strat_shuf_split = StratifiedShuffleSplit(n_splits=10, \n",
    "                                          test_size=0.30, \n",
    "                                          random_state=42)\n",
    "\n",
    "train_idx, test_idx = next(strat_shuf_split.split(X_xgb, gcr_data.Risk))\n",
    "\n",
    "# Create the dataframes\n",
    "X_train = X_xgb.loc[train_idx, X_xgb.columns]\n",
    "y_train = gcr_data.loc[train_idx, 'Risk']\n",
    "\n",
    "X_test  = X_xgb.loc[test_idx, X_xgb.columns]\n",
    "y_test  = gcr_data.loc[test_idx, 'Risk']\n",
    "\n",
    "xgbc = XGBClassifier()\n",
    "xgbc.fit(X_train, y_train)"
   ]
  },
  {
   "cell_type": "code",
   "execution_count": null,
   "metadata": {},
   "outputs": [],
   "source": []
  },
  {
   "cell_type": "markdown",
   "metadata": {},
   "source": [
    "## Metrics and Confusion Matrix"
   ]
  },
  {
   "cell_type": "code",
   "execution_count": 52,
   "metadata": {},
   "outputs": [
    {
     "ename": "ValueError",
     "evalue": "X has 13 features per sample; expecting 14",
     "output_type": "error",
     "traceback": [
      "\u001b[1;31m---------------------------------------------------------------------------\u001b[0m",
      "\u001b[1;31mValueError\u001b[0m                                Traceback (most recent call last)",
      "\u001b[1;32m<ipython-input-52-bd9082eb9738>\u001b[0m in \u001b[0;36m<module>\u001b[1;34m\u001b[0m\n\u001b[0;32m     12\u001b[0m \u001b[1;33m\u001b[0m\u001b[0m\n\u001b[0;32m     13\u001b[0m \u001b[1;32mfor\u001b[0m \u001b[0mlab\u001b[0m\u001b[1;33m,\u001b[0m\u001b[0mmod\u001b[0m \u001b[1;32min\u001b[0m \u001b[0mzip\u001b[0m\u001b[1;33m(\u001b[0m\u001b[0mcoeff_labels\u001b[0m\u001b[1;33m,\u001b[0m \u001b[0mcoeff_models\u001b[0m\u001b[1;33m)\u001b[0m\u001b[1;33m:\u001b[0m\u001b[1;33m\u001b[0m\u001b[1;33m\u001b[0m\u001b[0m\n\u001b[1;32m---> 14\u001b[1;33m     \u001b[0my_pred\u001b[0m\u001b[1;33m.\u001b[0m\u001b[0mappend\u001b[0m\u001b[1;33m(\u001b[0m\u001b[0mpd\u001b[0m\u001b[1;33m.\u001b[0m\u001b[0mSeries\u001b[0m\u001b[1;33m(\u001b[0m\u001b[0mmod\u001b[0m\u001b[1;33m.\u001b[0m\u001b[0mpredict\u001b[0m\u001b[1;33m(\u001b[0m\u001b[0mX_test\u001b[0m\u001b[1;33m)\u001b[0m\u001b[1;33m,\u001b[0m \u001b[0mname\u001b[0m\u001b[1;33m=\u001b[0m\u001b[0mlab\u001b[0m\u001b[1;33m)\u001b[0m\u001b[1;33m)\u001b[0m\u001b[1;33m\u001b[0m\u001b[1;33m\u001b[0m\u001b[0m\n\u001b[0m\u001b[0;32m     15\u001b[0m     \u001b[0my_prob\u001b[0m\u001b[1;33m.\u001b[0m\u001b[0mappend\u001b[0m\u001b[1;33m(\u001b[0m\u001b[0mpd\u001b[0m\u001b[1;33m.\u001b[0m\u001b[0mSeries\u001b[0m\u001b[1;33m(\u001b[0m\u001b[0mmod\u001b[0m\u001b[1;33m.\u001b[0m\u001b[0mpredict_proba\u001b[0m\u001b[1;33m(\u001b[0m\u001b[0mX_test\u001b[0m\u001b[1;33m)\u001b[0m\u001b[1;33m.\u001b[0m\u001b[0mmax\u001b[0m\u001b[1;33m(\u001b[0m\u001b[0maxis\u001b[0m\u001b[1;33m=\u001b[0m\u001b[1;36m1\u001b[0m\u001b[1;33m)\u001b[0m\u001b[1;33m,\u001b[0m \u001b[0mname\u001b[0m\u001b[1;33m=\u001b[0m\u001b[0mlab\u001b[0m\u001b[1;33m)\u001b[0m\u001b[1;33m)\u001b[0m\u001b[1;33m\u001b[0m\u001b[1;33m\u001b[0m\u001b[0m\n\u001b[0;32m     16\u001b[0m \u001b[1;33m\u001b[0m\u001b[0m\n",
      "\u001b[1;32mc:\\users\\rohit kharat\\appdata\\local\\programs\\python\\python37\\lib\\site-packages\\sklearn\\linear_model\\_base.py\u001b[0m in \u001b[0;36mpredict\u001b[1;34m(self, X)\u001b[0m\n\u001b[0;32m    305\u001b[0m             \u001b[0mPredicted\u001b[0m \u001b[1;32mclass\u001b[0m \u001b[0mlabel\u001b[0m \u001b[0mper\u001b[0m \u001b[0msample\u001b[0m\u001b[1;33m.\u001b[0m\u001b[1;33m\u001b[0m\u001b[1;33m\u001b[0m\u001b[0m\n\u001b[0;32m    306\u001b[0m         \"\"\"\n\u001b[1;32m--> 307\u001b[1;33m         \u001b[0mscores\u001b[0m \u001b[1;33m=\u001b[0m \u001b[0mself\u001b[0m\u001b[1;33m.\u001b[0m\u001b[0mdecision_function\u001b[0m\u001b[1;33m(\u001b[0m\u001b[0mX\u001b[0m\u001b[1;33m)\u001b[0m\u001b[1;33m\u001b[0m\u001b[1;33m\u001b[0m\u001b[0m\n\u001b[0m\u001b[0;32m    308\u001b[0m         \u001b[1;32mif\u001b[0m \u001b[0mlen\u001b[0m\u001b[1;33m(\u001b[0m\u001b[0mscores\u001b[0m\u001b[1;33m.\u001b[0m\u001b[0mshape\u001b[0m\u001b[1;33m)\u001b[0m \u001b[1;33m==\u001b[0m \u001b[1;36m1\u001b[0m\u001b[1;33m:\u001b[0m\u001b[1;33m\u001b[0m\u001b[1;33m\u001b[0m\u001b[0m\n\u001b[0;32m    309\u001b[0m             \u001b[0mindices\u001b[0m \u001b[1;33m=\u001b[0m \u001b[1;33m(\u001b[0m\u001b[0mscores\u001b[0m \u001b[1;33m>\u001b[0m \u001b[1;36m0\u001b[0m\u001b[1;33m)\u001b[0m\u001b[1;33m.\u001b[0m\u001b[0mastype\u001b[0m\u001b[1;33m(\u001b[0m\u001b[0mnp\u001b[0m\u001b[1;33m.\u001b[0m\u001b[0mint\u001b[0m\u001b[1;33m)\u001b[0m\u001b[1;33m\u001b[0m\u001b[1;33m\u001b[0m\u001b[0m\n",
      "\u001b[1;32mc:\\users\\rohit kharat\\appdata\\local\\programs\\python\\python37\\lib\\site-packages\\sklearn\\linear_model\\_base.py\u001b[0m in \u001b[0;36mdecision_function\u001b[1;34m(self, X)\u001b[0m\n\u001b[0;32m    285\u001b[0m         \u001b[1;32mif\u001b[0m \u001b[0mX\u001b[0m\u001b[1;33m.\u001b[0m\u001b[0mshape\u001b[0m\u001b[1;33m[\u001b[0m\u001b[1;36m1\u001b[0m\u001b[1;33m]\u001b[0m \u001b[1;33m!=\u001b[0m \u001b[0mn_features\u001b[0m\u001b[1;33m:\u001b[0m\u001b[1;33m\u001b[0m\u001b[1;33m\u001b[0m\u001b[0m\n\u001b[0;32m    286\u001b[0m             raise ValueError(\"X has %d features per sample; expecting %d\"\n\u001b[1;32m--> 287\u001b[1;33m                              % (X.shape[1], n_features))\n\u001b[0m\u001b[0;32m    288\u001b[0m \u001b[1;33m\u001b[0m\u001b[0m\n\u001b[0;32m    289\u001b[0m         scores = safe_sparse_dot(X, self.coef_.T,\n",
      "\u001b[1;31mValueError\u001b[0m: X has 13 features per sample; expecting 14"
     ]
    }
   ],
   "source": [
    "###################################################################################\n",
    "###   Coefficients\n",
    "\n",
    "coeff_labels = ['lr_l1', 'dt', 'rf', 'et', 'gbc', 'abc', 'vc', 'xgbc']\n",
    "coeff_models = [lr_l1, dt, rf, et, gbc, abc, vc, xgbc]\n",
    "\n",
    "######################################################################################\n",
    "###   Predictions\n",
    "\n",
    "y_pred = list()\n",
    "y_prob = list()\n",
    "\n",
    "for lab,mod in zip(coeff_labels, coeff_models):\n",
    "    y_pred.append(pd.Series(mod.predict(X_test), name=lab))\n",
    "    y_prob.append(pd.Series(mod.predict_proba(X_test).max(axis=1), name=lab))\n",
    "    \n",
    "y_pred = pd.concat(y_pred, axis=1)\n",
    "y_prob = pd.concat(y_prob, axis=1)\n",
    "\n",
    "#y_pred.head()\n",
    "\n",
    "######################################################################################\n",
    "### Metrics\n",
    "\n",
    "from sklearn.metrics import precision_recall_fscore_support as score\n",
    "from sklearn.metrics import confusion_matrix, accuracy_score, roc_auc_score\n",
    "from sklearn.preprocessing import label_binarize\n",
    "\n",
    "metrics = list()\n",
    "cm = dict()\n",
    "\n",
    "for lab in coeff_labels:\n",
    "\n",
    "    # Preciision, recall, f-score from the multi-class support function\n",
    "    precision, recall, fscore, _ = score(y_test, y_pred[lab], average='weighted')\n",
    "    \n",
    "    # The usual way to calculate accuracy\n",
    "    accuracy = accuracy_score(y_test, y_pred[lab])\n",
    "    \n",
    "    # ROC-AUC scores can be calculated by binarizing the data\n",
    "    auc = roc_auc_score(label_binarize(y_test, classes=[0,1]),\n",
    "              label_binarize(y_pred[lab], classes=[0,1]), \n",
    "              average='weighted')\n",
    "    \n",
    "    # Last, the confusion matrix\n",
    "    cm[lab] = confusion_matrix(y_test, y_pred[lab])\n",
    "    #tn, fp, fn, tp = confusion_matrix(y_test, y_pred[lab])\n",
    "    \n",
    "    metrics.append(pd.Series({'precision':precision, 'recall':recall, \n",
    "                              'fscore':fscore, 'accuracy':accuracy,\n",
    "                              'auc':auc}, \n",
    "                             name=lab))\n",
    "\n",
    "metrics = pd.concat(metrics, axis=1)\n",
    "\n",
    "metrics"
   ]
  },
  {
   "cell_type": "code",
   "execution_count": null,
   "metadata": {},
   "outputs": [],
   "source": []
  }
 ],
 "metadata": {
  "kernelspec": {
   "display_name": "Python 3",
   "language": "python",
   "name": "python3"
  },
  "language_info": {
   "codemirror_mode": {
    "name": "ipython",
    "version": 3
   },
   "file_extension": ".py",
   "mimetype": "text/x-python",
   "name": "python",
   "nbconvert_exporter": "python",
   "pygments_lexer": "ipython3",
   "version": "3.7.1"
  }
 },
 "nbformat": 4,
 "nbformat_minor": 4
}
