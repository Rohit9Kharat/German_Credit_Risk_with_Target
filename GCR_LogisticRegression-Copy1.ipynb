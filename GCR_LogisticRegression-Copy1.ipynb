{
 "cells": [
  {
   "cell_type": "markdown",
   "metadata": {},
   "source": [
    "<h1>**Logistic Regression on German Credit Risk data set**</h1>"
   ]
  },
  {
   "cell_type": "markdown",
   "metadata": {},
   "source": [
    "# Tables of Content:\n",
    "\n",
    "**1. [Introduction](#Introduction)** <br>\n",
    "    - Information about the data set <br>\n",
    "**2. [Reason for using this model](#Reasons)** <br>\n",
    "    - The purpose of this specific model <br>\n",
    "**3. [Libraries](#Libraries)** <br>\n",
    "    - Importing Libraries <br>\n",
    "    - Importing Dataset <br>\n",
    "**4. [Preprocess](#Preprocessing)** <br>\n",
    "    - 4.1 Separating feature and target variables <br>\n",
    "    - 4.2 [Feature Selection](#feature_selection)<br>\n",
    "    - 4.3 [Spliting the X and Y in train and test](#split)<br>\n",
    "**5. [Models](#Modelling)**<br>\n",
    "    - 5.1 [Logistic Regression: Vanilla, Lasso and Ridge](*models)<br>\n",
    "    - 5.2 [Metrics](#metrics)<br>\n",
    "    - 5.3 [Confusion Matrix and Classification Report](#conmat)<br>\n",
    "    - 5.4 ROC curve and Precision-Recall curve <br>\n",
    "**6. [Conclusion and Benefits of the model](#Summary)** <br>\n",
    "    The summary of the model implementation"
   ]
  },
  {
   "cell_type": "markdown",
   "metadata": {},
   "source": [
    "<a id=\"Introduction\"></a> <br>\n",
    "# **1. Introduction:** \n",
    "<h2>Context</h2>\n",
    "The original dataset contains 1000 entries with 9 feature variables. In this dataset, each entry represents a person who takes a credit by a bank. Each person is classified as good or bad credit risks according to the set of attributes.\n",
    "\n",
    "<h2>Content</h2>\n",
    "I have cleaned and preprocessed the data already and also I have created a more relevant feature from two of the most important feature in the data set i.e. Credit amount and Duration. The preprocessed data set is already saved in a CSV file and we are going to use that file for our model training and testing purposes. The selected variables from the orginal data set are:\n",
    "\n",
    "<b>Age </b>(numeric)<br>\n",
    "<b>Sex </b>(text: male, female)<br>\n",
    "<b>Job </b>(numeric: 0 - unskilled and non-resident, 1 - unskilled and resident, 2 - skilled, 3 - highly skilled)<br>\n",
    "<b>Housing</b> (text: own, rent, or free)<br>\n",
    "<b>Saving accounts</b> (text - little, moderate, quite rich, rich)<br>\n",
    "<b>Checking account </b>(numeric, in DM - Deutsch Mark)<br>\n",
    "<b>Credit amount</b> (numeric, in DM)<br>\n",
    "<b>Duration</b> (numeric, in month)<br>\n",
    "<b>Purpose</b>(text: car, furniture/equipment, radio/TV, domestic appliances, repairs, education, business, vacation/others<br>\n",
    "<b>Risk </b> (Value target - Good or Bad Risk)<br>"
   ]
  },
  {
   "cell_type": "markdown",
   "metadata": {},
   "source": [
    "<a id=\"Reasons\"></a> <br>\n",
    "# **2. Reason for using this model**\n",
    "<h2>Our goal is to: </h2>\n",
    "\n",
    "- Implement Logistic Regression with vanilla, l1 and l2 penalty.\n",
    "- Assessment of number of features vs. Accuracy and choosing the right no. of features for our model.\n",
    "- Impact on the coefficient of hypothesis because of lasso and ridge regression.\n",
    "- Assess the different metrics on these different implementation of Logistic Regression.\n",
    "- Evaluate False Positive Rate (FPR) on these models using Confusion Matrix.\n",
    "- Visualize Receiver Operating Characteristics (ROC) curve and Precision-Recall curve to see the trend."
   ]
  },
  {
   "cell_type": "markdown",
   "metadata": {},
   "source": [
    "<a id=\"Libraries\"></a> <br>\n",
    "# **3. Libraries**"
   ]
  },
  {
   "cell_type": "markdown",
   "metadata": {},
   "source": [
    "### Imports"
   ]
  },
  {
   "cell_type": "code",
   "execution_count": 1,
   "metadata": {},
   "outputs": [],
   "source": [
    "import numpy as np\n",
    "from numpy import mean\n",
    "from numpy import std\n",
    "import pandas as pd\n",
    "\n",
    "from scipy import stats \n",
    "import math\n",
    "\n",
    "import matplotlib.pyplot as plt\n",
    "import seaborn as sns\n",
    "\n",
    "from sklearn.linear_model import LogisticRegression\n",
    "from sklearn.linear_model import Perceptron\n",
    "from sklearn.tree import DecisionTreeClassifier\n",
    "from sklearn.ensemble import RandomForestClassifier\n",
    "from sklearn.ensemble import GradientBoostingClassifier\n",
    "\n",
    "from sklearn.metrics import precision_recall_fscore_support as score\n",
    "from sklearn.metrics import confusion_matrix, accuracy_score, roc_auc_score, classification_report, f1_score\n",
    "from sklearn.preprocessing import label_binarize\n",
    "\n",
    "from sklearn.feature_selection import SelectKBest\n",
    "from sklearn.feature_selection import chi2\n",
    "from sklearn.model_selection import cross_val_score\n",
    "from sklearn.model_selection import RepeatedStratifiedKFold\n",
    "from sklearn.feature_selection import RFE\n",
    "from sklearn.tree import DecisionTreeClassifier\n",
    "from sklearn.pipeline import Pipeline\n",
    "\n",
    "from colorsetup import colors, palette"
   ]
  },
  {
   "cell_type": "markdown",
   "metadata": {},
   "source": [
    "### Read the data"
   ]
  },
  {
   "cell_type": "code",
   "execution_count": 2,
   "metadata": {},
   "outputs": [],
   "source": [
    "gcr_data = pd.read_csv(\"gcr_data_imputed2.csv\")\n",
    "#gcr_data = pd.read_csv(\"gcr_data_imputed.csv\")\n",
    "#gcr_data = pd.read_csv(\"gcr_processed.csv\")"
   ]
  },
  {
   "cell_type": "code",
   "execution_count": 3,
   "metadata": {},
   "outputs": [
    {
     "data": {
      "text/html": [
       "<div>\n",
       "<style scoped>\n",
       "    .dataframe tbody tr th:only-of-type {\n",
       "        vertical-align: middle;\n",
       "    }\n",
       "\n",
       "    .dataframe tbody tr th {\n",
       "        vertical-align: top;\n",
       "    }\n",
       "\n",
       "    .dataframe thead th {\n",
       "        text-align: right;\n",
       "    }\n",
       "</style>\n",
       "<table border=\"1\" class=\"dataframe\">\n",
       "  <thead>\n",
       "    <tr style=\"text-align: right;\">\n",
       "      <th></th>\n",
       "      <th>Age</th>\n",
       "      <th>Sex</th>\n",
       "      <th>Job</th>\n",
       "      <th>Credit amount</th>\n",
       "      <th>Duration</th>\n",
       "      <th>Housing_free</th>\n",
       "      <th>Housing_own</th>\n",
       "      <th>Housing_rent</th>\n",
       "      <th>Saving accounts_little</th>\n",
       "      <th>Saving accounts_moderate</th>\n",
       "      <th>...</th>\n",
       "      <th>Checking account_rich</th>\n",
       "      <th>Purpose_business</th>\n",
       "      <th>Purpose_car</th>\n",
       "      <th>Purpose_domestic appliances</th>\n",
       "      <th>Purpose_education</th>\n",
       "      <th>Purpose_furniture/equipment</th>\n",
       "      <th>Purpose_radio/TV</th>\n",
       "      <th>Purpose_repairs</th>\n",
       "      <th>Purpose_vacation/others</th>\n",
       "      <th>Risk</th>\n",
       "    </tr>\n",
       "  </thead>\n",
       "  <tbody>\n",
       "    <tr>\n",
       "      <th>0</th>\n",
       "      <td>4.219508</td>\n",
       "      <td>0.693147</td>\n",
       "      <td>2</td>\n",
       "      <td>7.064759</td>\n",
       "      <td>1.945910</td>\n",
       "      <td>0.0000</td>\n",
       "      <td>0.6934</td>\n",
       "      <td>0.0</td>\n",
       "      <td>0</td>\n",
       "      <td>0.0</td>\n",
       "      <td>...</td>\n",
       "      <td>0.0</td>\n",
       "      <td>0.0</td>\n",
       "      <td>0</td>\n",
       "      <td>0.0</td>\n",
       "      <td>0.0000</td>\n",
       "      <td>0.0000</td>\n",
       "      <td>0.6934</td>\n",
       "      <td>0.0</td>\n",
       "      <td>0.0</td>\n",
       "      <td>1</td>\n",
       "    </tr>\n",
       "    <tr>\n",
       "      <th>1</th>\n",
       "      <td>3.135494</td>\n",
       "      <td>0.000000</td>\n",
       "      <td>2</td>\n",
       "      <td>8.691483</td>\n",
       "      <td>3.891820</td>\n",
       "      <td>0.0000</td>\n",
       "      <td>0.6934</td>\n",
       "      <td>0.0</td>\n",
       "      <td>1</td>\n",
       "      <td>0.0</td>\n",
       "      <td>...</td>\n",
       "      <td>0.0</td>\n",
       "      <td>0.0</td>\n",
       "      <td>0</td>\n",
       "      <td>0.0</td>\n",
       "      <td>0.0000</td>\n",
       "      <td>0.0000</td>\n",
       "      <td>0.6934</td>\n",
       "      <td>0.0</td>\n",
       "      <td>0.0</td>\n",
       "      <td>0</td>\n",
       "    </tr>\n",
       "    <tr>\n",
       "      <th>2</th>\n",
       "      <td>3.912023</td>\n",
       "      <td>0.693147</td>\n",
       "      <td>1</td>\n",
       "      <td>7.648263</td>\n",
       "      <td>2.564949</td>\n",
       "      <td>0.0000</td>\n",
       "      <td>0.6934</td>\n",
       "      <td>0.0</td>\n",
       "      <td>1</td>\n",
       "      <td>0.0</td>\n",
       "      <td>...</td>\n",
       "      <td>0.0</td>\n",
       "      <td>0.0</td>\n",
       "      <td>0</td>\n",
       "      <td>0.0</td>\n",
       "      <td>0.6934</td>\n",
       "      <td>0.0000</td>\n",
       "      <td>0.0000</td>\n",
       "      <td>0.0</td>\n",
       "      <td>0.0</td>\n",
       "      <td>1</td>\n",
       "    </tr>\n",
       "    <tr>\n",
       "      <th>3</th>\n",
       "      <td>3.828641</td>\n",
       "      <td>0.693147</td>\n",
       "      <td>2</td>\n",
       "      <td>8.972464</td>\n",
       "      <td>3.761200</td>\n",
       "      <td>0.6934</td>\n",
       "      <td>0.0000</td>\n",
       "      <td>0.0</td>\n",
       "      <td>1</td>\n",
       "      <td>0.0</td>\n",
       "      <td>...</td>\n",
       "      <td>0.0</td>\n",
       "      <td>0.0</td>\n",
       "      <td>0</td>\n",
       "      <td>0.0</td>\n",
       "      <td>0.0000</td>\n",
       "      <td>0.6934</td>\n",
       "      <td>0.0000</td>\n",
       "      <td>0.0</td>\n",
       "      <td>0.0</td>\n",
       "      <td>1</td>\n",
       "    </tr>\n",
       "    <tr>\n",
       "      <th>4</th>\n",
       "      <td>3.988984</td>\n",
       "      <td>0.693147</td>\n",
       "      <td>2</td>\n",
       "      <td>8.491055</td>\n",
       "      <td>3.218876</td>\n",
       "      <td>0.6934</td>\n",
       "      <td>0.0000</td>\n",
       "      <td>0.0</td>\n",
       "      <td>1</td>\n",
       "      <td>0.0</td>\n",
       "      <td>...</td>\n",
       "      <td>0.0</td>\n",
       "      <td>0.0</td>\n",
       "      <td>1</td>\n",
       "      <td>0.0</td>\n",
       "      <td>0.0000</td>\n",
       "      <td>0.0000</td>\n",
       "      <td>0.0000</td>\n",
       "      <td>0.0</td>\n",
       "      <td>0.0</td>\n",
       "      <td>0</td>\n",
       "    </tr>\n",
       "  </tbody>\n",
       "</table>\n",
       "<p>5 rows × 24 columns</p>\n",
       "</div>"
      ],
      "text/plain": [
       "        Age       Sex  Job  Credit amount  Duration  Housing_free  \\\n",
       "0  4.219508  0.693147    2       7.064759  1.945910        0.0000   \n",
       "1  3.135494  0.000000    2       8.691483  3.891820        0.0000   \n",
       "2  3.912023  0.693147    1       7.648263  2.564949        0.0000   \n",
       "3  3.828641  0.693147    2       8.972464  3.761200        0.6934   \n",
       "4  3.988984  0.693147    2       8.491055  3.218876        0.6934   \n",
       "\n",
       "   Housing_own  Housing_rent  Saving accounts_little  \\\n",
       "0       0.6934           0.0                       0   \n",
       "1       0.6934           0.0                       1   \n",
       "2       0.6934           0.0                       1   \n",
       "3       0.0000           0.0                       1   \n",
       "4       0.0000           0.0                       1   \n",
       "\n",
       "   Saving accounts_moderate  ...  Checking account_rich  Purpose_business  \\\n",
       "0                       0.0  ...                    0.0               0.0   \n",
       "1                       0.0  ...                    0.0               0.0   \n",
       "2                       0.0  ...                    0.0               0.0   \n",
       "3                       0.0  ...                    0.0               0.0   \n",
       "4                       0.0  ...                    0.0               0.0   \n",
       "\n",
       "   Purpose_car  Purpose_domestic appliances  Purpose_education  \\\n",
       "0            0                          0.0             0.0000   \n",
       "1            0                          0.0             0.0000   \n",
       "2            0                          0.0             0.6934   \n",
       "3            0                          0.0             0.0000   \n",
       "4            1                          0.0             0.0000   \n",
       "\n",
       "   Purpose_furniture/equipment  Purpose_radio/TV  Purpose_repairs  \\\n",
       "0                       0.0000            0.6934              0.0   \n",
       "1                       0.0000            0.6934              0.0   \n",
       "2                       0.0000            0.0000              0.0   \n",
       "3                       0.6934            0.0000              0.0   \n",
       "4                       0.0000            0.0000              0.0   \n",
       "\n",
       "   Purpose_vacation/others  Risk  \n",
       "0                      0.0     1  \n",
       "1                      0.0     0  \n",
       "2                      0.0     1  \n",
       "3                      0.0     1  \n",
       "4                      0.0     0  \n",
       "\n",
       "[5 rows x 24 columns]"
      ]
     },
     "execution_count": 3,
     "metadata": {},
     "output_type": "execute_result"
    }
   ],
   "source": [
    "gcr_data.head()"
   ]
  },
  {
   "cell_type": "markdown",
   "metadata": {},
   "source": [
    "<a id=\"Preprocessing\"></a> <br>\n",
    "# **4. Preprocess**"
   ]
  },
  {
   "cell_type": "markdown",
   "metadata": {},
   "source": [
    "<h2>4.1 Separating feature and target</h2>"
   ]
  },
  {
   "cell_type": "code",
   "execution_count": 4,
   "metadata": {},
   "outputs": [],
   "source": [
    "#X = gcr_data.drop(['Risk','Credit_amount/duration'], axis=1)\n",
    "#X = gcr_data.drop(['Risk', 'Credit_amount', 'Duration'], axis=1)\n",
    "X = gcr_data.drop(['Risk'], axis=1)\n",
    "\n",
    "y = gcr_data['Risk']"
   ]
  },
  {
   "cell_type": "code",
   "execution_count": 5,
   "metadata": {},
   "outputs": [
    {
     "data": {
      "text/plain": [
       "23"
      ]
     },
     "execution_count": 5,
     "metadata": {},
     "output_type": "execute_result"
    }
   ],
   "source": [
    "X.shape[1]"
   ]
  },
  {
   "cell_type": "markdown",
   "metadata": {},
   "source": [
    "<a id=\"feature_selection\"></a>\n",
    "<h2>4.2 Feature Selection</h2>"
   ]
  },
  {
   "cell_type": "markdown",
   "metadata": {},
   "source": [
    "### 1. Univariate Selection"
   ]
  },
  {
   "cell_type": "code",
   "execution_count": 6,
   "metadata": {},
   "outputs": [],
   "source": [
    "#apply SelectKBest class to extract top 5 best features\n",
    "bestfeatures = SelectKBest(score_func=chi2, k=6)\n",
    "fit = bestfeatures.fit(X,y)\n",
    "dfscores = pd.DataFrame(fit.scores_)\n",
    "dfcolumns = pd.DataFrame(X.columns)"
   ]
  },
  {
   "cell_type": "code",
   "execution_count": 7,
   "metadata": {},
   "outputs": [
    {
     "name": "stdout",
     "output_type": "stream",
     "text": [
      "                         Specs      Score\n",
      "12     Checking account_little  33.595555\n",
      "8       Saving accounts_little  10.291479\n",
      "13   Checking account_moderate   7.248111\n",
      "20            Purpose_radio/TV   5.707578\n",
      "7                 Housing_rent   4.901023\n",
      "11        Saving accounts_rich   4.853800\n",
      "4                     Duration   4.699713\n",
      "5                 Housing_free   4.113929\n",
      "6                  Housing_own   3.604819\n",
      "10  Saving accounts_quite rich   3.270982\n"
     ]
    }
   ],
   "source": [
    "#concat two dataframes for better visualization \n",
    "featureScores = pd.concat([dfcolumns, dfscores], axis=1)\n",
    "featureScores.columns = ['Specs', 'Score']  #naming the dataframe columns\n",
    "print(featureScores.nlargest(10, 'Score'))  #print best features"
   ]
  },
  {
   "cell_type": "code",
   "execution_count": 8,
   "metadata": {},
   "outputs": [],
   "source": [
    "#X = gcr_data[featureScores.nlargest(23, 'Score')['Specs'].values]"
   ]
  },
  {
   "cell_type": "markdown",
   "metadata": {},
   "source": [
    "### 2. Feature Importance"
   ]
  },
  {
   "cell_type": "code",
   "execution_count": 9,
   "metadata": {},
   "outputs": [
    {
     "data": {
      "image/png": "[encoded data removed]",
      "text/plain": [
       "<Figure size 432x288 with 1 Axes>"
      ]
     },
     "metadata": {
      "needs_background": "light"
     },
     "output_type": "display_data"
    }
   ],
   "source": [
    "from sklearn.ensemble import ExtraTreesClassifier\n",
    "\n",
    "model_fi = ExtraTreesClassifier()\n",
    "model_fi.fit(X,y)\n",
    "#print(model.feature_importances_) #use inbuilt class feature_importances of tree based classifiers\n",
    "\n",
    "#plot graph of feature importances for better visualization\n",
    "feat_importances = pd.Series(model_fi.feature_importances_, index=X.columns)\n",
    "feat_importances.sort_values(ascending=True).nlargest(14).plot(kind='barh')\n",
    "plt.show()"
   ]
  },
  {
   "cell_type": "code",
   "execution_count": 10,
   "metadata": {},
   "outputs": [
    {
     "name": "stdout",
     "output_type": "stream",
     "text": [
      "> 1) 0.700 (0.000)\n",
      "> 2) 0.700 (0.004)\n",
      "> 3) 0.705 (0.019)\n",
      "> 4) 0.705 (0.019)\n",
      "> 5) 0.723 (0.027)\n",
      "> 6) 0.727 (0.031)\n",
      "> 7) 0.721 (0.036)\n",
      "> 8) 0.740 (0.037)\n",
      "> 9) 0.742 (0.036)\n",
      "> 10) 0.740 (0.040)\n",
      "> 11) 0.741 (0.039)\n",
      "> 12) 0.742 (0.039)\n",
      "> 13) 0.741 (0.039)\n",
      "> 14) 0.743 (0.038)\n",
      "> 15) 0.739 (0.037)\n",
      "> 16) 0.739 (0.040)\n",
      "> 17) 0.738 (0.040)\n",
      "> 18) 0.737 (0.039)\n",
      "> 19) 0.737 (0.039)\n",
      "> 20) 0.740 (0.040)\n",
      "> 21) 0.740 (0.039)\n",
      "> 22) 0.739 (0.040)\n",
      "> 23) 0.739 (0.040)\n"
     ]
    }
   ],
   "source": [
    "# evaluate a give model using cross-validation\n",
    "def evaluate_model(model, X, y):\n",
    "    cv = RepeatedStratifiedKFold(n_splits=10, n_repeats=3, random_state=42)\n",
    "    scores = cross_val_score(model, X, y, scoring='accuracy', cv=cv, n_jobs=-1, error_score='raise')\n",
    "    return scores\n",
    "\n",
    "model_eval = LogisticRegression()\n",
    "\n",
    "results = list()\n",
    "for i in range(1,X.shape[1]+1):\n",
    "        scores = evaluate_model(model_eval, X[feat_importances.nlargest(i).index], y)\n",
    "        results.append(scores)\n",
    "        print('> %s) %.3f (%.3f)' % (i, mean(scores), std(scores)))"
   ]
  },
  {
   "cell_type": "code",
   "execution_count": 12,
   "metadata": {},
   "outputs": [
    {
     "data": {
      "image/png": "[encoded data removed]",
      "text/plain": [
       "<Figure size 576x432 with 1 Axes>"
      ]
     },
     "metadata": {
      "needs_background": "light"
     },
     "output_type": "display_data"
    }
   ],
   "source": [
    "no_of_features = [str(i) for i in range(1,X.shape[1]+1)]\n",
    "# plot model performance for comparison\n",
    "plt.figure(figsize=(8,6))\n",
    "plt.boxplot(results, labels=no_of_features, showmeans=True)\n",
    "plt.xticks(rotation=75)\n",
    "plt.title('No. of features vs. Average Accuracy')\n",
    "plt.show()"
   ]
  },
  {
   "cell_type": "markdown",
   "metadata": {},
   "source": [
    "### 3. Correlation Matrix with Heatmap"
   ]
  },
  {
   "cell_type": "raw",
   "metadata": {},
   "source": [
    "#get correlations of each features in dataset\n",
    "corrmat = gcr_data.corr()\n",
    "top_corr_features = corrmat.index\n",
    "plt.figure(figsize=(20,20))\n",
    "\n",
    "#plot heat map\n",
    "g=sns.heatmap(gcr_data[top_corr_features].corr(), annot=False, cmap=\"RdYlGn\")"
   ]
  },
  {
   "cell_type": "markdown",
   "metadata": {},
   "source": [
    "### 4. RFE"
   ]
  },
  {
   "cell_type": "code",
   "execution_count": 13,
   "metadata": {},
   "outputs": [],
   "source": [
    "# get a list of models to evaluate\n",
    "def get_models():\n",
    "    models = dict()\n",
    "    # lr\n",
    "    rfe = RFE(estimator=LogisticRegression(), n_features_to_select=5)\n",
    "    model = LogisticRegression()\n",
    "    models['lr'] = Pipeline(steps=[('s',rfe),('m',model)])\n",
    "    # perceptron\n",
    "    rfe = RFE(estimator=Perceptron(), n_features_to_select=5)\n",
    "    model = LogisticRegression()\n",
    "    models['per'] = Pipeline(steps=[('s',rfe),('m',model)])\n",
    "    # cart\n",
    "    rfe = RFE(estimator=DecisionTreeClassifier(), n_features_to_select=5)\n",
    "    model = LogisticRegression()\n",
    "    models['cart'] = Pipeline(steps=[('s',rfe),('m',model)])\n",
    "    # rf\n",
    "    rfe = RFE(estimator=RandomForestClassifier(), n_features_to_select=5)\n",
    "    model = LogisticRegression()\n",
    "    models['rf'] = Pipeline(steps=[('s',rfe),('m',model)])\n",
    "    # gbm\n",
    "    rfe = RFE(estimator=GradientBoostingClassifier(), n_features_to_select=5)\n",
    "    model = LogisticRegression()\n",
    "    models['gbm'] = Pipeline(steps=[('s',rfe),('m',model)])\n",
    "    return models\n",
    " \n",
    "# evaluate a give model using cross-validation\n",
    "def evaluate_model(model, X, y):\n",
    "    cv = RepeatedStratifiedKFold(n_splits=10, n_repeats=3, random_state=1)\n",
    "    scores = cross_val_score(model, X, y, scoring='accuracy', cv=cv, n_jobs=-1)\n",
    "    return scores"
   ]
  },
  {
   "cell_type": "code",
   "execution_count": 14,
   "metadata": {},
   "outputs": [
    {
     "name": "stdout",
     "output_type": "stream",
     "text": [
      ">lr 0.732 (0.030)\n",
      ">per 0.707 (0.024)\n",
      ">cart 0.726 (0.029)\n",
      ">rf 0.725 (0.026)\n",
      ">gbm 0.727 (0.029)\n"
     ]
    }
   ],
   "source": [
    "# get the models to evaluate\n",
    "models = get_models()\n",
    "# evaluate the models and store results\n",
    "results, names = list(), list()\n",
    "for name, model in models.items():\n",
    "    scores = evaluate_model(model, X, y)\n",
    "    results.append(scores)\n",
    "    names.append(name)\n",
    "    print('>%s %.3f (%.3f)' % (name, mean(scores), std(scores)))"
   ]
  },
  {
   "cell_type": "code",
   "execution_count": 15,
   "metadata": {},
   "outputs": [
    {
     "data": {
      "image/png": "[encoded data removed]",
      "text/plain": [
       "<Figure size 432x288 with 1 Axes>"
      ]
     },
     "metadata": {
      "needs_background": "light"
     },
     "output_type": "display_data"
    }
   ],
   "source": [
    "# plot model performance for comparison\n",
    "plt.boxplot(results, labels=names, showmeans=True)\n",
    "plt.title('RFE Estimator vs. Average Accuracy')\n",
    "plt.show()"
   ]
  },
  {
   "cell_type": "code",
   "execution_count": 16,
   "metadata": {},
   "outputs": [
    {
     "name": "stdout",
     "output_type": "stream",
     "text": [
      "> 2) 0.700 (0.000)\n",
      "> 3) 0.710 (0.027)\n",
      "> 4) 0.717 (0.034)\n",
      "> 5) 0.724 (0.038)\n",
      "> 6) 0.729 (0.039)\n",
      "> 7) 0.730 (0.035)\n",
      "> 8) 0.734 (0.042)\n",
      "> 9) 0.732 (0.044)\n",
      "> 10) 0.733 (0.043)\n",
      "> 11) 0.736 (0.037)\n",
      "> 12) 0.738 (0.035)\n",
      "> 13) 0.739 (0.036)\n",
      "> 14) 0.738 (0.036)\n",
      "> 15) 0.737 (0.039)\n",
      "> 16) 0.738 (0.040)\n",
      "> 17) 0.738 (0.040)\n",
      "> 18) 0.737 (0.039)\n",
      "> 19) 0.737 (0.040)\n",
      "> 20) 0.736 (0.040)\n",
      "> 21) 0.738 (0.039)\n",
      "> 22) 0.738 (0.039)\n",
      "> 23) 0.739 (0.040)\n"
     ]
    }
   ],
   "source": [
    "# get a list of models to evaluate\n",
    "def get_models():\n",
    "    models = dict()\n",
    "    for i in range(2, X.shape[1]+1):\n",
    "        rfe = RFE(estimator=LogisticRegression(), n_features_to_select=i)\n",
    "        model = LogisticRegression()\n",
    "        models[str(i)] = Pipeline(steps=[('s',rfe),('m',model)])\n",
    "    return models\n",
    "\n",
    "# evaluate a give model using cross-validation\n",
    "def evaluate_model(model, X, y):\n",
    "    cv = RepeatedStratifiedKFold(n_splits=10, n_repeats=3, random_state=42)\n",
    "    scores = cross_val_score(model, X, y, scoring='accuracy', cv=cv, n_jobs=-1, error_score='raise')\n",
    "    return scores\n",
    "\n",
    "# get the models to evaluate\n",
    "models = get_models()\n",
    "# evaluate the models and store results\n",
    "results, names = list(), list()\n",
    "for name, model in models.items():\n",
    "    scores = evaluate_model(model, X, y)\n",
    "    results.append(scores)\n",
    "    names.append(name)\n",
    "    print('> %s) %.3f (%.3f)' % (name, mean(scores), std(scores)))"
   ]
  },
  {
   "cell_type": "code",
   "execution_count": 17,
   "metadata": {},
   "outputs": [
    {
     "data": {
      "image/png": "[encoded data removed]",
      "text/plain": [
       "<Figure size 576x432 with 1 Axes>"
      ]
     },
     "metadata": {
      "needs_background": "light"
     },
     "output_type": "display_data"
    }
   ],
   "source": [
    "# plot model performance for comparison\n",
    "plt.figure(figsize=(8,6))\n",
    "plt.boxplot(results, labels=names, showmeans=True)\n",
    "plt.xticks(rotation=75)\n",
    "plt.title('No. of features vs. Average Accuracy')\n",
    "plt.show()"
   ]
  },
  {
   "cell_type": "markdown",
   "metadata": {},
   "source": [
    "#### Suppressing any warnings"
   ]
  },
  {
   "cell_type": "code",
   "execution_count": 18,
   "metadata": {},
   "outputs": [],
   "source": [
    "# Suppress warnings about too few trees from the early models\n",
    "import warnings\n",
    "warnings.filterwarnings(\"ignore\", category=UserWarning)\n",
    "warnings.filterwarnings(\"ignore\", category=RuntimeWarning)"
   ]
  },
  {
   "cell_type": "code",
   "execution_count": 19,
   "metadata": {},
   "outputs": [
    {
     "name": "stdout",
     "output_type": "stream",
     "text": [
      "Column: 0, Selected True, Rank: 1.000\n",
      "Column: 1, Selected True, Rank: 1.000\n",
      "Column: 2, Selected False, Rank: 9.000\n",
      "Column: 3, Selected False, Rank: 5.000\n",
      "Column: 4, Selected True, Rank: 1.000\n",
      "Column: 5, Selected False, Rank: 7.000\n",
      "Column: 6, Selected True, Rank: 1.000\n",
      "Column: 7, Selected False, Rank: 6.000\n",
      "Column: 8, Selected True, Rank: 1.000\n",
      "Column: 9, Selected True, Rank: 1.000\n",
      "Column: 10, Selected True, Rank: 1.000\n",
      "Column: 11, Selected True, Rank: 1.000\n",
      "Column: 12, Selected True, Rank: 1.000\n",
      "Column: 13, Selected True, Rank: 1.000\n",
      "Column: 14, Selected True, Rank: 1.000\n",
      "Column: 15, Selected False, Rank: 10.000\n",
      "Column: 16, Selected False, Rank: 11.000\n",
      "Column: 17, Selected False, Rank: 8.000\n",
      "Column: 18, Selected True, Rank: 1.000\n",
      "Column: 19, Selected False, Rank: 2.000\n",
      "Column: 20, Selected True, Rank: 1.000\n",
      "Column: 21, Selected False, Rank: 3.000\n",
      "Column: 22, Selected False, Rank: 4.000\n"
     ]
    }
   ],
   "source": [
    "# define RFE\n",
    "rfe = RFE(estimator=LogisticRegression(), n_features_to_select=13)\n",
    "# fit RFE\n",
    "rfe.fit(X, y)\n",
    "# summarize all features\n",
    "for i in range(X.shape[1]):\n",
    "    print('Column: %d, Selected %s, Rank: %.3f' % (i, rfe.support_[i], rfe.ranking_[i]))"
   ]
  },
  {
   "cell_type": "markdown",
   "metadata": {},
   "source": [
    "<a id=\"split\"></a>\n",
    "<h2>4.3 StratifiedShuffleSplit</h2>"
   ]
  },
  {
   "cell_type": "code",
   "execution_count": 20,
   "metadata": {},
   "outputs": [],
   "source": [
    "X = gcr_data[feat_importances.nlargest(14).index]\n",
    "#X = gcr_data[X.columns[rfe.support_]]\n",
    "\n",
    "#X.head()"
   ]
  },
  {
   "cell_type": "code",
   "execution_count": 21,
   "metadata": {},
   "outputs": [],
   "source": [
    "from scipy.stats import loguniform\n",
    "\n",
    "# define search space\n",
    "space = dict()\n",
    "space['solver'] = ['newton-cg', 'lbfgs', 'liblinear']\n",
    "space['penalty'] = ['none', 'l1', 'l2', 'elasticnet']\n",
    "space['C'] = loguniform(1e-5, 100)"
   ]
  },
  {
   "cell_type": "code",
   "execution_count": 22,
   "metadata": {},
   "outputs": [
    {
     "ename": "NameError",
     "evalue": "name 'cv' is not defined",
     "output_type": "error",
     "traceback": [
      "\u001b[1;31m---------------------------------------------------------------------------\u001b[0m",
      "\u001b[1;31mNameError\u001b[0m                                 Traceback (most recent call last)",
      "\u001b[1;32m<ipython-input-22-44948b977a84>\u001b[0m in \u001b[0;36m<module>\u001b[1;34m\u001b[0m\n\u001b[0;32m      4\u001b[0m \u001b[1;33m\u001b[0m\u001b[0m\n\u001b[0;32m      5\u001b[0m \u001b[1;31m# define search\u001b[0m\u001b[1;33m\u001b[0m\u001b[1;33m\u001b[0m\u001b[1;33m\u001b[0m\u001b[0m\n\u001b[1;32m----> 6\u001b[1;33m \u001b[0msearch\u001b[0m \u001b[1;33m=\u001b[0m \u001b[0mRandomizedSearchCV\u001b[0m\u001b[1;33m(\u001b[0m\u001b[0mmodel\u001b[0m\u001b[1;33m,\u001b[0m \u001b[0mspace\u001b[0m\u001b[1;33m,\u001b[0m \u001b[0mn_iter\u001b[0m\u001b[1;33m=\u001b[0m\u001b[1;36m500\u001b[0m\u001b[1;33m,\u001b[0m \u001b[0mscoring\u001b[0m\u001b[1;33m=\u001b[0m\u001b[1;34m'accuracy'\u001b[0m\u001b[1;33m,\u001b[0m \u001b[0mn_jobs\u001b[0m\u001b[1;33m=\u001b[0m\u001b[1;33m-\u001b[0m\u001b[1;36m1\u001b[0m\u001b[1;33m,\u001b[0m \u001b[0mcv\u001b[0m\u001b[1;33m=\u001b[0m\u001b[0mcv\u001b[0m\u001b[1;33m,\u001b[0m \u001b[0mrandom_state\u001b[0m\u001b[1;33m=\u001b[0m\u001b[1;36m1\u001b[0m\u001b[1;33m)\u001b[0m\u001b[1;33m\u001b[0m\u001b[1;33m\u001b[0m\u001b[0m\n\u001b[0m",
      "\u001b[1;31mNameError\u001b[0m: name 'cv' is not defined"
     ]
    }
   ],
   "source": [
    "from sklearn.model_selection import RandomizedSearchCV\n",
    "\n",
    "# we must set the number of iterations or samples to draw from the search space via the “n_iter” argument. In this case, we will set it to 500.\n",
    "\n",
    "# define search\n",
    "search = RandomizedSearchCV(model, space, n_iter=500, scoring='accuracy', n_jobs=-1, cv=cv, random_state=1)"
   ]
  },
  {
   "cell_type": "code",
   "execution_count": null,
   "metadata": {},
   "outputs": [],
   "source": []
  },
  {
   "cell_type": "code",
   "execution_count": 46,
   "metadata": {},
   "outputs": [],
   "source": [
    "from sklearn.model_selection import StratifiedShuffleSplit\n",
    "\n",
    "strat_shuf_split = StratifiedShuffleSplit(n_splits=10, \n",
    "                                          test_size=0.25, \n",
    "                                          random_state=42)\n",
    "\n",
    "train_idx, test_idx = next(strat_shuf_split.split(X, gcr_data.Risk))\n",
    "\n",
    "# Create the dataframes\n",
    "X_train = X.loc[train_idx, X.columns]\n",
    "y_train = gcr_data.loc[train_idx, 'Risk']\n",
    "\n",
    "X_test  = X.loc[test_idx, X.columns]\n",
    "y_test  = gcr_data.loc[test_idx, 'Risk']"
   ]
  },
  {
   "cell_type": "markdown",
   "metadata": {},
   "source": [
    "<a id=\"Modelling\"></a> <br>\n",
    "# **5. Models**"
   ]
  },
  {
   "cell_type": "markdown",
   "metadata": {},
   "source": [
    "<a id=\"models\"></a>\n",
    "<h2>5.1 Logistic Regression: Vanilla, L1 and L2</h2>"
   ]
  },
  {
   "cell_type": "code",
   "execution_count": 47,
   "metadata": {},
   "outputs": [],
   "source": [
    "from sklearn.linear_model import LogisticRegression\n",
    "\n",
    "# Standard logistic regression\n",
    "lr = LogisticRegression(solver='liblinear').fit(X_train, y_train)"
   ]
  },
  {
   "cell_type": "code",
   "execution_count": 48,
   "metadata": {},
   "outputs": [],
   "source": [
    "from sklearn.linear_model import LogisticRegressionCV\n",
    "\n",
    "# L1 regularized logistic regression\n",
    "lr_l1 = LogisticRegressionCV(Cs=10, cv=4, penalty='l1', solver='liblinear').fit(X_train, y_train)"
   ]
  },
  {
   "cell_type": "code",
   "execution_count": 49,
   "metadata": {},
   "outputs": [],
   "source": [
    "# L2 regularized logistic regression\n",
    "lr_l2 = LogisticRegressionCV(Cs=10, cv=4, penalty='l2', solver='liblinear').fit(X_train, y_train)"
   ]
  },
  {
   "cell_type": "markdown",
   "metadata": {},
   "source": [
    "<a id=\"metrics\"></a>\n",
    "<h2>5.2 Metrics</h2>"
   ]
  },
  {
   "cell_type": "code",
   "execution_count": 50,
   "metadata": {},
   "outputs": [
    {
     "data": {
      "text/html": [
       "<div>\n",
       "<style scoped>\n",
       "    .dataframe tbody tr th:only-of-type {\n",
       "        vertical-align: middle;\n",
       "    }\n",
       "\n",
       "    .dataframe tbody tr th {\n",
       "        vertical-align: top;\n",
       "    }\n",
       "\n",
       "    .dataframe thead th {\n",
       "        text-align: right;\n",
       "    }\n",
       "</style>\n",
       "<table border=\"1\" class=\"dataframe\">\n",
       "  <thead>\n",
       "    <tr style=\"text-align: right;\">\n",
       "      <th></th>\n",
       "      <th>lr</th>\n",
       "      <th>l1</th>\n",
       "      <th>l2</th>\n",
       "    </tr>\n",
       "  </thead>\n",
       "  <tbody>\n",
       "    <tr>\n",
       "      <th>precision</th>\n",
       "      <td>0.741417</td>\n",
       "      <td>0.765982</td>\n",
       "      <td>0.742460</td>\n",
       "    </tr>\n",
       "    <tr>\n",
       "      <th>recall</th>\n",
       "      <td>0.756000</td>\n",
       "      <td>0.768000</td>\n",
       "      <td>0.756000</td>\n",
       "    </tr>\n",
       "    <tr>\n",
       "      <th>fscore</th>\n",
       "      <td>0.734145</td>\n",
       "      <td>0.735317</td>\n",
       "      <td>0.743045</td>\n",
       "    </tr>\n",
       "    <tr>\n",
       "      <th>accuracy</th>\n",
       "      <td>0.756000</td>\n",
       "      <td>0.768000</td>\n",
       "      <td>0.756000</td>\n",
       "    </tr>\n",
       "    <tr>\n",
       "      <th>auc</th>\n",
       "      <td>0.650476</td>\n",
       "      <td>0.643810</td>\n",
       "      <td>0.669524</td>\n",
       "    </tr>\n",
       "  </tbody>\n",
       "</table>\n",
       "</div>"
      ],
      "text/plain": [
       "                 lr        l1        l2\n",
       "precision  0.741417  0.765982  0.742460\n",
       "recall     0.756000  0.768000  0.756000\n",
       "fscore     0.734145  0.735317  0.743045\n",
       "accuracy   0.756000  0.768000  0.756000\n",
       "auc        0.650476  0.643810  0.669524"
      ]
     },
     "execution_count": 50,
     "metadata": {},
     "output_type": "execute_result"
    }
   ],
   "source": [
    "coefficients = list()\n",
    "\n",
    "coeff_labels = ['lr', 'l1', 'l2']\n",
    "coeff_models = [lr, lr_l1, lr_l2]\n",
    "\n",
    "for lab,mod in zip(coeff_labels, coeff_models):\n",
    "    coeffs = mod.coef_\n",
    "    coeff_label = pd.MultiIndex(levels=[[lab], [0,1]], \n",
    "                                 codes=[[0], [0]])\n",
    "    coefficients.append(pd.DataFrame(coeffs.T, columns=coeff_label))\n",
    "\n",
    "coefficients = pd.concat(coefficients, axis=1)\n",
    "\n",
    "#coefficients.sample(5)\n",
    "\n",
    "y_pred = list()\n",
    "y_prob = list()\n",
    "\n",
    "\n",
    "for lab,mod in zip(coeff_labels, coeff_models):\n",
    "    y_pred.append(pd.Series(mod.predict(X_test), name=lab))\n",
    "    y_prob.append(pd.Series(mod.predict_proba(X_test).max(axis=1), name=lab))\n",
    "    \n",
    "y_pred = pd.concat(y_pred, axis=1)\n",
    "y_prob = pd.concat(y_prob, axis=1)\n",
    "\n",
    "#y_pred.head()\n",
    "\n",
    "metrics = list()\n",
    "cm = dict()\n",
    "\n",
    "for lab in coeff_labels:\n",
    "\n",
    "    # Preciision, recall, f-score from the multi-class support function\n",
    "    precision, recall, fscore, _ = score(y_test, y_pred[lab], average='weighted')\n",
    "    \n",
    "    # The usual way to calculate accuracy\n",
    "    accuracy = accuracy_score(y_test, y_pred[lab])\n",
    "    \n",
    "    # ROC-AUC scores can be calculated by binarizing the data\n",
    "    auc = roc_auc_score(label_binarize(y_test, classes=[0,1]),\n",
    "              label_binarize(y_pred[lab], classes=[0,1]), \n",
    "              average='weighted')\n",
    "    \n",
    "    # Last, the confusion matrix\n",
    "    cm[lab] = confusion_matrix(y_test, y_pred[lab])\n",
    "    #tn, fp, fn, tp = confusion_matrix(y_test, y_pred[lab])\n",
    "    \n",
    "    metrics.append(pd.Series({'precision':precision, 'recall':recall, \n",
    "                              'fscore':fscore, 'accuracy':accuracy,\n",
    "                              'auc':auc}, \n",
    "                             name=lab))\n",
    "\n",
    "metrics = pd.concat(metrics, axis=1)\n",
    "\n",
    "metrics"
   ]
  },
  {
   "cell_type": "markdown",
   "metadata": {},
   "source": [
    "<a id=\"conmat\"></a>\n",
    "<h2>5.3 Confusion Matrix and Classification Report</h2>"
   ]
  },
  {
   "cell_type": "code",
   "execution_count": 51,
   "metadata": {},
   "outputs": [
    {
     "data": {
      "image/png": "[encoded data removed]",
      "text/plain": [
       "<Figure size 864x720 with 7 Axes>"
      ]
     },
     "metadata": {
      "needs_background": "light"
     },
     "output_type": "display_data"
    }
   ],
   "source": [
    "fig, axList = plt.subplots(nrows=2, ncols=2)\n",
    "axList = axList.flatten()\n",
    "fig.set_size_inches(12, 10)\n",
    "\n",
    "axList[-1].axis('off')\n",
    "\n",
    "for ax,lab in zip(axList[:-1], coeff_labels):\n",
    "    sns.heatmap(cm[lab], ax=ax, annot=True, fmt='d', cmap=colors);\n",
    "    ax.set(title=lab);\n",
    "    \n",
    "plt.tight_layout()"
   ]
  },
  {
   "cell_type": "markdown",
   "metadata": {},
   "source": [
    "Note that in binary classification, recall of the positive class is also known as “sensitivity”; recall of the negative class is “specificity”."
   ]
  },
  {
   "cell_type": "code",
   "execution_count": 52,
   "metadata": {},
   "outputs": [
    {
     "name": "stdout",
     "output_type": "stream",
     "text": [
      "              precision    recall  f1-score   support\n",
      "\n",
      "           0       0.66      0.39      0.49        75\n",
      "           1       0.78      0.91      0.84       175\n",
      "\n",
      "    accuracy                           0.76       250\n",
      "   macro avg       0.72      0.65      0.66       250\n",
      "weighted avg       0.74      0.76      0.73       250\n",
      "\n",
      "Accuracy score:  0.756\n",
      "F1 Score:  0.84\n",
      "\n",
      "\n",
      "############################################################\n",
      "              precision    recall  f1-score   support\n",
      "\n",
      "           0       0.76      0.33      0.46        75\n",
      "           1       0.77      0.95      0.85       175\n",
      "\n",
      "    accuracy                           0.77       250\n",
      "   macro avg       0.76      0.64      0.66       250\n",
      "weighted avg       0.77      0.77      0.74       250\n",
      "\n",
      "Accuracy score:  0.768\n",
      "F1 Score:  0.852\n",
      "\n",
      "\n",
      "############################################################\n",
      "              precision    recall  f1-score   support\n",
      "\n",
      "           0       0.63      0.45      0.53        75\n",
      "           1       0.79      0.89      0.84       175\n",
      "\n",
      "    accuracy                           0.76       250\n",
      "   macro avg       0.71      0.67      0.68       250\n",
      "weighted avg       0.74      0.76      0.74       250\n",
      "\n",
      "Accuracy score:  0.756\n",
      "F1 Score:  0.836\n"
     ]
    }
   ],
   "source": [
    "y_pred_lr = lr.predict(X_test)\n",
    "# Preciision, recall, f-score from the multi-class support function\n",
    "print(classification_report(y_test, y_pred_lr))\n",
    "print('Accuracy score: ', round(accuracy_score(y_test, y_pred_lr), 3))\n",
    "print('F1 Score: ', round(f1_score(y_test, y_pred_lr), 3))\n",
    "\n",
    "print('\\n')\n",
    "print('#'*60)\n",
    "\n",
    "y_pred_lr_l1 = lr_l1.predict(X_test)\n",
    "# Preciision, recall, f-score from the multi-class support function\n",
    "print(classification_report(y_test, y_pred_lr_l1))\n",
    "print('Accuracy score: ', round(accuracy_score(y_test, y_pred_lr_l1), 3))\n",
    "print('F1 Score: ', round(f1_score(y_test, y_pred_lr_l1), 3))\n",
    "\n",
    "print('\\n')\n",
    "print('#'*60)\n",
    "\n",
    "y_pred_lr_l2 = lr_l2.predict(X_test)\n",
    "# Preciision, recall, f-score from the multi-class support function\n",
    "print(classification_report(y_test, y_pred_lr_l2))\n",
    "print('Accuracy score: ', round(accuracy_score(y_test, y_pred_lr_l2), 3))\n",
    "print('F1 Score: ', round(f1_score(y_test, y_pred_lr_l2), 3))"
   ]
  },
  {
   "cell_type": "markdown",
   "metadata": {},
   "source": [
    "<h2>5.4 ROC curve and Precision-Recall curve</h2>"
   ]
  },
  {
   "cell_type": "code",
   "execution_count": 53,
   "metadata": {},
   "outputs": [
    {
     "data": {
      "image/png": "[encoded data removed]",
      "text/plain": [
       "<Figure size 1008x864 with 6 Axes>"
      ]
     },
     "metadata": {
      "needs_background": "light"
     },
     "output_type": "display_data"
    }
   ],
   "source": [
    "from sklearn.metrics import roc_curve, precision_recall_curve, confusion_matrix\n",
    "\n",
    "sns.set_context('talk')\n",
    "\n",
    "fig, axList = plt.subplots(nrows=3, ncols=2)\n",
    "fig.set_size_inches(14, 12)\n",
    "\n",
    "for i, lab in zip(range(3),coeff_labels):\n",
    "\n",
    "    # Plot the ROC-AUC curve\n",
    "\n",
    "    ax = axList[i][0]\n",
    "    fpr, tpr, thresholds = roc_curve(y_test, y_prob[lab])\n",
    "    ax.plot(fpr, tpr, color=colors[0], linewidth=5)\n",
    "\n",
    "    # It is customary to draw a diagonal dotted line in ROC plots.\n",
    "    # This is to indicate completely random prediction. Deviation from this\n",
    "    # dotted line towards the upper left corner signifies the power of the model.\n",
    "    ax.plot([0, 1], [0, 1], ls='--', color='black', lw=.3)\n",
    "    ax.set(xlabel='FPR',\n",
    "           ylabel='TPR',\n",
    "           xlim=[-.01, 1.01], ylim=[-.01, 1.01],\n",
    "           title='ROC curve: {}'.format(lab))\n",
    "    ax.grid(True)\n",
    "\n",
    "    # Plot the precision-recall curve\n",
    "\n",
    "    ax = axList[i][1]\n",
    "    precision, recall, _ = precision_recall_curve(y_test, y_prob[lab])\n",
    "    ax.plot(recall, precision, color=colors[1], linewidth=5)\n",
    "    ax.set(xlabel='Recall', ylabel='Precision',\n",
    "           xlim=[-.01, 1.01], ylim=[-.01, 1.01],\n",
    "           title='Precision-Recall curve: {}'.format(lab))\n",
    "    ax.grid(True)\n",
    "\n",
    "plt.tight_layout()"
   ]
  },
  {
   "cell_type": "markdown",
   "metadata": {},
   "source": [
    "<a id=\"Summary\"></a> <br>\n",
    "# **6. Conclusion and Benefits of the model**\n",
    "- We have selected 15 features according to feature selection, we are getting maximum accuracy of 78% and minimum FPR of 30%\n",
    "- Lasso zeroes out many coefficients of the hypothesis, whereas ridge does not.\n",
    "- Lasso implementation outperforms than vanilla and ridge logistic regression, which is clearly reflected in the Metrics section.\n",
    "- Moreover, the lasso logistic regression gives the minimum FPR among the models which is 24%.\n",
    "- Polynomial Features i.e. (Credit_amount_duration) helped us to improve the metrics on this dataset for all implementations."
   ]
  },
  {
   "cell_type": "markdown",
   "metadata": {},
   "source": [
    "########################################################################################################################################"
   ]
  }
 ],
 "metadata": {
  "kernelspec": {
   "display_name": "Python 3",
   "language": "python",
   "name": "python3"
  },
  "language_info": {
   "codemirror_mode": {
    "name": "ipython",
    "version": 3
   },
   "file_extension": ".py",
   "mimetype": "text/x-python",
   "name": "python",
   "nbconvert_exporter": "python",
   "pygments_lexer": "ipython3",
   "version": "3.7.9"
  }
 },
 "nbformat": 4,
 "nbformat_minor": 4
}
