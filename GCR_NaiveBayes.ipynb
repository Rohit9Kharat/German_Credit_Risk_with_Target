{
 "cells": [
  {
   "cell_type": "markdown",
   "metadata": {},
   "source": [
    "<h1>**Naive Bayesian Classifivation on German Credit Risk data set**</h1>"
   ]
  },
  {
   "cell_type": "markdown",
   "metadata": {},
   "source": [
    "# Tables of Content:\n",
    "\n",
    "**1. [Introduction](#intro_nb)** <br>\n",
    "    - Information about the data set <br>\n",
    "**2. [Reason for using this model](#reasons_nb)** <br>\n",
    "    - The purpose of this specific model <br>\n",
    "**3. [Libraries](#libraries_nb)** <br>\n",
    "    - Importing Libraries <br>\n",
    "    - Importing Dataset <br>\n",
    "**4. [Preprocess](#preprocessing_nb)** <br>\n",
    "    - 4.1 Separating feature and target variables <br>\n",
    "    - 4.2 [Feature Selection](#feature_selection_nb)<br>\n",
    "    - 4.3 [Spliting the X and Y in train and test](#split_nb)<br>\n",
    "**5. [Models](#modelling_nb)**<br>\n",
    "    - 5.1 NBClassifier<br>\n",
    "    - 5.2 [Metrics](#metrics_nb)<br>\n",
    "    - 5.3 [Confusion Matrix and Classification Report](#conmat_nb)<br>\n",
    "    - 5.4 ROC curve and Precision-Recall curve<br>\n",
    "    \n",
    "**6. [Conclusion and Benefits of the model](#summary_nb)** <br>\n",
    "    The summary of the model implementation"
   ]
  },
  {
   "cell_type": "markdown",
   "metadata": {},
   "source": [
    "<a id=\"intro_nb\"></a> <br>\n",
    "# **1. Introduction:** \n",
    "<h2>Context</h2>\n",
    "The original dataset contains 1000 entries with 9 feature variables. In this dataset, each entry represents a person who takes a credit by a bank. Each person is classified as good or bad credit risks according to the set of attributes.\n",
    "\n",
    "<h2>Content</h2>\n",
    "I have cleaned and preprocessed the data already and also I have created a more relevant feature from two of the most important feature in the data set i.e. Credit amount and Duration. The preprocessed data set is already saved in a CSV file and we are going to use that file for our model training and testing purposes. The selected variables from the orginal data set are:\n",
    "\n",
    "<b>Age</b> ################### (numeric)<br>\n",
    "<b>Sex</b> ################### (text: male, female)<br>\n",
    "<b>Job</b> ################### (numeric: 0 - unskilled and non-resident, 1 - unskilled and resident, 2 - skilled, 3 - highly skilled)<br>\n",
    "<b>Housing</b> ################ (text: own, rent, or free)<br>\n",
    "<b>Saving accounts</b> ######## (text - little, moderate, quite rich, rich)<br>\n",
    "<b>Checking account</b> ####### (numeric, in DM - Deutsch Mark)<br>\n",
    "<b>Credit amount</b> ########## (numeric, in DM)<br>\n",
    "<b>Duration</b> ############### (numeric, in month)<br>\n",
    "<b>Purpose</b> ################ (text: car, furniture/equipment, radio/TV, domestic appliances, repairs, education, business, vacation/others<br>\n",
    "<b>Risk </b> ################## (Value target - Good or Bad Risk)<br>"
   ]
  },
  {
   "cell_type": "markdown",
   "metadata": {},
   "source": [
    "<a id=\"reasons_nb\"></a> <br>\n",
    "# **2. Reason for using this model**\n",
    "<h2>Our goal is to: </h2>\n",
    "\n",
    "- Implement different Naive Bayes Classification on German Credit Risk data set.\n",
    "- Assess the different metrics on these implementation and compare them.\n",
    "- Evaluate False Positive Rate (FPR) on these models using Confusion Matrix.\n",
    "- Visualize Receiver Operating Characteristics (ROC) curve and Precision-Recall curve to see the trend."
   ]
  },
  {
   "cell_type": "markdown",
   "metadata": {},
   "source": [
    "<a id=\"libraries_nb\"></a> <br>\n",
    "# **3. Libraries**"
   ]
  },
  {
   "cell_type": "markdown",
   "metadata": {},
   "source": [
    "### Imports"
   ]
  },
  {
   "cell_type": "code",
   "execution_count": 1,
   "metadata": {},
   "outputs": [],
   "source": [
    "import numpy as np\n",
    "from numpy import mean\n",
    "from numpy import std\n",
    "import pandas as pd\n",
    "\n",
    "from scipy import stats \n",
    "import math\n",
    "\n",
    "import matplotlib.pyplot as plt\n",
    "import seaborn as sns\n",
    "\n",
    "from sklearn.feature_selection import SelectKBest\n",
    "from sklearn.feature_selection import chi2\n",
    "from sklearn.model_selection import cross_val_score\n",
    "from sklearn.model_selection import RepeatedStratifiedKFold\n",
    "from sklearn.tree import DecisionTreeClassifier\n",
    "from sklearn.naive_bayes import BernoulliNB\n",
    "from sklearn.naive_bayes import GaussianNB\n",
    "from sklearn.naive_bayes import MultinomialNB\n",
    "from sklearn.pipeline import Pipeline\n",
    "\n",
    "from colorsetup import colors, palette"
   ]
  },
  {
   "cell_type": "markdown",
   "metadata": {},
   "source": [
    "### Read the data"
   ]
  },
  {
   "cell_type": "code",
   "execution_count": 2,
   "metadata": {},
   "outputs": [],
   "source": [
    "gcr_data = pd.read_csv(\"gcr_data_imputed2.csv\")\n",
    "#gcr_data = pd.read_csv(\"gcr_data_imputed.csv\")\n",
    "#gcr_data = pd.read_csv(\"gcr_processed.csv\")"
   ]
  },
  {
   "cell_type": "code",
   "execution_count": 3,
   "metadata": {},
   "outputs": [
    {
     "data": {
      "text/html": [
       "<div>\n",
       "<style scoped>\n",
       "    .dataframe tbody tr th:only-of-type {\n",
       "        vertical-align: middle;\n",
       "    }\n",
       "\n",
       "    .dataframe tbody tr th {\n",
       "        vertical-align: top;\n",
       "    }\n",
       "\n",
       "    .dataframe thead th {\n",
       "        text-align: right;\n",
       "    }\n",
       "</style>\n",
       "<table border=\"1\" class=\"dataframe\">\n",
       "  <thead>\n",
       "    <tr style=\"text-align: right;\">\n",
       "      <th></th>\n",
       "      <th>Age</th>\n",
       "      <th>Sex</th>\n",
       "      <th>Job</th>\n",
       "      <th>Credit amount</th>\n",
       "      <th>Duration</th>\n",
       "      <th>Housing_free</th>\n",
       "      <th>Housing_own</th>\n",
       "      <th>Housing_rent</th>\n",
       "      <th>Saving accounts_little</th>\n",
       "      <th>Saving accounts_moderate</th>\n",
       "      <th>...</th>\n",
       "      <th>Checking account_rich</th>\n",
       "      <th>Purpose_business</th>\n",
       "      <th>Purpose_car</th>\n",
       "      <th>Purpose_domestic appliances</th>\n",
       "      <th>Purpose_education</th>\n",
       "      <th>Purpose_furniture/equipment</th>\n",
       "      <th>Purpose_radio/TV</th>\n",
       "      <th>Purpose_repairs</th>\n",
       "      <th>Purpose_vacation/others</th>\n",
       "      <th>Risk</th>\n",
       "    </tr>\n",
       "  </thead>\n",
       "  <tbody>\n",
       "    <tr>\n",
       "      <th>0</th>\n",
       "      <td>4.219508</td>\n",
       "      <td>0.693147</td>\n",
       "      <td>2</td>\n",
       "      <td>7.064759</td>\n",
       "      <td>1.945910</td>\n",
       "      <td>0.0000</td>\n",
       "      <td>0.6934</td>\n",
       "      <td>0.0</td>\n",
       "      <td>0</td>\n",
       "      <td>0.0</td>\n",
       "      <td>...</td>\n",
       "      <td>0.0</td>\n",
       "      <td>0.0</td>\n",
       "      <td>0</td>\n",
       "      <td>0.0</td>\n",
       "      <td>0.0000</td>\n",
       "      <td>0.0000</td>\n",
       "      <td>0.6934</td>\n",
       "      <td>0.0</td>\n",
       "      <td>0.0</td>\n",
       "      <td>1</td>\n",
       "    </tr>\n",
       "    <tr>\n",
       "      <th>1</th>\n",
       "      <td>3.135494</td>\n",
       "      <td>0.000000</td>\n",
       "      <td>2</td>\n",
       "      <td>8.691483</td>\n",
       "      <td>3.891820</td>\n",
       "      <td>0.0000</td>\n",
       "      <td>0.6934</td>\n",
       "      <td>0.0</td>\n",
       "      <td>1</td>\n",
       "      <td>0.0</td>\n",
       "      <td>...</td>\n",
       "      <td>0.0</td>\n",
       "      <td>0.0</td>\n",
       "      <td>0</td>\n",
       "      <td>0.0</td>\n",
       "      <td>0.0000</td>\n",
       "      <td>0.0000</td>\n",
       "      <td>0.6934</td>\n",
       "      <td>0.0</td>\n",
       "      <td>0.0</td>\n",
       "      <td>0</td>\n",
       "    </tr>\n",
       "    <tr>\n",
       "      <th>2</th>\n",
       "      <td>3.912023</td>\n",
       "      <td>0.693147</td>\n",
       "      <td>1</td>\n",
       "      <td>7.648263</td>\n",
       "      <td>2.564949</td>\n",
       "      <td>0.0000</td>\n",
       "      <td>0.6934</td>\n",
       "      <td>0.0</td>\n",
       "      <td>1</td>\n",
       "      <td>0.0</td>\n",
       "      <td>...</td>\n",
       "      <td>0.0</td>\n",
       "      <td>0.0</td>\n",
       "      <td>0</td>\n",
       "      <td>0.0</td>\n",
       "      <td>0.6934</td>\n",
       "      <td>0.0000</td>\n",
       "      <td>0.0000</td>\n",
       "      <td>0.0</td>\n",
       "      <td>0.0</td>\n",
       "      <td>1</td>\n",
       "    </tr>\n",
       "    <tr>\n",
       "      <th>3</th>\n",
       "      <td>3.828641</td>\n",
       "      <td>0.693147</td>\n",
       "      <td>2</td>\n",
       "      <td>8.972464</td>\n",
       "      <td>3.761200</td>\n",
       "      <td>0.6934</td>\n",
       "      <td>0.0000</td>\n",
       "      <td>0.0</td>\n",
       "      <td>1</td>\n",
       "      <td>0.0</td>\n",
       "      <td>...</td>\n",
       "      <td>0.0</td>\n",
       "      <td>0.0</td>\n",
       "      <td>0</td>\n",
       "      <td>0.0</td>\n",
       "      <td>0.0000</td>\n",
       "      <td>0.6934</td>\n",
       "      <td>0.0000</td>\n",
       "      <td>0.0</td>\n",
       "      <td>0.0</td>\n",
       "      <td>1</td>\n",
       "    </tr>\n",
       "    <tr>\n",
       "      <th>4</th>\n",
       "      <td>3.988984</td>\n",
       "      <td>0.693147</td>\n",
       "      <td>2</td>\n",
       "      <td>8.491055</td>\n",
       "      <td>3.218876</td>\n",
       "      <td>0.6934</td>\n",
       "      <td>0.0000</td>\n",
       "      <td>0.0</td>\n",
       "      <td>1</td>\n",
       "      <td>0.0</td>\n",
       "      <td>...</td>\n",
       "      <td>0.0</td>\n",
       "      <td>0.0</td>\n",
       "      <td>1</td>\n",
       "      <td>0.0</td>\n",
       "      <td>0.0000</td>\n",
       "      <td>0.0000</td>\n",
       "      <td>0.0000</td>\n",
       "      <td>0.0</td>\n",
       "      <td>0.0</td>\n",
       "      <td>0</td>\n",
       "    </tr>\n",
       "  </tbody>\n",
       "</table>\n",
       "<p>5 rows × 24 columns</p>\n",
       "</div>"
      ],
      "text/plain": [
       "        Age       Sex  Job  Credit amount  Duration  Housing_free  \\\n",
       "0  4.219508  0.693147    2       7.064759  1.945910        0.0000   \n",
       "1  3.135494  0.000000    2       8.691483  3.891820        0.0000   \n",
       "2  3.912023  0.693147    1       7.648263  2.564949        0.0000   \n",
       "3  3.828641  0.693147    2       8.972464  3.761200        0.6934   \n",
       "4  3.988984  0.693147    2       8.491055  3.218876        0.6934   \n",
       "\n",
       "   Housing_own  Housing_rent  Saving accounts_little  \\\n",
       "0       0.6934           0.0                       0   \n",
       "1       0.6934           0.0                       1   \n",
       "2       0.6934           0.0                       1   \n",
       "3       0.0000           0.0                       1   \n",
       "4       0.0000           0.0                       1   \n",
       "\n",
       "   Saving accounts_moderate  ...  Checking account_rich  Purpose_business  \\\n",
       "0                       0.0  ...                    0.0               0.0   \n",
       "1                       0.0  ...                    0.0               0.0   \n",
       "2                       0.0  ...                    0.0               0.0   \n",
       "3                       0.0  ...                    0.0               0.0   \n",
       "4                       0.0  ...                    0.0               0.0   \n",
       "\n",
       "   Purpose_car  Purpose_domestic appliances  Purpose_education  \\\n",
       "0            0                          0.0             0.0000   \n",
       "1            0                          0.0             0.0000   \n",
       "2            0                          0.0             0.6934   \n",
       "3            0                          0.0             0.0000   \n",
       "4            1                          0.0             0.0000   \n",
       "\n",
       "   Purpose_furniture/equipment  Purpose_radio/TV  Purpose_repairs  \\\n",
       "0                       0.0000            0.6934              0.0   \n",
       "1                       0.0000            0.6934              0.0   \n",
       "2                       0.0000            0.0000              0.0   \n",
       "3                       0.6934            0.0000              0.0   \n",
       "4                       0.0000            0.0000              0.0   \n",
       "\n",
       "   Purpose_vacation/others  Risk  \n",
       "0                      0.0     1  \n",
       "1                      0.0     0  \n",
       "2                      0.0     1  \n",
       "3                      0.0     1  \n",
       "4                      0.0     0  \n",
       "\n",
       "[5 rows x 24 columns]"
      ]
     },
     "execution_count": 3,
     "metadata": {},
     "output_type": "execute_result"
    }
   ],
   "source": [
    "gcr_data.head()"
   ]
  },
  {
   "cell_type": "code",
   "execution_count": 4,
   "metadata": {},
   "outputs": [],
   "source": [
    "gcr_data['Credit_amount/duration'] = gcr_data['Credit amount']/gcr_data['Duration']"
   ]
  },
  {
   "cell_type": "code",
   "execution_count": 5,
   "metadata": {},
   "outputs": [
    {
     "data": {
      "text/html": [
       "<div>\n",
       "<style scoped>\n",
       "    .dataframe tbody tr th:only-of-type {\n",
       "        vertical-align: middle;\n",
       "    }\n",
       "\n",
       "    .dataframe tbody tr th {\n",
       "        vertical-align: top;\n",
       "    }\n",
       "\n",
       "    .dataframe thead th {\n",
       "        text-align: right;\n",
       "    }\n",
       "</style>\n",
       "<table border=\"1\" class=\"dataframe\">\n",
       "  <thead>\n",
       "    <tr style=\"text-align: right;\">\n",
       "      <th></th>\n",
       "      <th>Age</th>\n",
       "      <th>Sex</th>\n",
       "      <th>Job</th>\n",
       "      <th>Credit amount</th>\n",
       "      <th>Duration</th>\n",
       "      <th>Housing_free</th>\n",
       "      <th>Housing_own</th>\n",
       "      <th>Housing_rent</th>\n",
       "      <th>Saving accounts_little</th>\n",
       "      <th>Saving accounts_moderate</th>\n",
       "      <th>...</th>\n",
       "      <th>Purpose_business</th>\n",
       "      <th>Purpose_car</th>\n",
       "      <th>Purpose_domestic appliances</th>\n",
       "      <th>Purpose_education</th>\n",
       "      <th>Purpose_furniture/equipment</th>\n",
       "      <th>Purpose_radio/TV</th>\n",
       "      <th>Purpose_repairs</th>\n",
       "      <th>Purpose_vacation/others</th>\n",
       "      <th>Risk</th>\n",
       "      <th>Credit_amount/duration</th>\n",
       "    </tr>\n",
       "  </thead>\n",
       "  <tbody>\n",
       "    <tr>\n",
       "      <th>0</th>\n",
       "      <td>4.219508</td>\n",
       "      <td>0.693147</td>\n",
       "      <td>2</td>\n",
       "      <td>7.064759</td>\n",
       "      <td>1.945910</td>\n",
       "      <td>0.0000</td>\n",
       "      <td>0.6934</td>\n",
       "      <td>0.0</td>\n",
       "      <td>0</td>\n",
       "      <td>0.0</td>\n",
       "      <td>...</td>\n",
       "      <td>0.0</td>\n",
       "      <td>0</td>\n",
       "      <td>0.0</td>\n",
       "      <td>0.0000</td>\n",
       "      <td>0.0000</td>\n",
       "      <td>0.6934</td>\n",
       "      <td>0.0</td>\n",
       "      <td>0.0</td>\n",
       "      <td>1</td>\n",
       "      <td>3.630568</td>\n",
       "    </tr>\n",
       "    <tr>\n",
       "      <th>1</th>\n",
       "      <td>3.135494</td>\n",
       "      <td>0.000000</td>\n",
       "      <td>2</td>\n",
       "      <td>8.691483</td>\n",
       "      <td>3.891820</td>\n",
       "      <td>0.0000</td>\n",
       "      <td>0.6934</td>\n",
       "      <td>0.0</td>\n",
       "      <td>1</td>\n",
       "      <td>0.0</td>\n",
       "      <td>...</td>\n",
       "      <td>0.0</td>\n",
       "      <td>0</td>\n",
       "      <td>0.0</td>\n",
       "      <td>0.0000</td>\n",
       "      <td>0.0000</td>\n",
       "      <td>0.6934</td>\n",
       "      <td>0.0</td>\n",
       "      <td>0.0</td>\n",
       "      <td>0</td>\n",
       "      <td>2.233269</td>\n",
       "    </tr>\n",
       "    <tr>\n",
       "      <th>2</th>\n",
       "      <td>3.912023</td>\n",
       "      <td>0.693147</td>\n",
       "      <td>1</td>\n",
       "      <td>7.648263</td>\n",
       "      <td>2.564949</td>\n",
       "      <td>0.0000</td>\n",
       "      <td>0.6934</td>\n",
       "      <td>0.0</td>\n",
       "      <td>1</td>\n",
       "      <td>0.0</td>\n",
       "      <td>...</td>\n",
       "      <td>0.0</td>\n",
       "      <td>0</td>\n",
       "      <td>0.0</td>\n",
       "      <td>0.6934</td>\n",
       "      <td>0.0000</td>\n",
       "      <td>0.0000</td>\n",
       "      <td>0.0</td>\n",
       "      <td>0.0</td>\n",
       "      <td>1</td>\n",
       "      <td>2.981838</td>\n",
       "    </tr>\n",
       "    <tr>\n",
       "      <th>3</th>\n",
       "      <td>3.828641</td>\n",
       "      <td>0.693147</td>\n",
       "      <td>2</td>\n",
       "      <td>8.972464</td>\n",
       "      <td>3.761200</td>\n",
       "      <td>0.6934</td>\n",
       "      <td>0.0000</td>\n",
       "      <td>0.0</td>\n",
       "      <td>1</td>\n",
       "      <td>0.0</td>\n",
       "      <td>...</td>\n",
       "      <td>0.0</td>\n",
       "      <td>0</td>\n",
       "      <td>0.0</td>\n",
       "      <td>0.0000</td>\n",
       "      <td>0.6934</td>\n",
       "      <td>0.0000</td>\n",
       "      <td>0.0</td>\n",
       "      <td>0.0</td>\n",
       "      <td>1</td>\n",
       "      <td>2.385532</td>\n",
       "    </tr>\n",
       "    <tr>\n",
       "      <th>4</th>\n",
       "      <td>3.988984</td>\n",
       "      <td>0.693147</td>\n",
       "      <td>2</td>\n",
       "      <td>8.491055</td>\n",
       "      <td>3.218876</td>\n",
       "      <td>0.6934</td>\n",
       "      <td>0.0000</td>\n",
       "      <td>0.0</td>\n",
       "      <td>1</td>\n",
       "      <td>0.0</td>\n",
       "      <td>...</td>\n",
       "      <td>0.0</td>\n",
       "      <td>1</td>\n",
       "      <td>0.0</td>\n",
       "      <td>0.0000</td>\n",
       "      <td>0.0000</td>\n",
       "      <td>0.0000</td>\n",
       "      <td>0.0</td>\n",
       "      <td>0.0</td>\n",
       "      <td>0</td>\n",
       "      <td>2.637894</td>\n",
       "    </tr>\n",
       "  </tbody>\n",
       "</table>\n",
       "<p>5 rows × 25 columns</p>\n",
       "</div>"
      ],
      "text/plain": [
       "        Age       Sex  Job  Credit amount  Duration  Housing_free  \\\n",
       "0  4.219508  0.693147    2       7.064759  1.945910        0.0000   \n",
       "1  3.135494  0.000000    2       8.691483  3.891820        0.0000   \n",
       "2  3.912023  0.693147    1       7.648263  2.564949        0.0000   \n",
       "3  3.828641  0.693147    2       8.972464  3.761200        0.6934   \n",
       "4  3.988984  0.693147    2       8.491055  3.218876        0.6934   \n",
       "\n",
       "   Housing_own  Housing_rent  Saving accounts_little  \\\n",
       "0       0.6934           0.0                       0   \n",
       "1       0.6934           0.0                       1   \n",
       "2       0.6934           0.0                       1   \n",
       "3       0.0000           0.0                       1   \n",
       "4       0.0000           0.0                       1   \n",
       "\n",
       "   Saving accounts_moderate  ...  Purpose_business  Purpose_car  \\\n",
       "0                       0.0  ...               0.0            0   \n",
       "1                       0.0  ...               0.0            0   \n",
       "2                       0.0  ...               0.0            0   \n",
       "3                       0.0  ...               0.0            0   \n",
       "4                       0.0  ...               0.0            1   \n",
       "\n",
       "   Purpose_domestic appliances  Purpose_education  \\\n",
       "0                          0.0             0.0000   \n",
       "1                          0.0             0.0000   \n",
       "2                          0.0             0.6934   \n",
       "3                          0.0             0.0000   \n",
       "4                          0.0             0.0000   \n",
       "\n",
       "   Purpose_furniture/equipment  Purpose_radio/TV  Purpose_repairs  \\\n",
       "0                       0.0000            0.6934              0.0   \n",
       "1                       0.0000            0.6934              0.0   \n",
       "2                       0.0000            0.0000              0.0   \n",
       "3                       0.6934            0.0000              0.0   \n",
       "4                       0.0000            0.0000              0.0   \n",
       "\n",
       "   Purpose_vacation/others  Risk  Credit_amount/duration  \n",
       "0                      0.0     1                3.630568  \n",
       "1                      0.0     0                2.233269  \n",
       "2                      0.0     1                2.981838  \n",
       "3                      0.0     1                2.385532  \n",
       "4                      0.0     0                2.637894  \n",
       "\n",
       "[5 rows x 25 columns]"
      ]
     },
     "execution_count": 5,
     "metadata": {},
     "output_type": "execute_result"
    }
   ],
   "source": [
    "gcr_data.head()"
   ]
  },
  {
   "cell_type": "markdown",
   "metadata": {},
   "source": [
    "<a id=\"preprocessing_nb\"></a> <br>\n",
    "# **4. Preprocess**"
   ]
  },
  {
   "cell_type": "markdown",
   "metadata": {},
   "source": [
    "<h2>4.1 Separating feature and target</h2>"
   ]
  },
  {
   "cell_type": "code",
   "execution_count": 6,
   "metadata": {},
   "outputs": [],
   "source": [
    "#X = gcr_data.drop(['Risk','Credit_amount/duration'], axis=1)\n",
    "X = gcr_data.drop(['Risk', 'Credit amount'], axis=1)\n",
    "#X = gcr_data.drop(['Risk'], axis=1)\n",
    "\n",
    "y = gcr_data['Risk']"
   ]
  },
  {
   "cell_type": "markdown",
   "metadata": {},
   "source": [
    "<a id=\"feature_selection_nb\"></a>\n",
    "<h2>4.2 Feature Selection</h2>"
   ]
  },
  {
   "cell_type": "markdown",
   "metadata": {},
   "source": [
    "### 1. Univariate Selection"
   ]
  },
  {
   "cell_type": "code",
   "execution_count": 7,
   "metadata": {},
   "outputs": [
    {
     "name": "stdout",
     "output_type": "stream",
     "text": [
      "                         Specs      Score\n",
      "11     Checking account_little  33.595555\n",
      "7       Saving accounts_little  10.291479\n",
      "12   Checking account_moderate   7.248111\n",
      "19            Purpose_radio/TV   5.707578\n",
      "6                 Housing_rent   4.901023\n",
      "10        Saving accounts_rich   4.853800\n",
      "3                     Duration   4.699713\n",
      "4                 Housing_free   4.113929\n",
      "5                  Housing_own   3.604819\n",
      "9   Saving accounts_quite rich   3.270982\n",
      "22      Credit_amount/duration   2.664176\n",
      "17           Purpose_education   1.572042\n",
      "13       Checking account_rich   1.258393\n",
      "1                          Sex   1.224608\n"
     ]
    }
   ],
   "source": [
    "#apply SelectKBest class to extract top 5 best features\n",
    "bestfeatures = SelectKBest(score_func=chi2, k=6)\n",
    "fit = bestfeatures.fit(X,y)\n",
    "dfscores = pd.DataFrame(fit.scores_)\n",
    "dfcolumns = pd.DataFrame(X.columns)\n",
    "\n",
    "#concat two dataframes for better visualization \n",
    "featureScores = pd.concat([dfcolumns, dfscores], axis=1)\n",
    "featureScores.columns = ['Specs', 'Score']  #naming the dataframe columns\n",
    "print(featureScores.nlargest(14, 'Score'))  #print best features"
   ]
  },
  {
   "cell_type": "code",
   "execution_count": 8,
   "metadata": {},
   "outputs": [
    {
     "name": "stdout",
     "output_type": "stream",
     "text": [
      "> 1) 0.696 (0.043)\n",
      "> 2) 0.709 (0.042)\n",
      "> 3) 0.709 (0.042)\n",
      "> 4) 0.706 (0.043)\n",
      "> 5) 0.704 (0.042)\n",
      "> 6) 0.690 (0.041)\n",
      "> 7) 0.720 (0.046)\n",
      "> 8) 0.709 (0.046)\n",
      "> 9) 0.696 (0.050)\n",
      "> 10) 0.693 (0.047)\n",
      "> 11) 0.690 (0.054)\n",
      "> 12) 0.689 (0.050)\n",
      "> 13) 0.684 (0.052)\n",
      "> 14) 0.682 (0.055)\n",
      "> 15) 0.668 (0.053)\n",
      "> 16) 0.676 (0.049)\n",
      "> 17) 0.679 (0.050)\n",
      "> 18) 0.679 (0.050)\n",
      "> 19) 0.672 (0.047)\n",
      "> 20) 0.674 (0.048)\n",
      "> 21) 0.673 (0.049)\n",
      "> 22) 0.672 (0.051)\n",
      "> 23) 0.664 (0.051)\n"
     ]
    }
   ],
   "source": [
    "# evaluate a given model using cross-validation\n",
    "def evaluate_model(model, X, y):\n",
    "    cv = RepeatedStratifiedKFold(n_splits=10, n_repeats=3, random_state=42)\n",
    "    scores = cross_val_score(model, X, y, scoring='accuracy', cv=cv, n_jobs=-1, error_score='raise')\n",
    "    return scores\n",
    "\n",
    "model_eval = GaussianNB()\n",
    "\n",
    "results = list()\n",
    "for i in range(1,X.shape[1]+1):\n",
    "        scores = evaluate_model(model_eval, X[featureScores.nlargest(i, 'Score')['Specs']], y)\n",
    "        results.append(scores)\n",
    "        print('> %s) %.3f (%.3f)' % (i, mean(scores), std(scores)))"
   ]
  },
  {
   "cell_type": "code",
   "execution_count": 9,
   "metadata": {},
   "outputs": [
    {
     "name": "stdout",
     "output_type": "stream",
     "text": [
      "> 1) 0.700 (0.000)\n",
      "> 2) 0.700 (0.000)\n",
      "> 3) 0.700 (0.000)\n",
      "> 4) 0.700 (0.000)\n",
      "> 5) 0.700 (0.000)\n",
      "> 6) 0.700 (0.000)\n",
      "> 7) 0.700 (0.000)\n",
      "> 8) 0.700 (0.000)\n",
      "> 9) 0.698 (0.005)\n",
      "> 10) 0.696 (0.006)\n",
      "> 11) 0.709 (0.013)\n",
      "> 12) 0.708 (0.014)\n",
      "> 13) 0.711 (0.016)\n",
      "> 14) 0.705 (0.016)\n",
      "> 15) 0.705 (0.016)\n",
      "> 16) 0.702 (0.014)\n",
      "> 17) 0.700 (0.016)\n",
      "> 18) 0.702 (0.014)\n",
      "> 19) 0.703 (0.015)\n",
      "> 20) 0.704 (0.014)\n",
      "> 21) 0.702 (0.014)\n",
      "> 22) 0.702 (0.014)\n",
      "> 23) 0.703 (0.014)\n"
     ]
    }
   ],
   "source": [
    "# evaluate a given model using cross-validation\n",
    "def evaluate_model(model, X, y):\n",
    "    cv = RepeatedStratifiedKFold(n_splits=10, n_repeats=3, random_state=42)\n",
    "    scores = cross_val_score(model, X, y, scoring='accuracy', cv=cv, n_jobs=-1, error_score='raise')\n",
    "    return scores\n",
    "\n",
    "model_eval = MultinomialNB()\n",
    "\n",
    "results = list()\n",
    "for i in range(1,X.shape[1]+1):\n",
    "        scores = evaluate_model(model_eval, X[featureScores.nlargest(i, 'Score')['Specs']], y)\n",
    "        results.append(scores)\n",
    "        print('> %s) %.3f (%.3f)' % (i, mean(scores), std(scores)))"
   ]
  },
  {
   "cell_type": "code",
   "execution_count": 10,
   "metadata": {},
   "outputs": [
    {
     "name": "stdout",
     "output_type": "stream",
     "text": [
      "> 1) 0.700 (0.000)\n",
      "> 2) 0.700 (0.000)\n",
      "> 3) 0.700 (0.000)\n",
      "> 4) 0.700 (0.000)\n",
      "> 5) 0.700 (0.000)\n",
      "> 6) 0.700 (0.000)\n",
      "> 7) 0.700 (0.000)\n",
      "> 8) 0.700 (0.000)\n",
      "> 9) 0.700 (0.000)\n",
      "> 10) 0.700 (0.000)\n",
      "> 11) 0.700 (0.000)\n",
      "> 12) 0.700 (0.000)\n",
      "> 13) 0.700 (0.000)\n",
      "> 14) 0.700 (0.000)\n",
      "> 15) 0.700 (0.000)\n",
      "> 16) 0.700 (0.000)\n",
      "> 17) 0.700 (0.000)\n",
      "> 18) 0.700 (0.000)\n",
      "> 19) 0.700 (0.000)\n",
      "> 20) 0.700 (0.000)\n",
      "> 21) 0.700 (0.000)\n",
      "> 22) 0.700 (0.000)\n",
      "> 23) 0.700 (0.000)\n"
     ]
    }
   ],
   "source": [
    "# evaluate a given model using cross-validation\n",
    "def evaluate_model(model, X, y):\n",
    "    cv = RepeatedStratifiedKFold(n_splits=10, n_repeats=3, random_state=42)\n",
    "    scores = cross_val_score(model, X, y, scoring='accuracy', cv=cv, n_jobs=-1, error_score='raise')\n",
    "    return scores\n",
    "\n",
    "model_eval = BernoulliNB(binarize=True)\n",
    "\n",
    "results = list()\n",
    "for i in range(1,X.shape[1]+1):\n",
    "        scores = evaluate_model(model_eval, X[featureScores.nlargest(i, 'Score')['Specs']], y)\n",
    "        results.append(scores)\n",
    "        print('> %s) %.3f (%.3f)' % (i, mean(scores), std(scores)))"
   ]
  },
  {
   "cell_type": "code",
   "execution_count": 11,
   "metadata": {},
   "outputs": [],
   "source": [
    "#X = gcr_data[featureScores.nlargest(23, 'Score')['Specs'].values]"
   ]
  },
  {
   "cell_type": "markdown",
   "metadata": {},
   "source": [
    "### 2. Feature Importance"
   ]
  },
  {
   "cell_type": "code",
   "execution_count": 12,
   "metadata": {},
   "outputs": [
    {
     "data": {
      "image/png": "[encoded data removed]",
      "text/plain": [
       "<Figure size 432x288 with 1 Axes>"
      ]
     },
     "metadata": {
      "needs_background": "light"
     },
     "output_type": "display_data"
    }
   ],
   "source": [
    "from sklearn.ensemble import ExtraTreesClassifier\n",
    "\n",
    "model_fi = ExtraTreesClassifier()\n",
    "model_fi.fit(X,y)\n",
    "#print(model.feature_importances_) #use inbuilt class feature_importances of tree based classifiers\n",
    "\n",
    "#plot graph of feature importances for better visualization\n",
    "feat_importances = pd.Series(model_fi.feature_importances_, index=X.columns)\n",
    "feat_importances.sort_values(ascending=True).nlargest(14).plot(kind='barh')\n",
    "plt.show()"
   ]
  },
  {
   "cell_type": "code",
   "execution_count": 13,
   "metadata": {},
   "outputs": [
    {
     "name": "stdout",
     "output_type": "stream",
     "text": [
      "> 1) 0.700 (0.000)\n",
      "> 2) 0.700 (0.003)\n",
      "> 3) 0.698 (0.045)\n",
      "> 4) 0.691 (0.045)\n",
      "> 5) 0.717 (0.038)\n",
      "> 6) 0.726 (0.041)\n",
      "> 7) 0.723 (0.044)\n",
      "> 8) 0.735 (0.042)\n",
      "> 9) 0.735 (0.043)\n",
      "> 10) 0.736 (0.039)\n",
      "> 11) 0.737 (0.042)\n",
      "> 12) 0.735 (0.042)\n",
      "> 13) 0.719 (0.042)\n",
      "> 14) 0.715 (0.049)\n",
      "> 15) 0.709 (0.044)\n",
      "> 16) 0.692 (0.043)\n",
      "> 17) 0.691 (0.039)\n",
      "> 18) 0.677 (0.048)\n",
      "> 19) 0.677 (0.050)\n",
      "> 20) 0.669 (0.052)\n",
      "> 21) 0.663 (0.049)\n",
      "> 22) 0.672 (0.051)\n",
      "> 23) 0.664 (0.051)\n"
     ]
    }
   ],
   "source": [
    "# evaluate a give model using cross-validation\n",
    "def evaluate_model(model, X, y):\n",
    "    cv = RepeatedStratifiedKFold(n_splits=10, n_repeats=3, random_state=42)\n",
    "    scores = cross_val_score(model, X, y, scoring='accuracy', cv=cv, n_jobs=-1, error_score='raise')\n",
    "    return scores\n",
    "\n",
    "model_eval = GaussianNB()\n",
    "#model_eval = BernoulliNB(binarize=True)\n",
    "#model_eval = MultinomialNB()\n",
    "\n",
    "\n",
    "results = list()\n",
    "for i in range(1,X.shape[1]+1):\n",
    "        scores = evaluate_model(model_eval, X[feat_importances.nlargest(i).index], y)\n",
    "        results.append(scores)\n",
    "        print('> %s) %.3f (%.3f)' % (i, mean(scores), std(scores)))"
   ]
  },
  {
   "cell_type": "code",
   "execution_count": 14,
   "metadata": {},
   "outputs": [
    {
     "data": {
      "image/png": "[encoded data removed]",
      "text/plain": [
       "<Figure size 576x432 with 1 Axes>"
      ]
     },
     "metadata": {
      "needs_background": "light"
     },
     "output_type": "display_data"
    }
   ],
   "source": [
    "no_of_features = [str(i) for i in range(1,X.shape[1]+1)]\n",
    "# plot model performance for comparison\n",
    "plt.figure(figsize=(8,6))\n",
    "plt.boxplot(results, labels=no_of_features, showmeans=True)\n",
    "plt.xticks(rotation=75)\n",
    "plt.title('No. of features vs. Average Accuracy')\n",
    "plt.show()"
   ]
  },
  {
   "cell_type": "markdown",
   "metadata": {},
   "source": [
    "### 3. Correlation Matrix with Heatmap"
   ]
  },
  {
   "cell_type": "raw",
   "metadata": {},
   "source": [
    "#get correlations of each features in dataset\n",
    "corrmat = gcr_data.corr()\n",
    "top_corr_features = corrmat.index\n",
    "plt.figure(figsize=(20,20))\n",
    "\n",
    "#plot heat map\n",
    "g=sns.heatmap(gcr_data[top_corr_features].corr(), annot=False, cmap=\"RdYlGn\")"
   ]
  },
  {
   "cell_type": "markdown",
   "metadata": {},
   "source": [
    "<a id=\"split_nb\"></a>\n",
    "<h2>4.3 StratifiedShuffleSplit</h2>"
   ]
  },
  {
   "cell_type": "code",
   "execution_count": 26,
   "metadata": {},
   "outputs": [],
   "source": [
    "X = gcr_data[feat_importances.nlargest(11).index]\n",
    "#X = gcr_data[featureScores.nlargest(13, 'Score')['Specs']]\n",
    "\n",
    "#X.head()"
   ]
  },
  {
   "cell_type": "code",
   "execution_count": 27,
   "metadata": {},
   "outputs": [],
   "source": [
    "from sklearn.model_selection import StratifiedShuffleSplit\n",
    "\n",
    "strat_shuf_split = StratifiedShuffleSplit(n_splits=1, \n",
    "                                          test_size=0.3, \n",
    "                                          random_state=42)\n",
    "\n",
    "train_idx, test_idx = next(strat_shuf_split.split(X, gcr_data.Risk))\n",
    "\n",
    "# Create the dataframes\n",
    "X_train = X.loc[train_idx, X.columns]\n",
    "y_train = gcr_data.loc[train_idx, 'Risk']\n",
    "\n",
    "X_test  = X.loc[test_idx, X.columns]\n",
    "y_test  = gcr_data.loc[test_idx, 'Risk']"
   ]
  },
  {
   "cell_type": "code",
   "execution_count": 28,
   "metadata": {},
   "outputs": [
    {
     "data": {
      "text/plain": [
       "((700, 11), (700,), (300, 11), (300,))"
      ]
     },
     "execution_count": 28,
     "metadata": {},
     "output_type": "execute_result"
    }
   ],
   "source": [
    "X_train.shape, y_train.shape, X_test.shape, y_test.shape"
   ]
  },
  {
   "cell_type": "markdown",
   "metadata": {},
   "source": [
    "<a id=\"modelling_nb\"></a> <br>\n",
    "# **5. Models**"
   ]
  },
  {
   "cell_type": "markdown",
   "metadata": {},
   "source": [
    "#### Suppressing any warnings"
   ]
  },
  {
   "cell_type": "code",
   "execution_count": 29,
   "metadata": {},
   "outputs": [],
   "source": [
    "# Suppress warnings about too few trees from the early models\n",
    "import warnings\n",
    "warnings.filterwarnings(\"ignore\", category=UserWarning)\n",
    "warnings.filterwarnings(\"ignore\", category=RuntimeWarning)"
   ]
  },
  {
   "cell_type": "markdown",
   "metadata": {},
   "source": [
    "<h2>5.1 NBClassifier</h2>"
   ]
  },
  {
   "cell_type": "markdown",
   "metadata": {},
   "source": [
    "### 1. BernoullliNB"
   ]
  },
  {
   "cell_type": "code",
   "execution_count": 30,
   "metadata": {},
   "outputs": [
    {
     "data": {
      "text/plain": [
       "BernoulliNB(binarize=True)"
      ]
     },
     "execution_count": 30,
     "metadata": {},
     "output_type": "execute_result"
    }
   ],
   "source": [
    "BernNB = BernoulliNB(binarize=True)\n",
    "BernNB.fit(X_train, y_train)"
   ]
  },
  {
   "cell_type": "markdown",
   "metadata": {},
   "source": [
    "### 2. GaussianNB"
   ]
  },
  {
   "cell_type": "code",
   "execution_count": 31,
   "metadata": {},
   "outputs": [
    {
     "data": {
      "text/plain": [
       "GaussianNB()"
      ]
     },
     "execution_count": 31,
     "metadata": {},
     "output_type": "execute_result"
    }
   ],
   "source": [
    "GaussNB = GaussianNB()\n",
    "GaussNB.fit(X_train, y_train)"
   ]
  },
  {
   "cell_type": "markdown",
   "metadata": {},
   "source": [
    "### 3. MultinomialNB"
   ]
  },
  {
   "cell_type": "code",
   "execution_count": 32,
   "metadata": {},
   "outputs": [
    {
     "data": {
      "text/plain": [
       "MultinomialNB()"
      ]
     },
     "execution_count": 32,
     "metadata": {},
     "output_type": "execute_result"
    }
   ],
   "source": [
    "MultiNB = MultinomialNB()\n",
    "MultiNB.fit(X_train, y_train)"
   ]
  },
  {
   "cell_type": "markdown",
   "metadata": {},
   "source": [
    "<a id=\"metrics_nb\"></a>\n",
    "<h2>5.2 Metrics</h2>"
   ]
  },
  {
   "cell_type": "code",
   "execution_count": 33,
   "metadata": {},
   "outputs": [
    {
     "data": {
      "text/html": [
       "<div>\n",
       "<style scoped>\n",
       "    .dataframe tbody tr th:only-of-type {\n",
       "        vertical-align: middle;\n",
       "    }\n",
       "\n",
       "    .dataframe tbody tr th {\n",
       "        vertical-align: top;\n",
       "    }\n",
       "\n",
       "    .dataframe thead th {\n",
       "        text-align: right;\n",
       "    }\n",
       "</style>\n",
       "<table border=\"1\" class=\"dataframe\">\n",
       "  <thead>\n",
       "    <tr style=\"text-align: right;\">\n",
       "      <th></th>\n",
       "      <th>BernNB</th>\n",
       "      <th>GaussNB</th>\n",
       "      <th>MultiNB</th>\n",
       "    </tr>\n",
       "  </thead>\n",
       "  <tbody>\n",
       "    <tr>\n",
       "      <th>precision</th>\n",
       "      <td>0.490000</td>\n",
       "      <td>0.736372</td>\n",
       "      <td>0.490000</td>\n",
       "    </tr>\n",
       "    <tr>\n",
       "      <th>recall</th>\n",
       "      <td>0.700000</td>\n",
       "      <td>0.750000</td>\n",
       "      <td>0.700000</td>\n",
       "    </tr>\n",
       "    <tr>\n",
       "      <th>fscore</th>\n",
       "      <td>0.576471</td>\n",
       "      <td>0.738178</td>\n",
       "      <td>0.576471</td>\n",
       "    </tr>\n",
       "    <tr>\n",
       "      <th>accuracy</th>\n",
       "      <td>0.700000</td>\n",
       "      <td>0.750000</td>\n",
       "      <td>0.700000</td>\n",
       "    </tr>\n",
       "    <tr>\n",
       "      <th>auc</th>\n",
       "      <td>0.500000</td>\n",
       "      <td>0.665873</td>\n",
       "      <td>0.500000</td>\n",
       "    </tr>\n",
       "  </tbody>\n",
       "</table>\n",
       "</div>"
      ],
      "text/plain": [
       "             BernNB   GaussNB   MultiNB\n",
       "precision  0.490000  0.736372  0.490000\n",
       "recall     0.700000  0.750000  0.700000\n",
       "fscore     0.576471  0.738178  0.576471\n",
       "accuracy   0.700000  0.750000  0.700000\n",
       "auc        0.500000  0.665873  0.500000"
      ]
     },
     "execution_count": 33,
     "metadata": {},
     "output_type": "execute_result"
    }
   ],
   "source": [
    "###################################################################################\n",
    "###   Coefficients\n",
    "\n",
    "coeff_labels = ['BernNB', 'GaussNB', 'MultiNB']\n",
    "coeff_models = [BernNB, GaussNB, MultiNB]\n",
    "\n",
    "######################################################################################\n",
    "###   Predictions\n",
    "\n",
    "y_pred = list()\n",
    "y_prob = list()\n",
    "\n",
    "for lab,mod in zip(coeff_labels, coeff_models):\n",
    "    y_pred.append(pd.Series(mod.predict(X_test), name=lab))\n",
    "    y_prob.append(pd.Series(mod.predict_proba(X_test).max(axis=1), name=lab))\n",
    "    \n",
    "y_pred = pd.concat(y_pred, axis=1)\n",
    "y_prob = pd.concat(y_prob, axis=1)\n",
    "\n",
    "#y_pred.head()\n",
    "\n",
    "######################################################################################\n",
    "### Metrics\n",
    "\n",
    "from sklearn.metrics import precision_recall_fscore_support as score\n",
    "from sklearn.metrics import confusion_matrix, accuracy_score, roc_auc_score\n",
    "from sklearn.preprocessing import label_binarize\n",
    "\n",
    "metrics = list()\n",
    "cm = dict()\n",
    "\n",
    "for lab in coeff_labels:\n",
    "\n",
    "    # Preciision, recall, f-score from the multi-class support function\n",
    "    precision, recall, fscore, _ = score(y_test, y_pred[lab], average='weighted')\n",
    "    \n",
    "    # The usual way to calculate accuracy\n",
    "    accuracy = accuracy_score(y_test, y_pred[lab])\n",
    "    \n",
    "    # ROC-AUC scores can be calculated by binarizing the data\n",
    "    auc = roc_auc_score(label_binarize(y_test, classes=[0,1]),\n",
    "              label_binarize(y_pred[lab], classes=[0,1]), \n",
    "              average='weighted')\n",
    "    \n",
    "    # Last, the confusion matrix\n",
    "    cm[lab] = confusion_matrix(y_test, y_pred[lab])\n",
    "    #tn, fp, fn, tp = confusion_matrix(y_test, y_pred[lab])\n",
    "    \n",
    "    metrics.append(pd.Series({'precision':precision, 'recall':recall, \n",
    "                              'fscore':fscore, 'accuracy':accuracy,\n",
    "                              'auc':auc}, \n",
    "                             name=lab))\n",
    "\n",
    "metrics = pd.concat(metrics, axis=1)\n",
    "\n",
    "metrics"
   ]
  },
  {
   "cell_type": "markdown",
   "metadata": {},
   "source": [
    "<a id=\"conmat_nb\"></a>\n",
    "<h2>5.3 Confusion Matrix and Classification Report</h2>"
   ]
  },
  {
   "cell_type": "code",
   "execution_count": 34,
   "metadata": {},
   "outputs": [
    {
     "data": {
      "image/png": "[encoded data removed]",
      "text/plain": [
       "<Figure size 864x720 with 7 Axes>"
      ]
     },
     "metadata": {
      "needs_background": "light"
     },
     "output_type": "display_data"
    }
   ],
   "source": [
    "fig, axList = plt.subplots(nrows=2, ncols=2)\n",
    "axList = axList.flatten()\n",
    "fig.set_size_inches(12, 10)\n",
    "\n",
    "axList[-1].axis('off')\n",
    "\n",
    "for ax,lab in zip(axList[:-1], coeff_labels):\n",
    "    sns.heatmap(cm[lab], ax=ax, annot=True, fmt='d', cmap=colors);\n",
    "    ax.set(title=lab);\n",
    "    \n",
    "plt.tight_layout()"
   ]
  },
  {
   "cell_type": "code",
   "execution_count": 35,
   "metadata": {},
   "outputs": [
    {
     "name": "stdout",
     "output_type": "stream",
     "text": [
      "############################################################\n",
      "Bernoulli NB\n",
      "\n",
      "              precision    recall  f1-score   support\n",
      "\n",
      "           0       0.00      0.00      0.00        90\n",
      "           1       0.70      1.00      0.82       210\n",
      "\n",
      "    accuracy                           0.70       300\n",
      "   macro avg       0.35      0.50      0.41       300\n",
      "weighted avg       0.49      0.70      0.58       300\n",
      "\n",
      "Accuracy score:  0.7\n",
      "F1 Score:  0.824\n",
      "\n",
      "\n",
      "############################################################\n",
      "Gaussian NB\n",
      "\n",
      "              precision    recall  f1-score   support\n",
      "\n",
      "           0       0.61      0.46      0.52        90\n",
      "           1       0.79      0.88      0.83       210\n",
      "\n",
      "    accuracy                           0.75       300\n",
      "   macro avg       0.70      0.67      0.68       300\n",
      "weighted avg       0.74      0.75      0.74       300\n",
      "\n",
      "Accuracy score:  0.75\n",
      "F1 Score:  0.831\n",
      "\n",
      "\n",
      "############################################################\n",
      "Multinomial NB\n",
      "\n",
      "              precision    recall  f1-score   support\n",
      "\n",
      "           0       0.00      0.00      0.00        90\n",
      "           1       0.70      1.00      0.82       210\n",
      "\n",
      "    accuracy                           0.70       300\n",
      "   macro avg       0.35      0.50      0.41       300\n",
      "weighted avg       0.49      0.70      0.58       300\n",
      "\n",
      "Accuracy score:  0.7\n",
      "F1 Score:  0.824\n"
     ]
    }
   ],
   "source": [
    "from sklearn.metrics import confusion_matrix, accuracy_score, classification_report, f1_score\n",
    "from sklearn.metrics import precision_recall_fscore_support as score\n",
    "from sklearn.metrics import roc_auc_score\n",
    "\n",
    "y_pred_bern_nb = BernNB.predict(X_test)\n",
    "# Preciision, recall, f-score from the multi-class support function\n",
    "print('#'*60)\n",
    "print('Bernoulli NB\\n')\n",
    "print(classification_report(y_test, y_pred_bern_nb))\n",
    "print('Accuracy score: ', round(accuracy_score(y_test, y_pred_bern_nb), 3))\n",
    "print('F1 Score: ', round(f1_score(y_test, y_pred_bern_nb), 3))\n",
    "\n",
    "print('\\n')\n",
    "print('#'*60)\n",
    "\n",
    "y_pred_gauss_nb = GaussNB.predict(X_test)\n",
    "# Preciision, recall, f-score from the multi-class support function\n",
    "print('Gaussian NB\\n')\n",
    "print(classification_report(y_test, y_pred_gauss_nb))\n",
    "print('Accuracy score: ', round(accuracy_score(y_test, y_pred_gauss_nb), 3))\n",
    "print('F1 Score: ', round(f1_score(y_test, y_pred_gauss_nb), 3))\n",
    "\n",
    "print('\\n')\n",
    "print('#'*60)\n",
    "\n",
    "y_pred_multi_nb = MultiNB.predict(X_test)\n",
    "# Preciision, recall, f-score from the multi-class support function\n",
    "print('Multinomial NB\\n')\n",
    "print(classification_report(y_test, y_pred_multi_nb))\n",
    "print('Accuracy score: ', round(accuracy_score(y_test, y_pred_multi_nb), 3))\n",
    "print('F1 Score: ', round(f1_score(y_test, y_pred_multi_nb), 3))"
   ]
  },
  {
   "cell_type": "markdown",
   "metadata": {},
   "source": [
    "<h2>5.8 ROC curve and Precision-Recall curve</h2>"
   ]
  },
  {
   "cell_type": "code",
   "execution_count": 36,
   "metadata": {},
   "outputs": [
    {
     "data": {
      "image/png": "[encoded data removed]",
      "text/plain": [
       "<Figure size 1008x864 with 6 Axes>"
      ]
     },
     "metadata": {
      "needs_background": "light"
     },
     "output_type": "display_data"
    }
   ],
   "source": [
    "from sklearn.metrics import roc_curve, precision_recall_curve, confusion_matrix\n",
    "\n",
    "sns.set_context('talk')\n",
    "\n",
    "fig, axList = plt.subplots(nrows=3, ncols=2)\n",
    "fig.set_size_inches(14, 12)\n",
    "\n",
    "for i, lab in zip(range(3),coeff_labels):\n",
    "\n",
    "    # Plot the ROC-AUC curve\n",
    "\n",
    "    ax = axList[i][0]\n",
    "    fpr, tpr, thresholds = roc_curve(y_test, y_prob[lab])\n",
    "    ax.plot(fpr, tpr, color=colors[0], linewidth=5)\n",
    "\n",
    "    # It is customary to draw a diagonal dotted line in ROC plots.\n",
    "    # This is to indicate completely random prediction. Deviation from this\n",
    "    # dotted line towards the upper left corner signifies the power of the model.\n",
    "    ax.plot([0, 1], [0, 1], ls='--', color='black', lw=.3)\n",
    "    ax.set(xlabel='FPR',\n",
    "           ylabel='TPR',\n",
    "           xlim=[-.01, 1.01], ylim=[-.01, 1.01],\n",
    "           title='ROC curve: {}'.format(lab))\n",
    "    ax.grid(True)\n",
    "\n",
    "    # Plot the precision-recall curve\n",
    "\n",
    "    ax = axList[i][1]\n",
    "    precision, recall, _ = precision_recall_curve(y_test, y_prob[lab])\n",
    "    ax.plot(recall, precision, color=colors[1], linewidth=5)\n",
    "    ax.set(xlabel='Recall', ylabel='Precision',\n",
    "           xlim=[-.01, 1.01], ylim=[-.01, 1.01],\n",
    "           title='Precision-Recall curve: {}'.format(lab))\n",
    "    ax.grid(True)\n",
    "\n",
    "plt.tight_layout()"
   ]
  },
  {
   "cell_type": "markdown",
   "metadata": {},
   "source": [
    "<a id=\"summary_nb\"></a> <br>\n",
    "# **6. Conclusion and Benefits of the model**\n",
    "- Naive Bayes Classification performs very poorly as compared to other models.\n",
    "- The maximum accuracy obtained among these three models is given by GaussianNB, which is 75% when 11 no. of features are used.\n",
    "- BernoulliNB performs the worst as it fails severly in predicting the 'Bad' class which is also reflected in the ROC and Precision-Recall curve.\n",
    "- Polynomial Features i.e. (Credit_amount_duration) help us to improve the metrics on this dataset for all implementations.\n",
    "- The number of features selected were 11 as it captures most of the meaningful insights. However, increasing and decreasing the no. of features did not affect much on these models."
   ]
  },
  {
   "cell_type": "markdown",
   "metadata": {},
   "source": [
    "#########################################################################################################################################"
   ]
  }
 ],
 "metadata": {
  "kernelspec": {
   "display_name": "Python 3",
   "language": "python",
   "name": "python3"
  },
  "language_info": {
   "codemirror_mode": {
    "name": "ipython",
    "version": 3
   },
   "file_extension": ".py",
   "mimetype": "text/x-python",
   "name": "python",
   "nbconvert_exporter": "python",
   "pygments_lexer": "ipython3",
   "version": "3.7.1"
  }
 },
 "nbformat": 4,
 "nbformat_minor": 4
}
