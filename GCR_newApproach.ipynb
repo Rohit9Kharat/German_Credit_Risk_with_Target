{
 "cells": [
  {
   "cell_type": "code",
   "execution_count": 116,
   "metadata": {},
   "outputs": [],
   "source": [
    "import numpy as np # linear algebra\n",
    "import pandas as pd # data processing, CSV file I/O (e.g. pd.read_csv)\n",
    "import matplotlib.pyplot as plt\n",
    "import seaborn as sns\n",
    "import missingno\n",
    "from sklearn.preprocessing import LabelEncoder, OneHotEncoder\n",
    "from sklearn.impute import KNNImputer\n",
    "from sklearn.metrics import roc_auc_score, roc_curve, accuracy_score, confusion_matrix, log_loss, plot_roc_curve, auc, precision_recall_curve\n",
    "from sklearn.cluster import KMeans\n",
    "from sklearn.model_selection import StratifiedKFold \n",
    "from sklearn.svm import SVC\n",
    "from sklearn.linear_model import LogisticRegression\n",
    "from sklearn.gaussian_process import GaussianProcessClassifier\n",
    "from sklearn.ensemble import RandomForestClassifier\n",
    "%matplotlib inline\n",
    "from xgboost import XGBClassifier\n",
    "from functools import partial\n",
    "from skopt import gp_minimize\n",
    "from skopt import space\n",
    "from skopt.plots import plot_convergence\n",
    "\n",
    "sns.set_style('whitegrid')\n",
    "\n",
    "import warnings\n",
    "warnings.filterwarnings(\"ignore\")"
   ]
  },
  {
   "cell_type": "code",
   "execution_count": 117,
   "metadata": {},
   "outputs": [],
   "source": [
    "gcr_data = pd.read_csv(\"german_credit_data.csv\", index_col=0)"
   ]
  },
  {
   "cell_type": "code",
   "execution_count": 118,
   "metadata": {},
   "outputs": [
    {
     "data": {
      "text/html": [
       "<div>\n",
       "<style scoped>\n",
       "    .dataframe tbody tr th:only-of-type {\n",
       "        vertical-align: middle;\n",
       "    }\n",
       "\n",
       "    .dataframe tbody tr th {\n",
       "        vertical-align: top;\n",
       "    }\n",
       "\n",
       "    .dataframe thead th {\n",
       "        text-align: right;\n",
       "    }\n",
       "</style>\n",
       "<table border=\"1\" class=\"dataframe\">\n",
       "  <thead>\n",
       "    <tr style=\"text-align: right;\">\n",
       "      <th></th>\n",
       "      <th>Age</th>\n",
       "      <th>Sex</th>\n",
       "      <th>Job</th>\n",
       "      <th>Housing</th>\n",
       "      <th>Saving accounts</th>\n",
       "      <th>Checking account</th>\n",
       "      <th>Credit amount</th>\n",
       "      <th>Duration</th>\n",
       "      <th>Purpose</th>\n",
       "      <th>Risk</th>\n",
       "    </tr>\n",
       "  </thead>\n",
       "  <tbody>\n",
       "    <tr>\n",
       "      <th>0</th>\n",
       "      <td>67</td>\n",
       "      <td>male</td>\n",
       "      <td>2</td>\n",
       "      <td>own</td>\n",
       "      <td>NaN</td>\n",
       "      <td>little</td>\n",
       "      <td>1169</td>\n",
       "      <td>6</td>\n",
       "      <td>radio/TV</td>\n",
       "      <td>good</td>\n",
       "    </tr>\n",
       "    <tr>\n",
       "      <th>1</th>\n",
       "      <td>22</td>\n",
       "      <td>female</td>\n",
       "      <td>2</td>\n",
       "      <td>own</td>\n",
       "      <td>little</td>\n",
       "      <td>moderate</td>\n",
       "      <td>5951</td>\n",
       "      <td>48</td>\n",
       "      <td>radio/TV</td>\n",
       "      <td>bad</td>\n",
       "    </tr>\n",
       "    <tr>\n",
       "      <th>2</th>\n",
       "      <td>49</td>\n",
       "      <td>male</td>\n",
       "      <td>1</td>\n",
       "      <td>own</td>\n",
       "      <td>little</td>\n",
       "      <td>NaN</td>\n",
       "      <td>2096</td>\n",
       "      <td>12</td>\n",
       "      <td>education</td>\n",
       "      <td>good</td>\n",
       "    </tr>\n",
       "    <tr>\n",
       "      <th>3</th>\n",
       "      <td>45</td>\n",
       "      <td>male</td>\n",
       "      <td>2</td>\n",
       "      <td>free</td>\n",
       "      <td>little</td>\n",
       "      <td>little</td>\n",
       "      <td>7882</td>\n",
       "      <td>42</td>\n",
       "      <td>furniture/equipment</td>\n",
       "      <td>good</td>\n",
       "    </tr>\n",
       "    <tr>\n",
       "      <th>4</th>\n",
       "      <td>53</td>\n",
       "      <td>male</td>\n",
       "      <td>2</td>\n",
       "      <td>free</td>\n",
       "      <td>little</td>\n",
       "      <td>little</td>\n",
       "      <td>4870</td>\n",
       "      <td>24</td>\n",
       "      <td>car</td>\n",
       "      <td>bad</td>\n",
       "    </tr>\n",
       "  </tbody>\n",
       "</table>\n",
       "</div>"
      ],
      "text/plain": [
       "   Age     Sex  Job Housing Saving accounts Checking account  Credit amount  \\\n",
       "0   67    male    2     own             NaN           little           1169   \n",
       "1   22  female    2     own          little         moderate           5951   \n",
       "2   49    male    1     own          little              NaN           2096   \n",
       "3   45    male    2    free          little           little           7882   \n",
       "4   53    male    2    free          little           little           4870   \n",
       "\n",
       "   Duration              Purpose  Risk  \n",
       "0         6             radio/TV  good  \n",
       "1        48             radio/TV   bad  \n",
       "2        12            education  good  \n",
       "3        42  furniture/equipment  good  \n",
       "4        24                  car   bad  "
      ]
     },
     "execution_count": 118,
     "metadata": {},
     "output_type": "execute_result"
    }
   ],
   "source": [
    "gcr_data.head()"
   ]
  },
  {
   "cell_type": "code",
   "execution_count": 119,
   "metadata": {},
   "outputs": [
    {
     "name": "stdout",
     "output_type": "stream",
     "text": [
      "<class 'pandas.core.frame.DataFrame'>\n",
      "Int64Index: 1000 entries, 0 to 999\n",
      "Data columns (total 10 columns):\n",
      " #   Column            Non-Null Count  Dtype \n",
      "---  ------            --------------  ----- \n",
      " 0   Age               1000 non-null   int64 \n",
      " 1   Sex               1000 non-null   object\n",
      " 2   Job               1000 non-null   int64 \n",
      " 3   Housing           1000 non-null   object\n",
      " 4   Saving accounts   817 non-null    object\n",
      " 5   Checking account  606 non-null    object\n",
      " 6   Credit amount     1000 non-null   int64 \n",
      " 7   Duration          1000 non-null   int64 \n",
      " 8   Purpose           1000 non-null   object\n",
      " 9   Risk              1000 non-null   object\n",
      "dtypes: int64(4), object(6)\n",
      "memory usage: 85.9+ KB\n"
     ]
    }
   ],
   "source": [
    "gcr_data.info()"
   ]
  },
  {
   "cell_type": "code",
   "execution_count": 120,
   "metadata": {},
   "outputs": [],
   "source": [
    "gcr_data_lb = gcr_data.copy()"
   ]
  },
  {
   "cell_type": "code",
   "execution_count": 121,
   "metadata": {},
   "outputs": [
    {
     "data": {
      "text/plain": [
       "car                    337\n",
       "radio/TV               280\n",
       "furniture/equipment    181\n",
       "business                97\n",
       "education               59\n",
       "repairs                 22\n",
       "domestic appliances     12\n",
       "vacation/others         12\n",
       "Name: Purpose, dtype: int64"
      ]
     },
     "execution_count": 121,
     "metadata": {},
     "output_type": "execute_result"
    }
   ],
   "source": [
    "gcr_data_lb['Purpose'].value_counts()"
   ]
  },
  {
   "cell_type": "code",
   "execution_count": 122,
   "metadata": {},
   "outputs": [
    {
     "data": {
      "text/plain": [
       "Age                   0\n",
       "Sex                   0\n",
       "Job                   0\n",
       "Housing               0\n",
       "Saving accounts     183\n",
       "Checking account    394\n",
       "Credit amount         0\n",
       "Duration              0\n",
       "Purpose               0\n",
       "Risk                  0\n",
       "dtype: int64"
      ]
     },
     "execution_count": 122,
     "metadata": {},
     "output_type": "execute_result"
    }
   ],
   "source": [
    "gcr_data.isnull().sum()"
   ]
  },
  {
   "cell_type": "code",
   "execution_count": 123,
   "metadata": {},
   "outputs": [],
   "source": [
    "housing_map = {'free': 1, 'rent': 2, 'own': 3}\n",
    "\n",
    "savAcc_map = {'little': 1, 'moderate': 2, 'quite rich': 3, 'rich': 4}\n",
    "\n",
    "checkAcc_map = {'little': 1, 'moderate': 2, 'rich': 3}\n",
    "\n",
    "gender_map = {'female': 0,'male': 1}\n",
    "\n",
    "risk_map = {'good': 0, 'bad': 1}\n",
    "\n",
    "lb_en = LabelEncoder()\n",
    "\n",
    "gcr_data.loc[:,'Purpose'] = lb_en.fit_transform(gcr_data.loc[:,'Purpose']) \n",
    "\n",
    "gcr_data.loc[:,'Housing'] = gcr_data['Housing'].map(housing_map)\n",
    "gcr_data.loc[:,'Saving accounts'] = gcr_data['Saving accounts'].map(savAcc_map)\n",
    "gcr_data.loc[:,'Checking account'] = gcr_data['Checking account'].map(checkAcc_map)\n",
    "gcr_data.loc[:,'Sex'] = gcr_data['Sex'].map(gender_map)\n",
    "gcr_data.loc[:,'Risk'] = gcr_data['Risk'].map(risk_map)"
   ]
  },
  {
   "cell_type": "code",
   "execution_count": 124,
   "metadata": {},
   "outputs": [
    {
     "data": {
      "text/html": [
       "<div>\n",
       "<style scoped>\n",
       "    .dataframe tbody tr th:only-of-type {\n",
       "        vertical-align: middle;\n",
       "    }\n",
       "\n",
       "    .dataframe tbody tr th {\n",
       "        vertical-align: top;\n",
       "    }\n",
       "\n",
       "    .dataframe thead th {\n",
       "        text-align: right;\n",
       "    }\n",
       "</style>\n",
       "<table border=\"1\" class=\"dataframe\">\n",
       "  <thead>\n",
       "    <tr style=\"text-align: right;\">\n",
       "      <th></th>\n",
       "      <th>Age</th>\n",
       "      <th>Sex</th>\n",
       "      <th>Job</th>\n",
       "      <th>Housing</th>\n",
       "      <th>Saving accounts</th>\n",
       "      <th>Checking account</th>\n",
       "      <th>Credit amount</th>\n",
       "      <th>Duration</th>\n",
       "      <th>Purpose</th>\n",
       "      <th>Risk</th>\n",
       "    </tr>\n",
       "  </thead>\n",
       "  <tbody>\n",
       "    <tr>\n",
       "      <th>0</th>\n",
       "      <td>67</td>\n",
       "      <td>1</td>\n",
       "      <td>2</td>\n",
       "      <td>3</td>\n",
       "      <td>NaN</td>\n",
       "      <td>1.0</td>\n",
       "      <td>1169</td>\n",
       "      <td>6</td>\n",
       "      <td>5</td>\n",
       "      <td>0</td>\n",
       "    </tr>\n",
       "    <tr>\n",
       "      <th>1</th>\n",
       "      <td>22</td>\n",
       "      <td>0</td>\n",
       "      <td>2</td>\n",
       "      <td>3</td>\n",
       "      <td>1.0</td>\n",
       "      <td>2.0</td>\n",
       "      <td>5951</td>\n",
       "      <td>48</td>\n",
       "      <td>5</td>\n",
       "      <td>1</td>\n",
       "    </tr>\n",
       "    <tr>\n",
       "      <th>2</th>\n",
       "      <td>49</td>\n",
       "      <td>1</td>\n",
       "      <td>1</td>\n",
       "      <td>3</td>\n",
       "      <td>1.0</td>\n",
       "      <td>NaN</td>\n",
       "      <td>2096</td>\n",
       "      <td>12</td>\n",
       "      <td>3</td>\n",
       "      <td>0</td>\n",
       "    </tr>\n",
       "    <tr>\n",
       "      <th>3</th>\n",
       "      <td>45</td>\n",
       "      <td>1</td>\n",
       "      <td>2</td>\n",
       "      <td>1</td>\n",
       "      <td>1.0</td>\n",
       "      <td>1.0</td>\n",
       "      <td>7882</td>\n",
       "      <td>42</td>\n",
       "      <td>4</td>\n",
       "      <td>0</td>\n",
       "    </tr>\n",
       "    <tr>\n",
       "      <th>4</th>\n",
       "      <td>53</td>\n",
       "      <td>1</td>\n",
       "      <td>2</td>\n",
       "      <td>1</td>\n",
       "      <td>1.0</td>\n",
       "      <td>1.0</td>\n",
       "      <td>4870</td>\n",
       "      <td>24</td>\n",
       "      <td>1</td>\n",
       "      <td>1</td>\n",
       "    </tr>\n",
       "  </tbody>\n",
       "</table>\n",
       "</div>"
      ],
      "text/plain": [
       "   Age  Sex  Job  Housing  Saving accounts  Checking account  Credit amount  \\\n",
       "0   67    1    2        3              NaN               1.0           1169   \n",
       "1   22    0    2        3              1.0               2.0           5951   \n",
       "2   49    1    1        3              1.0               NaN           2096   \n",
       "3   45    1    2        1              1.0               1.0           7882   \n",
       "4   53    1    2        1              1.0               1.0           4870   \n",
       "\n",
       "   Duration  Purpose  Risk  \n",
       "0         6        5     0  \n",
       "1        48        5     1  \n",
       "2        12        3     0  \n",
       "3        42        4     0  \n",
       "4        24        1     1  "
      ]
     },
     "execution_count": 124,
     "metadata": {},
     "output_type": "execute_result"
    }
   ],
   "source": [
    "gcr_data.head()"
   ]
  },
  {
   "cell_type": "code",
   "execution_count": 125,
   "metadata": {},
   "outputs": [
    {
     "data": {
      "image/png": "[encoded data removed]",
      "text/plain": [
       "<Figure size 720x360 with 3 Axes>"
      ]
     },
     "metadata": {},
     "output_type": "display_data"
    }
   ],
   "source": [
    "missingno.bar(gcr_data, color=\"dodgerblue\", sort=\"ascending\", figsize=(10,5), fontsize=12);"
   ]
  },
  {
   "cell_type": "code",
   "execution_count": 126,
   "metadata": {},
   "outputs": [
    {
     "name": "stdout",
     "output_type": "stream",
     "text": [
      "> Age , Missing: 0 (0.0%)\n",
      "> Sex , Missing: 0 (0.0%)\n",
      "> Job , Missing: 0 (0.0%)\n",
      "> Housing , Missing: 0 (0.0%)\n",
      "> Saving accounts , Missing: 183 (18.3%)\n",
      "> Checking account , Missing: 394 (39.4%)\n",
      "> Credit amount , Missing: 0 (0.0%)\n",
      "> Duration , Missing: 0 (0.0%)\n",
      "> Purpose , Missing: 0 (0.0%)\n",
      "> Risk , Missing: 0 (0.0%)\n"
     ]
    }
   ],
   "source": [
    "#Just to check number of null values of every column in data\n",
    "\n",
    "for col in gcr_data.columns:\n",
    "    null_val = gcr_data[col].isnull().sum()\n",
    "    null_prec = (null_val * 100) / gcr_data.shape[0]\n",
    "    print('> %s , Missing: %d (%.1f%%)' % (col, null_val, null_prec))"
   ]
  },
  {
   "cell_type": "code",
   "execution_count": 127,
   "metadata": {},
   "outputs": [
    {
     "data": {
      "image/png": "[encoded data removed]",
      "text/plain": [
       "<Figure size 720x360 with 2 Axes>"
      ]
     },
     "metadata": {},
     "output_type": "display_data"
    }
   ],
   "source": [
    "missingno.heatmap(gcr_data, cmap=\"RdYlGn\", figsize=(10,5), fontsize=12);"
   ]
  },
  {
   "cell_type": "code",
   "execution_count": 128,
   "metadata": {},
   "outputs": [],
   "source": [
    "gcr_data1 = gcr_data.copy()"
   ]
  },
  {
   "cell_type": "code",
   "execution_count": 129,
   "metadata": {},
   "outputs": [],
   "source": [
    "knn_imputer = KNNImputer(n_neighbors = 3)\n",
    "\n",
    "X = np.round(knn_imputer.fit_transform(gcr_data1))\n",
    "gcr_data1 = pd.DataFrame(X, columns = gcr_data1.columns)"
   ]
  },
  {
   "cell_type": "code",
   "execution_count": 130,
   "metadata": {},
   "outputs": [
    {
     "name": "stdout",
     "output_type": "stream",
     "text": [
      "<class 'pandas.core.frame.DataFrame'>\n",
      "RangeIndex: 1000 entries, 0 to 999\n",
      "Data columns (total 10 columns):\n",
      " #   Column            Non-Null Count  Dtype  \n",
      "---  ------            --------------  -----  \n",
      " 0   Age               1000 non-null   float64\n",
      " 1   Sex               1000 non-null   float64\n",
      " 2   Job               1000 non-null   float64\n",
      " 3   Housing           1000 non-null   float64\n",
      " 4   Saving accounts   1000 non-null   float64\n",
      " 5   Checking account  1000 non-null   float64\n",
      " 6   Credit amount     1000 non-null   float64\n",
      " 7   Duration          1000 non-null   float64\n",
      " 8   Purpose           1000 non-null   float64\n",
      " 9   Risk              1000 non-null   float64\n",
      "dtypes: float64(10)\n",
      "memory usage: 78.2 KB\n"
     ]
    }
   ],
   "source": [
    "gcr_data1.info()"
   ]
  },
  {
   "cell_type": "code",
   "execution_count": 131,
   "metadata": {},
   "outputs": [
    {
     "data": {
      "text/html": [
       "<div>\n",
       "<style scoped>\n",
       "    .dataframe tbody tr th:only-of-type {\n",
       "        vertical-align: middle;\n",
       "    }\n",
       "\n",
       "    .dataframe tbody tr th {\n",
       "        vertical-align: top;\n",
       "    }\n",
       "\n",
       "    .dataframe thead th {\n",
       "        text-align: right;\n",
       "    }\n",
       "</style>\n",
       "<table border=\"1\" class=\"dataframe\">\n",
       "  <thead>\n",
       "    <tr style=\"text-align: right;\">\n",
       "      <th></th>\n",
       "      <th>Age</th>\n",
       "      <th>Sex</th>\n",
       "      <th>Job</th>\n",
       "      <th>Housing</th>\n",
       "      <th>Saving accounts</th>\n",
       "      <th>Checking account</th>\n",
       "      <th>Credit amount</th>\n",
       "      <th>Duration</th>\n",
       "      <th>Purpose</th>\n",
       "      <th>Risk</th>\n",
       "    </tr>\n",
       "  </thead>\n",
       "  <tbody>\n",
       "    <tr>\n",
       "      <th>0</th>\n",
       "      <td>67.0</td>\n",
       "      <td>1.0</td>\n",
       "      <td>2.0</td>\n",
       "      <td>3.0</td>\n",
       "      <td>1.0</td>\n",
       "      <td>1.0</td>\n",
       "      <td>1169.0</td>\n",
       "      <td>6.0</td>\n",
       "      <td>5.0</td>\n",
       "      <td>0.0</td>\n",
       "    </tr>\n",
       "    <tr>\n",
       "      <th>1</th>\n",
       "      <td>22.0</td>\n",
       "      <td>0.0</td>\n",
       "      <td>2.0</td>\n",
       "      <td>3.0</td>\n",
       "      <td>1.0</td>\n",
       "      <td>2.0</td>\n",
       "      <td>5951.0</td>\n",
       "      <td>48.0</td>\n",
       "      <td>5.0</td>\n",
       "      <td>1.0</td>\n",
       "    </tr>\n",
       "    <tr>\n",
       "      <th>2</th>\n",
       "      <td>49.0</td>\n",
       "      <td>1.0</td>\n",
       "      <td>1.0</td>\n",
       "      <td>3.0</td>\n",
       "      <td>1.0</td>\n",
       "      <td>3.0</td>\n",
       "      <td>2096.0</td>\n",
       "      <td>12.0</td>\n",
       "      <td>3.0</td>\n",
       "      <td>0.0</td>\n",
       "    </tr>\n",
       "    <tr>\n",
       "      <th>3</th>\n",
       "      <td>45.0</td>\n",
       "      <td>1.0</td>\n",
       "      <td>2.0</td>\n",
       "      <td>1.0</td>\n",
       "      <td>1.0</td>\n",
       "      <td>1.0</td>\n",
       "      <td>7882.0</td>\n",
       "      <td>42.0</td>\n",
       "      <td>4.0</td>\n",
       "      <td>0.0</td>\n",
       "    </tr>\n",
       "    <tr>\n",
       "      <th>4</th>\n",
       "      <td>53.0</td>\n",
       "      <td>1.0</td>\n",
       "      <td>2.0</td>\n",
       "      <td>1.0</td>\n",
       "      <td>1.0</td>\n",
       "      <td>1.0</td>\n",
       "      <td>4870.0</td>\n",
       "      <td>24.0</td>\n",
       "      <td>1.0</td>\n",
       "      <td>1.0</td>\n",
       "    </tr>\n",
       "  </tbody>\n",
       "</table>\n",
       "</div>"
      ],
      "text/plain": [
       "    Age  Sex  Job  Housing  Saving accounts  Checking account  Credit amount  \\\n",
       "0  67.0  1.0  2.0      3.0              1.0               1.0         1169.0   \n",
       "1  22.0  0.0  2.0      3.0              1.0               2.0         5951.0   \n",
       "2  49.0  1.0  1.0      3.0              1.0               3.0         2096.0   \n",
       "3  45.0  1.0  2.0      1.0              1.0               1.0         7882.0   \n",
       "4  53.0  1.0  2.0      1.0              1.0               1.0         4870.0   \n",
       "\n",
       "   Duration  Purpose  Risk  \n",
       "0       6.0      5.0   0.0  \n",
       "1      48.0      5.0   1.0  \n",
       "2      12.0      3.0   0.0  \n",
       "3      42.0      4.0   0.0  \n",
       "4      24.0      1.0   1.0  "
      ]
     },
     "execution_count": 131,
     "metadata": {},
     "output_type": "execute_result"
    }
   ],
   "source": [
    "gcr_data1.head()"
   ]
  },
  {
   "cell_type": "code",
   "execution_count": 132,
   "metadata": {},
   "outputs": [],
   "source": [
    "X = gcr_data1.drop(['Risk'], axis = 1)\n",
    "Y = gcr_data1['Risk']"
   ]
  },
  {
   "cell_type": "code",
   "execution_count": 133,
   "metadata": {},
   "outputs": [
    {
     "name": "stdout",
     "output_type": "stream",
     "text": [
      "Train AUC Score 1.0\n",
      "Test AUC Score 0.6514004087029692\n"
     ]
    }
   ],
   "source": [
    "from sklearn.model_selection import train_test_split\n",
    "\n",
    "X_train, X_val, y_train, y_val = train_test_split(X, Y, test_size = 0.2 ,random_state = 42)\n",
    "\n",
    "clf = XGBClassifier()\n",
    "\n",
    "clf.fit(X_train, y_train)\n",
    "\n",
    "y_train_pred = clf.predict_proba(X_train)\n",
    "y_train_pred_pos = y_train_pred[:,1]\n",
    "\n",
    "y_val_pred = clf.predict_proba(X_val)\n",
    "y_val_pred_pos = y_val_pred[:,1]\n",
    "\n",
    "auc_train = roc_auc_score(y_train, y_train_pred_pos)\n",
    "auc_test = roc_auc_score(y_val, y_val_pred_pos)\n",
    "\n",
    "print(f\"Train AUC Score {auc_train}\")\n",
    "print(f\"Test AUC Score {auc_test}\")\n",
    "\n",
    "fpr, tpr, _ = roc_curve(y_val, y_val_pred_pos)"
   ]
  },
  {
   "cell_type": "code",
   "execution_count": 134,
   "metadata": {},
   "outputs": [
    {
     "data": {
      "text/plain": [
       "<AxesSubplot:xlabel='Risk', ylabel='count'>"
      ]
     },
     "execution_count": 134,
     "metadata": {},
     "output_type": "execute_result"
    },
    {
     "data": {
      "image/png": "[encoded data removed]",
      "text/plain": [
       "<Figure size 432x288 with 1 Axes>"
      ]
     },
     "metadata": {},
     "output_type": "display_data"
    }
   ],
   "source": [
    "sns.countplot(gcr_data1['Risk'], edgecolor = 'black')"
   ]
  },
  {
   "cell_type": "code",
   "execution_count": 135,
   "metadata": {},
   "outputs": [],
   "source": [
    "def plot_auc_curve(fpr, tpr, auc):\n",
    "    plt.figure(figsize = (16,6))\n",
    "    plt.plot(fpr,tpr,'b+',linestyle = '-')\n",
    "    plt.fill_between(fpr, tpr, alpha = 0.5)\n",
    "    plt.ylabel('True Postive Rate')\n",
    "    plt.xlabel('False Postive Rate')\n",
    "    plt.title(f'ROC Curve Having AUC = {auc}')"
   ]
  },
  {
   "cell_type": "code",
   "execution_count": 136,
   "metadata": {},
   "outputs": [
    {
     "data": {
      "image/png": "[encoded data removed]",
      "text/plain": [
       "<Figure size 1152x432 with 1 Axes>"
      ]
     },
     "metadata": {},
     "output_type": "display_data"
    }
   ],
   "source": [
    "plot_auc_curve(fpr, tpr, auc_test)"
   ]
  },
  {
   "cell_type": "code",
   "execution_count": 137,
   "metadata": {},
   "outputs": [],
   "source": [
    "# funtion to plot learning curves\n",
    "\n",
    "def plot_learning_cuve(model, X, Y):\n",
    "    \n",
    "    x_train, x_test, y_train, y_test = train_test_split(X, Y, test_size = 0.2, random_state = 11)\n",
    "    train_loss, test_loss = [], []\n",
    "    \n",
    "    for m in range(200,len(x_train),200):\n",
    "        \n",
    "        model.fit(x_train.iloc[:m,:], y_train[:m])\n",
    "        y_train_prob_pred = model.predict_proba(x_train.iloc[:m,:])\n",
    "        train_loss.append(log_loss(y_train[:m], y_train_prob_pred))\n",
    "        \n",
    "        y_test_prob_pred = model.predict_proba(x_test)\n",
    "        test_loss.append(log_loss(y_test, y_test_prob_pred))\n",
    "        \n",
    "    plt.figure(figsize = (15,8))\n",
    "    plt.plot(train_loss, 'r-+', label = 'Training Loss')\n",
    "    plt.plot(test_loss, 'b-', label = 'Test Loss')\n",
    "    plt.xlabel('Number Of Batches')\n",
    "    plt.ylabel('Log-Loss')\n",
    "    plt.legend(loc = 'best')\n",
    "\n",
    "\n",
    "\n",
    "    plt.show()\n",
    "        "
   ]
  },
  {
   "cell_type": "code",
   "execution_count": 138,
   "metadata": {},
   "outputs": [
    {
     "data": {
      "image/png": "[encoded data removed]",
      "text/plain": [
       "<Figure size 1080x576 with 1 Axes>"
      ]
     },
     "metadata": {},
     "output_type": "display_data"
    }
   ],
   "source": [
    "plot_learning_cuve(XGBClassifier(), X, Y)"
   ]
  },
  {
   "cell_type": "code",
   "execution_count": 139,
   "metadata": {},
   "outputs": [],
   "source": [
    "from imblearn.over_sampling import SMOTE"
   ]
  },
  {
   "cell_type": "code",
   "execution_count": 140,
   "metadata": {},
   "outputs": [
    {
     "data": {
      "text/plain": [
       "<AxesSubplot:xlabel='Risk', ylabel='count'>"
      ]
     },
     "execution_count": 140,
     "metadata": {},
     "output_type": "execute_result"
    },
    {
     "data": {
      "image/png": "[encoded data removed]",
      "text/plain": [
       "<Figure size 432x288 with 1 Axes>"
      ]
     },
     "metadata": {},
     "output_type": "display_data"
    }
   ],
   "source": [
    "smote = SMOTE(random_state = 402)\n",
    "X_smote, Y_smote = smote.fit_resample(X,Y)\n",
    "\n",
    "\n",
    "sns.countplot(Y_smote, edgecolor = 'black')"
   ]
  },
  {
   "cell_type": "code",
   "execution_count": 141,
   "metadata": {},
   "outputs": [
    {
     "name": "stdout",
     "output_type": "stream",
     "text": [
      "(1400, 9)\n"
     ]
    }
   ],
   "source": [
    "print(X_smote.shape)"
   ]
  },
  {
   "cell_type": "code",
   "execution_count": 142,
   "metadata": {},
   "outputs": [
    {
     "name": "stdout",
     "output_type": "stream",
     "text": [
      "Train AUC Score 0.9999968104006456\n",
      "Test AUC Score 0.8549618320610687\n"
     ]
    }
   ],
   "source": [
    "X_train, X_val, y_train, y_val = train_test_split(X_smote, Y_smote, test_size = 0.2 ,random_state = 42)\n",
    "\n",
    "clf = XGBClassifier()\n",
    "\n",
    "clf.fit(X_train, y_train)\n",
    "\n",
    "y_train_pred = clf.predict_proba(X_train)\n",
    "y_train_pred_pos = y_train_pred[:,1]\n",
    "\n",
    "y_val_pred = clf.predict_proba(X_val)\n",
    "y_val_pred_pos = y_val_pred[:,1]\n",
    "\n",
    "auc_train = roc_auc_score(y_train, y_train_pred_pos)\n",
    "auc_test = roc_auc_score(y_val, y_val_pred_pos)\n",
    "\n",
    "print(f\"Train AUC Score {auc_train}\")\n",
    "print(f\"Test AUC Score {auc_test}\")"
   ]
  },
  {
   "cell_type": "code",
   "execution_count": 143,
   "metadata": {},
   "outputs": [
    {
     "data": {
      "image/png": "[encoded data removed]",
      "text/plain": [
       "<Figure size 1080x576 with 1 Axes>"
      ]
     },
     "metadata": {},
     "output_type": "display_data"
    }
   ],
   "source": [
    "plot_learning_cuve(XGBClassifier(), X_smote, Y_smote)"
   ]
  },
  {
   "cell_type": "code",
   "execution_count": 144,
   "metadata": {},
   "outputs": [
    {
     "data": {
      "text/plain": [
       "<AxesSubplot:xlabel='Risk', ylabel='count'>"
      ]
     },
     "execution_count": 144,
     "metadata": {},
     "output_type": "execute_result"
    },
    {
     "data": {
      "image/png": "[encoded data removed]",
      "text/plain": [
       "<Figure size 432x288 with 1 Axes>"
      ]
     },
     "metadata": {},
     "output_type": "display_data"
    }
   ],
   "source": [
    "smote = SMOTE(random_state = 446)\n",
    "X_smote1, Y_smote1 = smote.fit_resample(X,Y)\n",
    "\n",
    "\n",
    "X_final = pd.concat([X_smote, X_smote1], axis = 0).reset_index(drop = True)\n",
    "Y_final = pd.concat([Y_smote, Y_smote1], axis = 0).reset_index(drop = True)\n",
    "\n",
    "sns.countplot(Y_final, edgecolor = 'black')"
   ]
  },
  {
   "cell_type": "code",
   "execution_count": 145,
   "metadata": {},
   "outputs": [
    {
     "name": "stdout",
     "output_type": "stream",
     "text": [
      "(2800, 9)\n"
     ]
    }
   ],
   "source": [
    "print(X_final.shape)"
   ]
  },
  {
   "cell_type": "code",
   "execution_count": 146,
   "metadata": {},
   "outputs": [
    {
     "name": "stdout",
     "output_type": "stream",
     "text": [
      "Train AUC Score 0.9999306405939079\n",
      "Test AUC Score 0.9887025122549019\n"
     ]
    }
   ],
   "source": [
    "X_train, X_val, y_train, y_val = train_test_split(X_final, Y_final, test_size = 0.2 ,random_state = 42)\n",
    "\n",
    "clf = XGBClassifier()\n",
    "\n",
    "\n",
    "clf.fit(X_train, y_train)\n",
    "\n",
    "y_train_pred = clf.predict_proba(X_train)\n",
    "y_train_pred_pos = y_train_pred[:,1]\n",
    "\n",
    "y_val_pred = clf.predict_proba(X_val)\n",
    "y_val_pred_pos = y_val_pred[:,1]\n",
    "\n",
    "auc_train = roc_auc_score(y_train, y_train_pred_pos)\n",
    "auc_test = roc_auc_score(y_val, y_val_pred_pos)\n",
    "\n",
    "print(f\"Train AUC Score {auc_train}\")\n",
    "print(f\"Test AUC Score {auc_test}\")\n"
   ]
  },
  {
   "cell_type": "code",
   "execution_count": 147,
   "metadata": {},
   "outputs": [
    {
     "data": {
      "image/png": "[encoded data removed]",
      "text/plain": [
       "<Figure size 1080x576 with 1 Axes>"
      ]
     },
     "metadata": {},
     "output_type": "display_data"
    }
   ],
   "source": [
    "plot_learning_cuve(XGBClassifier(), X_final, Y_final)"
   ]
  },
  {
   "cell_type": "code",
   "execution_count": 148,
   "metadata": {},
   "outputs": [],
   "source": [
    "def optimize(params, param_names, x, y):\n",
    "   \n",
    "\n",
    "    # convert params to dictionary\n",
    "    params = dict(zip(param_names, params))\n",
    "\n",
    "    # initialize model with current parameters\n",
    "    clf = XGBClassifier(tree_method = 'hist', **params)\n",
    "    \n",
    "    # initialize stratified k fold\n",
    "    kf = StratifiedKFold(n_splits = 5)\n",
    "    \n",
    "    i = 0\n",
    "    \n",
    "    # initialize auc scores list\n",
    "    auc_scores = []\n",
    "    \n",
    "    #loop over all folds\n",
    "    for index in kf.split(X = x, y = y):\n",
    "        train_index, test_index = index[0], index[1]\n",
    "        \n",
    "        \n",
    "        \n",
    "        x_train = x.iloc[train_index,:]\n",
    "        y_train = y[train_index]\n",
    "\n",
    "    \n",
    "        \n",
    "        x_test = x.iloc[test_index,:]\n",
    "        y_test = y[test_index]\n",
    "        \n",
    "        #fit model\n",
    "        clf.fit(x_train, y_train)\n",
    "        \n",
    "        y_pred = clf.predict_proba(x_test)\n",
    "        y_pred_pos = y_pred[:,1]\n",
    "        \n",
    "        auc = roc_auc_score(y_test, y_pred_pos)\n",
    "        print(f'Current parameters of fold number {i} -> {params}')\n",
    "        print(f'AUC score of test {i} f {auc}')\n",
    "\n",
    "        i = i+1\n",
    "        auc_scores.append(auc)\n",
    "        \n",
    "    return -1 * np.mean(auc_scores)\n",
    "    \n",
    "    "
   ]
  },
  {
   "cell_type": "code",
   "execution_count": 149,
   "metadata": {},
   "outputs": [],
   "source": [
    "#define a parameter space\n",
    "\n",
    "param_spaces = [space.Integer(100, 2000, name = 'n_estimators'),\n",
    "                space.Real(0.01,100, name = 'min_child_weight'),\n",
    "                space.Real(0.01,1000, name = 'gamma'),\n",
    "                space.Real(0.1, 1, prior = 'uniform', name = 'colsample_bytree'),\n",
    "]\n",
    "\n",
    "# make a list of param names this has to be same order as the search space inside the main function\n",
    "param_names = ['n_estimators' ,'min_child_weight', 'gamma', 'colsample_bytree']\n",
    "\n",
    "# by using functools partial, i am creating a new function which has same parameters as the optimize function except \n",
    "# for the fact that only one param, i.e. the \"params\" parameter is required. \n",
    "# This is how gp_minimize expects the optimization function to be. \n",
    "# You can get rid of this by reading data inside the optimize function or by defining the optimize function here.\n",
    "\n",
    "optimize_function = partial(optimize, param_names = param_names, x = X_smote, y = Y_smote)"
   ]
  },
  {
   "cell_type": "code",
   "execution_count": 150,
   "metadata": {
    "collapsed": true,
    "jupyter": {
     "outputs_hidden": true
    }
   },
   "outputs": [
    {
     "name": "stdout",
     "output_type": "stream",
     "text": [
      "Iteration No: 1 started. Evaluating function at random point.\n",
      "Current parameters of fold number 0 -> {'n_estimators': 1225, 'min_child_weight': 93.37810441628334, 'gamma': 149.14915946808011, 'colsample_bytree': 0.4799350368077946}\n",
      "AUC score of test 0 f 0.5\n",
      "Current parameters of fold number 1 -> {'n_estimators': 1225, 'min_child_weight': 93.37810441628334, 'gamma': 149.14915946808011, 'colsample_bytree': 0.4799350368077946}\n",
      "AUC score of test 1 f 0.5\n",
      "Current parameters of fold number 2 -> {'n_estimators': 1225, 'min_child_weight': 93.37810441628334, 'gamma': 149.14915946808011, 'colsample_bytree': 0.4799350368077946}\n",
      "AUC score of test 2 f 0.5\n",
      "Current parameters of fold number 3 -> {'n_estimators': 1225, 'min_child_weight': 93.37810441628334, 'gamma': 149.14915946808011, 'colsample_bytree': 0.4799350368077946}\n",
      "AUC score of test 3 f 0.5\n",
      "Current parameters of fold number 4 -> {'n_estimators': 1225, 'min_child_weight': 93.37810441628334, 'gamma': 149.14915946808011, 'colsample_bytree': 0.4799350368077946}\n",
      "AUC score of test 4 f 0.5\n",
      "Iteration No: 1 ended. Evaluation done at random point.\n",
      "Time taken: 0.8474\n",
      "Function value obtained: -0.5000\n",
      "Current minimum: -0.5000\n",
      "Iteration No: 2 started. Evaluating function at random point.\n",
      "Current parameters of fold number 0 -> {'n_estimators': 1386, 'min_child_weight': 32.11586330156223, 'gamma': 5.347723526018191, 'colsample_bytree': 0.6080810704964614}\n",
      "AUC score of test 0 f 0.6815561224489796\n",
      "Current parameters of fold number 1 -> {'n_estimators': 1386, 'min_child_weight': 32.11586330156223, 'gamma': 5.347723526018191, 'colsample_bytree': 0.6080810704964614}\n",
      "AUC score of test 1 f 0.6943112244897959\n",
      "Current parameters of fold number 2 -> {'n_estimators': 1386, 'min_child_weight': 32.11586330156223, 'gamma': 5.347723526018191, 'colsample_bytree': 0.6080810704964614}\n",
      "AUC score of test 2 f 0.8948469387755102\n",
      "Current parameters of fold number 3 -> {'n_estimators': 1386, 'min_child_weight': 32.11586330156223, 'gamma': 5.347723526018191, 'colsample_bytree': 0.6080810704964614}\n",
      "AUC score of test 3 f 0.934719387755102\n",
      "Current parameters of fold number 4 -> {'n_estimators': 1386, 'min_child_weight': 32.11586330156223, 'gamma': 5.347723526018191, 'colsample_bytree': 0.6080810704964614}\n",
      "AUC score of test 4 f 0.9011734693877551\n",
      "Iteration No: 2 ended. Evaluation done at random point.\n",
      "Time taken: 1.5520\n",
      "Function value obtained: -0.8213\n",
      "Current minimum: -0.8213\n",
      "Iteration No: 3 started. Evaluating function at random point.\n",
      "Current parameters of fold number 0 -> {'n_estimators': 1044, 'min_child_weight': 57.835388265359825, 'gamma': 338.64474234080916, 'colsample_bytree': 0.9639069068409045}\n",
      "AUC score of test 0 f 0.5\n",
      "Current parameters of fold number 1 -> {'n_estimators': 1044, 'min_child_weight': 57.835388265359825, 'gamma': 338.64474234080916, 'colsample_bytree': 0.9639069068409045}\n",
      "AUC score of test 1 f 0.5\n",
      "Current parameters of fold number 2 -> {'n_estimators': 1044, 'min_child_weight': 57.835388265359825, 'gamma': 338.64474234080916, 'colsample_bytree': 0.9639069068409045}\n",
      "AUC score of test 2 f 0.5\n",
      "Current parameters of fold number 3 -> {'n_estimators': 1044, 'min_child_weight': 57.835388265359825, 'gamma': 338.64474234080916, 'colsample_bytree': 0.9639069068409045}\n",
      "AUC score of test 3 f 0.5\n",
      "Current parameters of fold number 4 -> {'n_estimators': 1044, 'min_child_weight': 57.835388265359825, 'gamma': 338.64474234080916, 'colsample_bytree': 0.9639069068409045}\n",
      "AUC score of test 4 f 0.5\n",
      "Iteration No: 3 ended. Evaluation done at random point.\n",
      "Time taken: 1.3290\n",
      "Function value obtained: -0.5000\n",
      "Current minimum: -0.8213\n",
      "Iteration No: 4 started. Evaluating function at random point.\n",
      "Current parameters of fold number 0 -> {'n_estimators': 1515, 'min_child_weight': 92.13454959140867, 'gamma': 149.8652671493461, 'colsample_bytree': 0.23094665594054936}\n",
      "AUC score of test 0 f 0.5\n",
      "Current parameters of fold number 1 -> {'n_estimators': 1515, 'min_child_weight': 92.13454959140867, 'gamma': 149.8652671493461, 'colsample_bytree': 0.23094665594054936}\n",
      "AUC score of test 1 f 0.5\n",
      "Current parameters of fold number 2 -> {'n_estimators': 1515, 'min_child_weight': 92.13454959140867, 'gamma': 149.8652671493461, 'colsample_bytree': 0.23094665594054936}\n",
      "AUC score of test 2 f 0.5\n",
      "Current parameters of fold number 3 -> {'n_estimators': 1515, 'min_child_weight': 92.13454959140867, 'gamma': 149.8652671493461, 'colsample_bytree': 0.23094665594054936}\n",
      "AUC score of test 3 f 0.5\n",
      "Current parameters of fold number 4 -> {'n_estimators': 1515, 'min_child_weight': 92.13454959140867, 'gamma': 149.8652671493461, 'colsample_bytree': 0.23094665594054936}\n",
      "AUC score of test 4 f 0.5\n",
      "Iteration No: 4 ended. Evaluation done at random point.\n",
      "Time taken: 1.5567\n",
      "Function value obtained: -0.5000\n",
      "Current minimum: -0.8213\n",
      "Iteration No: 5 started. Evaluating function at random point.\n",
      "Current parameters of fold number 0 -> {'n_estimators': 1716, 'min_child_weight': 2.3270961442324456, 'gamma': 395.34414338317237, 'colsample_bytree': 0.41553139470473965}\n",
      "AUC score of test 0 f 0.5\n",
      "Current parameters of fold number 1 -> {'n_estimators': 1716, 'min_child_weight': 2.3270961442324456, 'gamma': 395.34414338317237, 'colsample_bytree': 0.41553139470473965}\n",
      "AUC score of test 1 f 0.5\n",
      "Current parameters of fold number 2 -> {'n_estimators': 1716, 'min_child_weight': 2.3270961442324456, 'gamma': 395.34414338317237, 'colsample_bytree': 0.41553139470473965}\n",
      "AUC score of test 2 f 0.5\n",
      "Current parameters of fold number 3 -> {'n_estimators': 1716, 'min_child_weight': 2.3270961442324456, 'gamma': 395.34414338317237, 'colsample_bytree': 0.41553139470473965}\n",
      "AUC score of test 3 f 0.5\n",
      "Current parameters of fold number 4 -> {'n_estimators': 1716, 'min_child_weight': 2.3270961442324456, 'gamma': 395.34414338317237, 'colsample_bytree': 0.41553139470473965}\n",
      "AUC score of test 4 f 0.5\n",
      "Iteration No: 5 ended. Evaluation done at random point.\n",
      "Time taken: 5.6883\n",
      "Function value obtained: -0.5000\n",
      "Current minimum: -0.8213\n",
      "Iteration No: 6 started. Searching for the next optimal point.\n",
      "Current parameters of fold number 0 -> {'n_estimators': 2000, 'min_child_weight': 0.01, 'gamma': 31.741265803705375, 'colsample_bytree': 0.1}\n",
      "AUC score of test 0 f 0.6489540816326531\n",
      "Current parameters of fold number 1 -> {'n_estimators': 2000, 'min_child_weight': 0.01, 'gamma': 31.741265803705375, 'colsample_bytree': 0.1}\n",
      "AUC score of test 1 f 0.6851020408163265\n",
      "Current parameters of fold number 2 -> {'n_estimators': 2000, 'min_child_weight': 0.01, 'gamma': 31.741265803705375, 'colsample_bytree': 0.1}\n",
      "AUC score of test 2 f 0.9189030612244898\n",
      "Current parameters of fold number 3 -> {'n_estimators': 2000, 'min_child_weight': 0.01, 'gamma': 31.741265803705375, 'colsample_bytree': 0.1}\n",
      "AUC score of test 3 f 0.9366071428571429\n",
      "Current parameters of fold number 4 -> {'n_estimators': 2000, 'min_child_weight': 0.01, 'gamma': 31.741265803705375, 'colsample_bytree': 0.1}\n",
      "AUC score of test 4 f 0.9384438775510203\n",
      "Iteration No: 6 ended. Search finished for the next optimal point.\n",
      "Time taken: 5.8669\n",
      "Function value obtained: -0.8256\n",
      "Current minimum: -0.8256\n",
      "Iteration No: 7 started. Searching for the next optimal point.\n",
      "Current parameters of fold number 0 -> {'n_estimators': 2000, 'min_child_weight': 0.01, 'gamma': 0.01, 'colsample_bytree': 0.1}\n",
      "AUC score of test 0 f 0.594030612244898\n",
      "Current parameters of fold number 1 -> {'n_estimators': 2000, 'min_child_weight': 0.01, 'gamma': 0.01, 'colsample_bytree': 0.1}\n",
      "AUC score of test 1 f 0.5990816326530611\n",
      "Current parameters of fold number 2 -> {'n_estimators': 2000, 'min_child_weight': 0.01, 'gamma': 0.01, 'colsample_bytree': 0.1}\n",
      "AUC score of test 2 f 0.9167857142857143\n",
      "Current parameters of fold number 3 -> {'n_estimators': 2000, 'min_child_weight': 0.01, 'gamma': 0.01, 'colsample_bytree': 0.1}\n",
      "AUC score of test 3 f 0.9897448979591837\n",
      "Current parameters of fold number 4 -> {'n_estimators': 2000, 'min_child_weight': 0.01, 'gamma': 0.01, 'colsample_bytree': 0.1}\n",
      "AUC score of test 4 f 0.9890816326530611\n",
      "Iteration No: 7 ended. Search finished for the next optimal point.\n",
      "Time taken: 3.2843\n",
      "Function value obtained: -0.8177\n",
      "Current minimum: -0.8256\n",
      "Iteration No: 8 started. Searching for the next optimal point.\n",
      "Current parameters of fold number 0 -> {'n_estimators': 619, 'min_child_weight': 98.06956592867851, 'gamma': 1000.0, 'colsample_bytree': 0.23630689113061656}\n",
      "AUC score of test 0 f 0.5\n",
      "Current parameters of fold number 1 -> {'n_estimators': 619, 'min_child_weight': 98.06956592867851, 'gamma': 1000.0, 'colsample_bytree': 0.23630689113061656}\n",
      "AUC score of test 1 f 0.5\n",
      "Current parameters of fold number 2 -> {'n_estimators': 619, 'min_child_weight': 98.06956592867851, 'gamma': 1000.0, 'colsample_bytree': 0.23630689113061656}\n",
      "AUC score of test 2 f 0.5\n",
      "Current parameters of fold number 3 -> {'n_estimators': 619, 'min_child_weight': 98.06956592867851, 'gamma': 1000.0, 'colsample_bytree': 0.23630689113061656}\n",
      "AUC score of test 3 f 0.5\n",
      "Current parameters of fold number 4 -> {'n_estimators': 619, 'min_child_weight': 98.06956592867851, 'gamma': 1000.0, 'colsample_bytree': 0.23630689113061656}\n",
      "AUC score of test 4 f 0.5\n",
      "Iteration No: 8 ended. Search finished for the next optimal point.\n",
      "Time taken: 0.7538\n",
      "Function value obtained: -0.5000\n",
      "Current minimum: -0.8256\n",
      "Iteration No: 9 started. Searching for the next optimal point.\n",
      "Current parameters of fold number 0 -> {'n_estimators': 200, 'min_child_weight': 77.78141501424417, 'gamma': 693.3597574304673, 'colsample_bytree': 0.9913034795687922}\n",
      "AUC score of test 0 f 0.5\n",
      "Current parameters of fold number 1 -> {'n_estimators': 200, 'min_child_weight': 77.78141501424417, 'gamma': 693.3597574304673, 'colsample_bytree': 0.9913034795687922}\n",
      "AUC score of test 1 f 0.5\n",
      "Current parameters of fold number 2 -> {'n_estimators': 200, 'min_child_weight': 77.78141501424417, 'gamma': 693.3597574304673, 'colsample_bytree': 0.9913034795687922}\n",
      "AUC score of test 2 f 0.5\n",
      "Current parameters of fold number 3 -> {'n_estimators': 200, 'min_child_weight': 77.78141501424417, 'gamma': 693.3597574304673, 'colsample_bytree': 0.9913034795687922}\n",
      "AUC score of test 3 f 0.5\n",
      "Current parameters of fold number 4 -> {'n_estimators': 200, 'min_child_weight': 77.78141501424417, 'gamma': 693.3597574304673, 'colsample_bytree': 0.9913034795687922}\n",
      "AUC score of test 4 f 0.5\n",
      "Iteration No: 9 ended. Search finished for the next optimal point.\n",
      "Time taken: 0.4699\n",
      "Function value obtained: -0.5000\n",
      "Current minimum: -0.8256\n",
      "Iteration No: 10 started. Searching for the next optimal point.\n",
      "Current parameters of fold number 0 -> {'n_estimators': 1739, 'min_child_weight': 1.809366425513867, 'gamma': 846.4726350838874, 'colsample_bytree': 0.201296368382759}\n",
      "AUC score of test 0 f 0.5\n",
      "Current parameters of fold number 1 -> {'n_estimators': 1739, 'min_child_weight': 1.809366425513867, 'gamma': 846.4726350838874, 'colsample_bytree': 0.201296368382759}\n",
      "AUC score of test 1 f 0.5\n",
      "Current parameters of fold number 2 -> {'n_estimators': 1739, 'min_child_weight': 1.809366425513867, 'gamma': 846.4726350838874, 'colsample_bytree': 0.201296368382759}\n",
      "AUC score of test 2 f 0.5\n",
      "Current parameters of fold number 3 -> {'n_estimators': 1739, 'min_child_weight': 1.809366425513867, 'gamma': 846.4726350838874, 'colsample_bytree': 0.201296368382759}\n",
      "AUC score of test 3 f 0.5\n",
      "Current parameters of fold number 4 -> {'n_estimators': 1739, 'min_child_weight': 1.809366425513867, 'gamma': 846.4726350838874, 'colsample_bytree': 0.201296368382759}\n",
      "AUC score of test 4 f 0.5\n",
      "Iteration No: 10 ended. Search finished for the next optimal point.\n",
      "Time taken: 3.0133\n",
      "Function value obtained: -0.5000\n",
      "Current minimum: -0.8256\n",
      "Iteration No: 11 started. Searching for the next optimal point.\n",
      "Current parameters of fold number 0 -> {'n_estimators': 532, 'min_child_weight': 44.012358449768634, 'gamma': 547.2035937941474, 'colsample_bytree': 0.11497184898685148}\n",
      "AUC score of test 0 f 0.5\n",
      "Current parameters of fold number 1 -> {'n_estimators': 532, 'min_child_weight': 44.012358449768634, 'gamma': 547.2035937941474, 'colsample_bytree': 0.11497184898685148}\n",
      "AUC score of test 1 f 0.5\n",
      "Current parameters of fold number 2 -> {'n_estimators': 532, 'min_child_weight': 44.012358449768634, 'gamma': 547.2035937941474, 'colsample_bytree': 0.11497184898685148}\n",
      "AUC score of test 2 f 0.5\n",
      "Current parameters of fold number 3 -> {'n_estimators': 532, 'min_child_weight': 44.012358449768634, 'gamma': 547.2035937941474, 'colsample_bytree': 0.11497184898685148}\n",
      "AUC score of test 3 f 0.5\n",
      "Current parameters of fold number 4 -> {'n_estimators': 532, 'min_child_weight': 44.012358449768634, 'gamma': 547.2035937941474, 'colsample_bytree': 0.11497184898685148}\n",
      "AUC score of test 4 f 0.5\n",
      "Iteration No: 11 ended. Search finished for the next optimal point.\n",
      "Time taken: 0.9005\n",
      "Function value obtained: -0.5000\n",
      "Current minimum: -0.8256\n",
      "Iteration No: 12 started. Searching for the next optimal point.\n",
      "Current parameters of fold number 0 -> {'n_estimators': 672, 'min_child_weight': 92.60471126553439, 'gamma': 53.38501690945877, 'colsample_bytree': 0.9991033587269773}\n",
      "AUC score of test 0 f 0.6271683673469388\n",
      "Current parameters of fold number 1 -> {'n_estimators': 672, 'min_child_weight': 92.60471126553439, 'gamma': 53.38501690945877, 'colsample_bytree': 0.9991033587269773}\n",
      "AUC score of test 1 f 0.6613265306122449\n",
      "Current parameters of fold number 2 -> {'n_estimators': 672, 'min_child_weight': 92.60471126553439, 'gamma': 53.38501690945877, 'colsample_bytree': 0.9991033587269773}\n",
      "AUC score of test 2 f 0.7239540816326531\n",
      "Current parameters of fold number 3 -> {'n_estimators': 672, 'min_child_weight': 92.60471126553439, 'gamma': 53.38501690945877, 'colsample_bytree': 0.9991033587269773}\n",
      "AUC score of test 3 f 0.7911224489795918\n",
      "Current parameters of fold number 4 -> {'n_estimators': 672, 'min_child_weight': 92.60471126553439, 'gamma': 53.38501690945877, 'colsample_bytree': 0.9991033587269773}\n",
      "AUC score of test 4 f 0.7258163265306122\n",
      "Iteration No: 12 ended. Search finished for the next optimal point.\n",
      "Time taken: 0.9841\n",
      "Function value obtained: -0.7059\n",
      "Current minimum: -0.8256\n",
      "Iteration No: 13 started. Searching for the next optimal point.\n",
      "Current parameters of fold number 0 -> {'n_estimators': 100, 'min_child_weight': 14.830433615693565, 'gamma': 20.56902935587912, 'colsample_bytree': 1.0}\n",
      "AUC score of test 0 f 0.6417602040816328\n",
      "Current parameters of fold number 1 -> {'n_estimators': 100, 'min_child_weight': 14.830433615693565, 'gamma': 20.56902935587912, 'colsample_bytree': 1.0}\n",
      "AUC score of test 1 f 0.7028061224489797\n",
      "Current parameters of fold number 2 -> {'n_estimators': 100, 'min_child_weight': 14.830433615693565, 'gamma': 20.56902935587912, 'colsample_bytree': 1.0}\n",
      "AUC score of test 2 f 0.8938520408163265\n",
      "Current parameters of fold number 3 -> {'n_estimators': 100, 'min_child_weight': 14.830433615693565, 'gamma': 20.56902935587912, 'colsample_bytree': 1.0}\n",
      "AUC score of test 3 f 0.9259948979591838\n",
      "Current parameters of fold number 4 -> {'n_estimators': 100, 'min_child_weight': 14.830433615693565, 'gamma': 20.56902935587912, 'colsample_bytree': 1.0}\n",
      "AUC score of test 4 f 0.9145408163265305\n",
      "Iteration No: 13 ended. Search finished for the next optimal point.\n",
      "Time taken: 0.7533\n",
      "Function value obtained: -0.8158\n",
      "Current minimum: -0.8256\n",
      "Iteration No: 14 started. Searching for the next optimal point.\n",
      "Current parameters of fold number 0 -> {'n_estimators': 2000, 'min_child_weight': 80.84444646991882, 'gamma': 0.01, 'colsample_bytree': 0.2794995630578849}\n",
      "AUC score of test 0 f 0.6572704081632653\n",
      "Current parameters of fold number 1 -> {'n_estimators': 2000, 'min_child_weight': 80.84444646991882, 'gamma': 0.01, 'colsample_bytree': 0.2794995630578849}\n",
      "AUC score of test 1 f 0.6833163265306123\n",
      "Current parameters of fold number 2 -> {'n_estimators': 2000, 'min_child_weight': 80.84444646991882, 'gamma': 0.01, 'colsample_bytree': 0.2794995630578849}\n",
      "AUC score of test 2 f 0.9027040816326531\n",
      "Current parameters of fold number 3 -> {'n_estimators': 2000, 'min_child_weight': 80.84444646991882, 'gamma': 0.01, 'colsample_bytree': 0.2794995630578849}\n",
      "AUC score of test 3 f 0.950280612244898\n",
      "Current parameters of fold number 4 -> {'n_estimators': 2000, 'min_child_weight': 80.84444646991882, 'gamma': 0.01, 'colsample_bytree': 0.2794995630578849}\n",
      "AUC score of test 4 f 0.9265051020408164\n",
      "Iteration No: 14 ended. Search finished for the next optimal point.\n",
      "Time taken: 2.8074\n",
      "Function value obtained: -0.8240\n",
      "Current minimum: -0.8256\n",
      "Iteration No: 15 started. Searching for the next optimal point.\n",
      "Current parameters of fold number 0 -> {'n_estimators': 2000, 'min_child_weight': 100.0, 'gamma': 19.07592584069745, 'colsample_bytree': 0.157576852214134}\n",
      "AUC score of test 0 f 0.6370663265306122\n",
      "Current parameters of fold number 1 -> {'n_estimators': 2000, 'min_child_weight': 100.0, 'gamma': 19.07592584069745, 'colsample_bytree': 0.157576852214134}\n",
      "AUC score of test 1 f 0.6690561224489797\n",
      "Current parameters of fold number 2 -> {'n_estimators': 2000, 'min_child_weight': 100.0, 'gamma': 19.07592584069745, 'colsample_bytree': 0.157576852214134}\n",
      "AUC score of test 2 f 0.8028571428571428\n",
      "Current parameters of fold number 3 -> {'n_estimators': 2000, 'min_child_weight': 100.0, 'gamma': 19.07592584069745, 'colsample_bytree': 0.157576852214134}\n",
      "AUC score of test 3 f 0.840561224489796\n",
      "Current parameters of fold number 4 -> {'n_estimators': 2000, 'min_child_weight': 100.0, 'gamma': 19.07592584069745, 'colsample_bytree': 0.157576852214134}\n",
      "AUC score of test 4 f 0.7867602040816326\n",
      "Iteration No: 15 ended. Search finished for the next optimal point.\n",
      "Time taken: 2.2981\n",
      "Function value obtained: -0.7473\n",
      "Current minimum: -0.8256\n",
      "Iteration No: 16 started. Searching for the next optimal point.\n",
      "Current parameters of fold number 0 -> {'n_estimators': 100, 'min_child_weight': 59.564517439332505, 'gamma': 0.01, 'colsample_bytree': 1.0}\n",
      "AUC score of test 0 f 0.6652295918367348\n",
      "Current parameters of fold number 1 -> {'n_estimators': 100, 'min_child_weight': 59.564517439332505, 'gamma': 0.01, 'colsample_bytree': 1.0}\n",
      "AUC score of test 1 f 0.6924234693877551\n",
      "Current parameters of fold number 2 -> {'n_estimators': 100, 'min_child_weight': 59.564517439332505, 'gamma': 0.01, 'colsample_bytree': 1.0}\n",
      "AUC score of test 2 f 0.9265051020408164\n",
      "Current parameters of fold number 3 -> {'n_estimators': 100, 'min_child_weight': 59.564517439332505, 'gamma': 0.01, 'colsample_bytree': 1.0}\n",
      "AUC score of test 3 f 0.9691836734693877\n",
      "Current parameters of fold number 4 -> {'n_estimators': 100, 'min_child_weight': 59.564517439332505, 'gamma': 0.01, 'colsample_bytree': 1.0}\n",
      "AUC score of test 4 f 0.9381122448979592\n",
      "Iteration No: 16 ended. Search finished for the next optimal point.\n",
      "Time taken: 0.5817\n",
      "Function value obtained: -0.8383\n",
      "Current minimum: -0.8383\n",
      "Iteration No: 17 started. Searching for the next optimal point.\n",
      "Current parameters of fold number 0 -> {'n_estimators': 100, 'min_child_weight': 0.01, 'gamma': 91.26278224745539, 'colsample_bytree': 1.0}\n",
      "AUC score of test 0 f 0.5719897959183673\n",
      "Current parameters of fold number 1 -> {'n_estimators': 100, 'min_child_weight': 0.01, 'gamma': 91.26278224745539, 'colsample_bytree': 1.0}\n",
      "AUC score of test 1 f 0.6283163265306122\n",
      "Current parameters of fold number 2 -> {'n_estimators': 100, 'min_child_weight': 0.01, 'gamma': 91.26278224745539, 'colsample_bytree': 1.0}\n",
      "AUC score of test 2 f 0.5\n",
      "Current parameters of fold number 3 -> {'n_estimators': 100, 'min_child_weight': 0.01, 'gamma': 91.26278224745539, 'colsample_bytree': 1.0}\n",
      "AUC score of test 3 f 0.5\n",
      "Current parameters of fold number 4 -> {'n_estimators': 100, 'min_child_weight': 0.01, 'gamma': 91.26278224745539, 'colsample_bytree': 1.0}\n",
      "AUC score of test 4 f 0.5\n",
      "Iteration No: 17 ended. Search finished for the next optimal point.\n",
      "Time taken: 1.0648\n",
      "Function value obtained: -0.5401\n",
      "Current minimum: -0.8383\n",
      "Iteration No: 18 started. Searching for the next optimal point.\n",
      "Current parameters of fold number 0 -> {'n_estimators': 100, 'min_child_weight': 0.01, 'gamma': 247.60426027827913, 'colsample_bytree': 0.5171271725781471}\n",
      "AUC score of test 0 f 0.5\n",
      "Current parameters of fold number 1 -> {'n_estimators': 100, 'min_child_weight': 0.01, 'gamma': 247.60426027827913, 'colsample_bytree': 0.5171271725781471}\n",
      "AUC score of test 1 f 0.5\n",
      "Current parameters of fold number 2 -> {'n_estimators': 100, 'min_child_weight': 0.01, 'gamma': 247.60426027827913, 'colsample_bytree': 0.5171271725781471}\n",
      "AUC score of test 2 f 0.5\n",
      "Current parameters of fold number 3 -> {'n_estimators': 100, 'min_child_weight': 0.01, 'gamma': 247.60426027827913, 'colsample_bytree': 0.5171271725781471}\n",
      "AUC score of test 3 f 0.5\n",
      "Current parameters of fold number 4 -> {'n_estimators': 100, 'min_child_weight': 0.01, 'gamma': 247.60426027827913, 'colsample_bytree': 0.5171271725781471}\n",
      "AUC score of test 4 f 0.5\n",
      "Iteration No: 18 ended. Search finished for the next optimal point.\n",
      "Time taken: 0.9577\n",
      "Function value obtained: -0.5000\n",
      "Current minimum: -0.8383\n",
      "Iteration No: 19 started. Searching for the next optimal point.\n",
      "Current parameters of fold number 0 -> {'n_estimators': 100, 'min_child_weight': 0.01, 'gamma': 0.01, 'colsample_bytree': 1.0}\n",
      "AUC score of test 0 f 0.6786224489795919\n",
      "Current parameters of fold number 1 -> {'n_estimators': 100, 'min_child_weight': 0.01, 'gamma': 0.01, 'colsample_bytree': 1.0}\n",
      "AUC score of test 1 f 0.7132142857142858\n",
      "Current parameters of fold number 2 -> {'n_estimators': 100, 'min_child_weight': 0.01, 'gamma': 0.01, 'colsample_bytree': 1.0}\n",
      "AUC score of test 2 f 0.9381122448979592\n",
      "Current parameters of fold number 3 -> {'n_estimators': 100, 'min_child_weight': 0.01, 'gamma': 0.01, 'colsample_bytree': 1.0}\n",
      "AUC score of test 3 f 0.9792857142857143\n",
      "Current parameters of fold number 4 -> {'n_estimators': 100, 'min_child_weight': 0.01, 'gamma': 0.01, 'colsample_bytree': 1.0}\n",
      "AUC score of test 4 f 0.9854591836734694\n",
      "Iteration No: 19 ended. Search finished for the next optimal point.\n",
      "Time taken: 1.3528\n",
      "Function value obtained: -0.8589\n",
      "Current minimum: -0.8589\n",
      "Iteration No: 20 started. Searching for the next optimal point.\n",
      "Current parameters of fold number 0 -> {'n_estimators': 100, 'min_child_weight': 0.01, 'gamma': 0.01, 'colsample_bytree': 1.0}\n",
      "AUC score of test 0 f 0.6786224489795919\n",
      "Current parameters of fold number 1 -> {'n_estimators': 100, 'min_child_weight': 0.01, 'gamma': 0.01, 'colsample_bytree': 1.0}\n",
      "AUC score of test 1 f 0.7132142857142858\n",
      "Current parameters of fold number 2 -> {'n_estimators': 100, 'min_child_weight': 0.01, 'gamma': 0.01, 'colsample_bytree': 1.0}\n",
      "AUC score of test 2 f 0.9381122448979592\n",
      "Current parameters of fold number 3 -> {'n_estimators': 100, 'min_child_weight': 0.01, 'gamma': 0.01, 'colsample_bytree': 1.0}\n",
      "AUC score of test 3 f 0.9792857142857143\n",
      "Current parameters of fold number 4 -> {'n_estimators': 100, 'min_child_weight': 0.01, 'gamma': 0.01, 'colsample_bytree': 1.0}\n",
      "AUC score of test 4 f 0.9854591836734694\n",
      "Iteration No: 20 ended. Search finished for the next optimal point.\n",
      "Time taken: 0.9442\n",
      "Function value obtained: -0.8589\n",
      "Current minimum: -0.8589\n",
      "Iteration No: 21 started. Searching for the next optimal point.\n",
      "Current parameters of fold number 0 -> {'n_estimators': 100, 'min_child_weight': 0.01, 'gamma': 0.01, 'colsample_bytree': 1.0}\n",
      "AUC score of test 0 f 0.6786224489795919\n",
      "Current parameters of fold number 1 -> {'n_estimators': 100, 'min_child_weight': 0.01, 'gamma': 0.01, 'colsample_bytree': 1.0}\n",
      "AUC score of test 1 f 0.7132142857142858\n",
      "Current parameters of fold number 2 -> {'n_estimators': 100, 'min_child_weight': 0.01, 'gamma': 0.01, 'colsample_bytree': 1.0}\n",
      "AUC score of test 2 f 0.9381122448979592\n",
      "Current parameters of fold number 3 -> {'n_estimators': 100, 'min_child_weight': 0.01, 'gamma': 0.01, 'colsample_bytree': 1.0}\n",
      "AUC score of test 3 f 0.9792857142857143\n",
      "Current parameters of fold number 4 -> {'n_estimators': 100, 'min_child_weight': 0.01, 'gamma': 0.01, 'colsample_bytree': 1.0}\n",
      "AUC score of test 4 f 0.9854591836734694\n",
      "Iteration No: 21 ended. Search finished for the next optimal point.\n",
      "Time taken: 1.4913\n",
      "Function value obtained: -0.8589\n",
      "Current minimum: -0.8589\n",
      "Iteration No: 22 started. Searching for the next optimal point.\n",
      "Current parameters of fold number 0 -> {'n_estimators': 100, 'min_child_weight': 0.01, 'gamma': 0.01, 'colsample_bytree': 1.0}\n",
      "AUC score of test 0 f 0.6786224489795919\n",
      "Current parameters of fold number 1 -> {'n_estimators': 100, 'min_child_weight': 0.01, 'gamma': 0.01, 'colsample_bytree': 1.0}\n",
      "AUC score of test 1 f 0.7132142857142858\n",
      "Current parameters of fold number 2 -> {'n_estimators': 100, 'min_child_weight': 0.01, 'gamma': 0.01, 'colsample_bytree': 1.0}\n",
      "AUC score of test 2 f 0.9381122448979592\n",
      "Current parameters of fold number 3 -> {'n_estimators': 100, 'min_child_weight': 0.01, 'gamma': 0.01, 'colsample_bytree': 1.0}\n",
      "AUC score of test 3 f 0.9792857142857143\n",
      "Current parameters of fold number 4 -> {'n_estimators': 100, 'min_child_weight': 0.01, 'gamma': 0.01, 'colsample_bytree': 1.0}\n",
      "AUC score of test 4 f 0.9854591836734694\n",
      "Iteration No: 22 ended. Search finished for the next optimal point.\n",
      "Time taken: 1.2932\n",
      "Function value obtained: -0.8589\n",
      "Current minimum: -0.8589\n",
      "Iteration No: 23 started. Searching for the next optimal point.\n",
      "Current parameters of fold number 0 -> {'n_estimators': 791, 'min_child_weight': 100.0, 'gamma': 469.3498817297414, 'colsample_bytree': 1.0}\n",
      "AUC score of test 0 f 0.5\n",
      "Current parameters of fold number 1 -> {'n_estimators': 791, 'min_child_weight': 100.0, 'gamma': 469.3498817297414, 'colsample_bytree': 1.0}\n",
      "AUC score of test 1 f 0.5\n",
      "Current parameters of fold number 2 -> {'n_estimators': 791, 'min_child_weight': 100.0, 'gamma': 469.3498817297414, 'colsample_bytree': 1.0}\n",
      "AUC score of test 2 f 0.5\n",
      "Current parameters of fold number 3 -> {'n_estimators': 791, 'min_child_weight': 100.0, 'gamma': 469.3498817297414, 'colsample_bytree': 1.0}\n",
      "AUC score of test 3 f 0.5\n",
      "Current parameters of fold number 4 -> {'n_estimators': 791, 'min_child_weight': 100.0, 'gamma': 469.3498817297414, 'colsample_bytree': 1.0}\n",
      "AUC score of test 4 f 0.5\n",
      "Iteration No: 23 ended. Search finished for the next optimal point.\n",
      "Time taken: 1.3515\n",
      "Function value obtained: -0.5000\n",
      "Current minimum: -0.8589\n",
      "Iteration No: 24 started. Searching for the next optimal point.\n",
      "Current parameters of fold number 0 -> {'n_estimators': 100, 'min_child_weight': 100.0, 'gamma': 773.148766412676, 'colsample_bytree': 0.3441462969956056}\n",
      "AUC score of test 0 f 0.5\n",
      "Current parameters of fold number 1 -> {'n_estimators': 100, 'min_child_weight': 100.0, 'gamma': 773.148766412676, 'colsample_bytree': 0.3441462969956056}\n",
      "AUC score of test 1 f 0.5\n",
      "Current parameters of fold number 2 -> {'n_estimators': 100, 'min_child_weight': 100.0, 'gamma': 773.148766412676, 'colsample_bytree': 0.3441462969956056}\n",
      "AUC score of test 2 f 0.5\n",
      "Current parameters of fold number 3 -> {'n_estimators': 100, 'min_child_weight': 100.0, 'gamma': 773.148766412676, 'colsample_bytree': 0.3441462969956056}\n",
      "AUC score of test 3 f 0.5\n",
      "Current parameters of fold number 4 -> {'n_estimators': 100, 'min_child_weight': 100.0, 'gamma': 773.148766412676, 'colsample_bytree': 0.3441462969956056}\n",
      "AUC score of test 4 f 0.5\n",
      "Iteration No: 24 ended. Search finished for the next optimal point.\n",
      "Time taken: 0.7671\n",
      "Function value obtained: -0.5000\n",
      "Current minimum: -0.8589\n",
      "Iteration No: 25 started. Searching for the next optimal point.\n",
      "Current parameters of fold number 0 -> {'n_estimators': 100, 'min_child_weight': 0.01, 'gamma': 0.01, 'colsample_bytree': 0.1}\n",
      "AUC score of test 0 f 0.65\n",
      "Current parameters of fold number 1 -> {'n_estimators': 100, 'min_child_weight': 0.01, 'gamma': 0.01, 'colsample_bytree': 0.1}\n",
      "AUC score of test 1 f 0.6696938775510204\n",
      "Current parameters of fold number 2 -> {'n_estimators': 100, 'min_child_weight': 0.01, 'gamma': 0.01, 'colsample_bytree': 0.1}\n",
      "AUC score of test 2 f 0.9288775510204081\n",
      "Current parameters of fold number 3 -> {'n_estimators': 100, 'min_child_weight': 0.01, 'gamma': 0.01, 'colsample_bytree': 0.1}\n",
      "AUC score of test 3 f 0.9957142857142857\n",
      "Current parameters of fold number 4 -> {'n_estimators': 100, 'min_child_weight': 0.01, 'gamma': 0.01, 'colsample_bytree': 0.1}\n",
      "AUC score of test 4 f 0.9948469387755101\n",
      "Iteration No: 25 ended. Search finished for the next optimal point.\n",
      "Time taken: 0.9394\n",
      "Function value obtained: -0.8478\n",
      "Current minimum: -0.8589\n",
      "Iteration No: 26 started. Searching for the next optimal point.\n",
      "Current parameters of fold number 0 -> {'n_estimators': 2000, 'min_child_weight': 0.01, 'gamma': 925.8270058134949, 'colsample_bytree': 0.6124089541818631}\n",
      "AUC score of test 0 f 0.5\n",
      "Current parameters of fold number 1 -> {'n_estimators': 2000, 'min_child_weight': 0.01, 'gamma': 925.8270058134949, 'colsample_bytree': 0.6124089541818631}\n",
      "AUC score of test 1 f 0.5\n",
      "Current parameters of fold number 2 -> {'n_estimators': 2000, 'min_child_weight': 0.01, 'gamma': 925.8270058134949, 'colsample_bytree': 0.6124089541818631}\n",
      "AUC score of test 2 f 0.5\n",
      "Current parameters of fold number 3 -> {'n_estimators': 2000, 'min_child_weight': 0.01, 'gamma': 925.8270058134949, 'colsample_bytree': 0.6124089541818631}\n",
      "AUC score of test 3 f 0.5\n",
      "Current parameters of fold number 4 -> {'n_estimators': 2000, 'min_child_weight': 0.01, 'gamma': 925.8270058134949, 'colsample_bytree': 0.6124089541818631}\n",
      "AUC score of test 4 f 0.5\n",
      "Iteration No: 26 ended. Search finished for the next optimal point.\n",
      "Time taken: 8.6764\n",
      "Function value obtained: -0.5000\n",
      "Current minimum: -0.8589\n",
      "Iteration No: 27 started. Searching for the next optimal point.\n",
      "Current parameters of fold number 0 -> {'n_estimators': 100, 'min_child_weight': 12.08664002232137, 'gamma': 0.01, 'colsample_bytree': 1.0}\n",
      "AUC score of test 0 f 0.6608673469387756\n",
      "Current parameters of fold number 1 -> {'n_estimators': 100, 'min_child_weight': 12.08664002232137, 'gamma': 0.01, 'colsample_bytree': 1.0}\n",
      "AUC score of test 1 f 0.7146938775510204\n",
      "Current parameters of fold number 2 -> {'n_estimators': 100, 'min_child_weight': 12.08664002232137, 'gamma': 0.01, 'colsample_bytree': 1.0}\n",
      "AUC score of test 2 f 0.9333673469387754\n",
      "Current parameters of fold number 3 -> {'n_estimators': 100, 'min_child_weight': 12.08664002232137, 'gamma': 0.01, 'colsample_bytree': 1.0}\n",
      "AUC score of test 3 f 0.976938775510204\n",
      "Current parameters of fold number 4 -> {'n_estimators': 100, 'min_child_weight': 12.08664002232137, 'gamma': 0.01, 'colsample_bytree': 1.0}\n",
      "AUC score of test 4 f 0.9783673469387756\n",
      "Iteration No: 27 ended. Search finished for the next optimal point.\n",
      "Time taken: 1.1025\n",
      "Function value obtained: -0.8528\n",
      "Current minimum: -0.8589\n",
      "Iteration No: 28 started. Searching for the next optimal point.\n",
      "Current parameters of fold number 0 -> {'n_estimators': 100, 'min_child_weight': 0.01, 'gamma': 0.01, 'colsample_bytree': 1.0}\n",
      "AUC score of test 0 f 0.6786224489795919\n",
      "Current parameters of fold number 1 -> {'n_estimators': 100, 'min_child_weight': 0.01, 'gamma': 0.01, 'colsample_bytree': 1.0}\n",
      "AUC score of test 1 f 0.7132142857142858\n",
      "Current parameters of fold number 2 -> {'n_estimators': 100, 'min_child_weight': 0.01, 'gamma': 0.01, 'colsample_bytree': 1.0}\n",
      "AUC score of test 2 f 0.9381122448979592\n",
      "Current parameters of fold number 3 -> {'n_estimators': 100, 'min_child_weight': 0.01, 'gamma': 0.01, 'colsample_bytree': 1.0}\n",
      "AUC score of test 3 f 0.9792857142857143\n",
      "Current parameters of fold number 4 -> {'n_estimators': 100, 'min_child_weight': 0.01, 'gamma': 0.01, 'colsample_bytree': 1.0}\n",
      "AUC score of test 4 f 0.9854591836734694\n",
      "Iteration No: 28 ended. Search finished for the next optimal point.\n",
      "Time taken: 1.2808\n",
      "Function value obtained: -0.8589\n",
      "Current minimum: -0.8589\n",
      "Iteration No: 29 started. Searching for the next optimal point.\n",
      "Current parameters of fold number 0 -> {'n_estimators': 100, 'min_child_weight': 0.01, 'gamma': 4.327197509790755, 'colsample_bytree': 1.0}\n",
      "AUC score of test 0 f 0.6972448979591837\n",
      "Current parameters of fold number 1 -> {'n_estimators': 100, 'min_child_weight': 0.01, 'gamma': 4.327197509790755, 'colsample_bytree': 1.0}\n",
      "AUC score of test 1 f 0.7340306122448979\n",
      "Current parameters of fold number 2 -> {'n_estimators': 100, 'min_child_weight': 0.01, 'gamma': 4.327197509790755, 'colsample_bytree': 1.0}\n",
      "AUC score of test 2 f 0.9281887755102042\n",
      "Current parameters of fold number 3 -> {'n_estimators': 100, 'min_child_weight': 0.01, 'gamma': 4.327197509790755, 'colsample_bytree': 1.0}\n",
      "AUC score of test 3 f 0.9691326530612245\n",
      "Current parameters of fold number 4 -> {'n_estimators': 100, 'min_child_weight': 0.01, 'gamma': 4.327197509790755, 'colsample_bytree': 1.0}\n",
      "AUC score of test 4 f 0.975484693877551\n",
      "Iteration No: 29 ended. Search finished for the next optimal point.\n",
      "Time taken: 1.1618\n",
      "Function value obtained: -0.8608\n",
      "Current minimum: -0.8608\n",
      "Iteration No: 30 started. Searching for the next optimal point.\n",
      "Current parameters of fold number 0 -> {'n_estimators': 2000, 'min_child_weight': 0.01, 'gamma': 621.4354227967827, 'colsample_bytree': 1.0}\n",
      "AUC score of test 0 f 0.5\n",
      "Current parameters of fold number 1 -> {'n_estimators': 2000, 'min_child_weight': 0.01, 'gamma': 621.4354227967827, 'colsample_bytree': 1.0}\n",
      "AUC score of test 1 f 0.5\n",
      "Current parameters of fold number 2 -> {'n_estimators': 2000, 'min_child_weight': 0.01, 'gamma': 621.4354227967827, 'colsample_bytree': 1.0}\n",
      "AUC score of test 2 f 0.5\n",
      "Current parameters of fold number 3 -> {'n_estimators': 2000, 'min_child_weight': 0.01, 'gamma': 621.4354227967827, 'colsample_bytree': 1.0}\n",
      "AUC score of test 3 f 0.5\n",
      "Current parameters of fold number 4 -> {'n_estimators': 2000, 'min_child_weight': 0.01, 'gamma': 621.4354227967827, 'colsample_bytree': 1.0}\n",
      "AUC score of test 4 f 0.5\n",
      "Iteration No: 30 ended. Search finished for the next optimal point.\n",
      "Time taken: 9.3827\n",
      "Function value obtained: -0.5000\n",
      "Current minimum: -0.8608\n"
     ]
    }
   ],
   "source": [
    "# output of this cell is very large that's why it is hidden\n",
    "\n",
    "result = gp_minimize(optimize_function, dimensions = param_spaces, n_calls = 30, n_random_starts = 5, verbose = 10)"
   ]
  },
  {
   "cell_type": "code",
   "execution_count": 151,
   "metadata": {},
   "outputs": [
    {
     "name": "stdout",
     "output_type": "stream",
     "text": [
      "Best Parameters : {'n_estimators': 100, 'min_child_weight': 0.01, 'gamma': 4.327197509790755, 'colsample_bytree': 1.0}\n",
      "Best AUC score : -0.8608163265306121\n"
     ]
    }
   ],
   "source": [
    "best_params = dict(zip(param_names, result.x))\n",
    "print(f'Best Parameters : {best_params}')\n",
    "print(f'Best AUC score : {result.fun}')"
   ]
  },
  {
   "cell_type": "code",
   "execution_count": 152,
   "metadata": {},
   "outputs": [
    {
     "name": "stdout",
     "output_type": "stream",
     "text": [
      "Train AUC Score 0.9464508928571429\n",
      "Test AUC Score 0.8453571428571429\n"
     ]
    }
   ],
   "source": [
    "# splitting train and validation data\n",
    "X_train, X_val, y_train, y_val = train_test_split(X_smote, Y_smote, test_size = 0.2 ,random_state = 2020)\n",
    "\n",
    "# initialize model with best parameters\n",
    "clf = XGBClassifier(**best_params)\n",
    "\n",
    "# fit model\n",
    "clf.fit(X_train, y_train)\n",
    "\n",
    "# predicting probabilities of training data\n",
    "y_train_pred = clf.predict_proba(X_train)\n",
    "\n",
    "\n",
    "y_train_pred_pos = y_train_pred[:,1]\n",
    "\n",
    "y_val_pred = clf.predict_proba(X_val)\n",
    "y_val_pred_pos = y_val_pred[:,1]\n",
    "\n",
    "auc_train = roc_auc_score(y_train, y_train_pred_pos)\n",
    "auc_test = roc_auc_score(y_val, y_val_pred_pos)\n",
    "\n",
    "print(f\"Train AUC Score {auc_train}\")\n",
    "print(f\"Test AUC Score {auc_test}\")\n",
    "\n",
    "fpr, tpr, _ = roc_curve(y_val, y_val_pred_pos)"
   ]
  },
  {
   "cell_type": "code",
   "execution_count": 153,
   "metadata": {},
   "outputs": [
    {
     "data": {
      "image/png": "[encoded data removed]",
      "text/plain": [
       "<Figure size 1080x576 with 1 Axes>"
      ]
     },
     "metadata": {},
     "output_type": "display_data"
    }
   ],
   "source": [
    "plot_learning_cuve(XGBClassifier(**best_params),X_smote,Y_smote)"
   ]
  },
  {
   "cell_type": "code",
   "execution_count": 154,
   "metadata": {},
   "outputs": [
    {
     "data": {
      "image/png": "[encoded data removed]",
      "text/plain": [
       "<Figure size 1152x432 with 1 Axes>"
      ]
     },
     "metadata": {},
     "output_type": "display_data"
    }
   ],
   "source": [
    "plot_auc_curve(fpr, tpr, auc_test)"
   ]
  },
  {
   "cell_type": "code",
   "execution_count": null,
   "metadata": {},
   "outputs": [],
   "source": []
  }
 ],
 "metadata": {
  "kernelspec": {
   "display_name": "Python 3",
   "language": "python",
   "name": "python3"
  },
  "language_info": {
   "codemirror_mode": {
    "name": "ipython",
    "version": 3
   },
   "file_extension": ".py",
   "mimetype": "text/x-python",
   "name": "python",
   "nbconvert_exporter": "python",
   "pygments_lexer": "ipython3",
   "version": "3.7.9"
  }
 },
 "nbformat": 4,
 "nbformat_minor": 4
}
